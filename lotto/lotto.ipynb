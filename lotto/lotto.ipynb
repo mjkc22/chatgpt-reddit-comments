{
 "cells": [
  {
   "cell_type": "code",
   "execution_count": 1,
   "id": "708e3e97-2322-4eea-93d9-68601238ba8b",
   "metadata": {},
   "outputs": [],
   "source": [
    "import random\n",
    "random.seed()"
   ]
  },
  {
   "cell_type": "code",
   "execution_count": 2,
   "id": "3ce582cb-2cef-401a-855a-9599cde6f972",
   "metadata": {},
   "outputs": [
    {
     "data": {
      "text/plain": [
       "798"
      ]
     },
     "execution_count": 2,
     "metadata": {},
     "output_type": "execute_result"
    }
   ],
   "source": [
    "random.randint(1,1000)"
   ]
  },
  {
   "cell_type": "code",
   "execution_count": 3,
   "id": "2482a4fb-57e2-4832-a801-2391d0998071",
   "metadata": {},
   "outputs": [],
   "source": [
    "random_list=[]\n",
    "\n",
    "for _ in range(100):\n",
    "       random_list.append(random.randint(1,1000))"
   ]
  },
  {
   "cell_type": "code",
   "execution_count": 5,
   "id": "23744a2c-cde3-4fcc-a464-49ef8c771f6b",
   "metadata": {},
   "outputs": [
    {
     "name": "stdout",
     "output_type": "stream",
     "text": [
      "991\n"
     ]
    }
   ],
   "source": [
    "max_value = random_list[0]\n",
    "\n",
    "for i in random_list:\n",
    "    if max_value<i:\n",
    "        max_value = i\n",
    "        \n",
    "print(max_value)"
   ]
  },
  {
   "cell_type": "code",
   "execution_count": 6,
   "id": "f9402aca-2453-4899-90d1-2a16c51c0f95",
   "metadata": {},
   "outputs": [],
   "source": [
    "lotto = list(range(1,46))"
   ]
  },
  {
   "cell_type": "code",
   "execution_count": 7,
   "id": "be2e4461-bcad-41ca-91c9-ec272128ec1a",
   "metadata": {},
   "outputs": [],
   "source": [
    "random.shuffle(lotto)"
   ]
  },
  {
   "cell_type": "code",
   "execution_count": 8,
   "id": "0dc94c91-02f7-465f-b1b0-f6740596ebdd",
   "metadata": {},
   "outputs": [
    {
     "name": "stdout",
     "output_type": "stream",
     "text": [
      "[8, 10, 11, 12, 36, 5]\n",
      "[26, 14, 9, 36, 17, 13]\n",
      "[15, 4, 7, 20, 14, 3]\n",
      "[44, 12, 1, 34, 38, 14]\n",
      "[45, 6, 28, 4, 17, 36]\n",
      "[45, 34, 41, 11, 28, 38]\n",
      "[27, 39, 5, 22, 11, 7]\n",
      "[41, 39, 12, 45, 16, 28]\n",
      "[26, 1, 17, 14, 30, 7]\n",
      "[11, 32, 30, 7, 1, 5]\n"
     ]
    }
   ],
   "source": [
    "for _ in range(10):\n",
    "    random.shuffle(lotto)\n",
    "    print(lotto[:6])"
   ]
  },
  {
   "cell_type": "code",
   "execution_count": null,
   "id": "3359c25c-ac90-4553-bb7e-1c95d0a1b5d9",
   "metadata": {},
   "outputs": [],
   "source": []
  }
 ],
 "metadata": {
  "kernelspec": {
   "display_name": "Python 3 (ipykernel)",
   "language": "python",
   "name": "python3"
  },
  "language_info": {
   "codemirror_mode": {
    "name": "ipython",
    "version": 3
   },
   "file_extension": ".py",
   "mimetype": "text/x-python",
   "name": "python",
   "nbconvert_exporter": "python",
   "pygments_lexer": "ipython3",
   "version": "3.9.12"
  }
 },
 "nbformat": 4,
 "nbformat_minor": 5
}
