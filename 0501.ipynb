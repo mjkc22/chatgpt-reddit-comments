{
 "cells": [
  {
   "cell_type": "code",
   "execution_count": 6,
   "id": "afcf8a10",
   "metadata": {},
   "outputs": [
    {
     "name": "stdout",
     "output_type": "stream",
     "text": [
      "256\n",
      "#하나만 출력\n",
      "#여러개 출력 두번째 출력\n",
      "\n",
      "\n",
      "#세번째 출력\n",
      "안석빌딩 9 층\n"
     ]
    }
   ],
   "source": [
    "#하나만 출력\n",
    "print(256)\n",
    "print(\"#하나만 출력\")\n",
    "print(\"#여러개 출력\", \"두번째 출력\")\n",
    "print()\n",
    "print()\n",
    "print(\"#세번째 출력\")\n",
    "print(\"안석빌딩\",9,\"층\")"
   ]
  },
  {
   "cell_type": "code",
   "execution_count": 9,
   "id": "4817c74f",
   "metadata": {},
   "outputs": [
    {
     "name": "stdout",
     "output_type": "stream",
     "text": [
      "<class 'int'>\n",
      "<class 'str'>\n"
     ]
    }
   ],
   "source": [
    "print(type(345))\n",
    "print(type(\"345\"))"
   ]
  },
  {
   "cell_type": "code",
   "execution_count": 13,
   "id": "b53eb214",
   "metadata": {},
   "outputs": [
    {
     "name": "stdout",
     "output_type": "stream",
     "text": [
      "\"안녕하세요\"라고 말했습니다.\n",
      "\"안녕하세요\"라고 말했습니다.\n"
     ]
    }
   ],
   "source": [
    "print('\"안녕하세요\"라고 말했습니다.')\n",
    "print(\"\\\"안녕하세요\\\"라고 말했습니다.\")"
   ]
  },
  {
   "cell_type": "code",
   "execution_count": 17,
   "id": "9c6f4f86",
   "metadata": {},
   "outputs": [
    {
     "name": "stdout",
     "output_type": "stream",
     "text": [
      "안녕하세요\n",
      "안녕하세요\n"
     ]
    }
   ],
   "source": [
    "print('안녕하세요\\n안녕하세요')"
   ]
  },
  {
   "cell_type": "code",
   "execution_count": 16,
   "id": "5a7ca070",
   "metadata": {},
   "outputs": [
    {
     "name": "stdout",
     "output_type": "stream",
     "text": [
      "안녕하세요\t안녕하세요\n"
     ]
    }
   ],
   "source": [
    "print('안녕하세요\\t안녕하세요')"
   ]
  },
  {
   "cell_type": "code",
   "execution_count": 19,
   "id": "164c2264",
   "metadata": {},
   "outputs": [
    {
     "name": "stdout",
     "output_type": "stream",
     "text": [
      "\\ \\ \\ \\\n"
     ]
    }
   ],
   "source": [
    "print(\"\\\\ \\\\ \\\\ \\\\\")"
   ]
  },
  {
   "cell_type": "code",
   "execution_count": 21,
   "id": "43197a61",
   "metadata": {
    "scrolled": true
   },
   "outputs": [
    {
     "name": "stdout",
     "output_type": "stream",
     "text": [
      "동해 물과 백두산이 마르고 닳도록\n",
      "하느님이 보우하사 우리나라 만세.\n",
      "무궁화 삼천리 화려 강산\n",
      "대한 사람, 대한으로 길이 보전하세.\n"
     ]
    }
   ],
   "source": [
    "print(\"동해 물과 백두산이 마르고 닳도록\\n하느님이 보우하사 우리나라 만세.\\n무궁화 삼천리 화려 강산\\n대한 사람, 대한으로 길이 보전하세.\")"
   ]
  },
  {
   "cell_type": "code",
   "execution_count": 23,
   "id": "b00fe6c7",
   "metadata": {},
   "outputs": [
    {
     "name": "stdout",
     "output_type": "stream",
     "text": [
      "동해 물과 백두산이 마르고 닳도록\n",
      "하느님이 보우하사 우리나라 만세.\n",
      "무궁화 삼천리 화려 강산\n",
      "대한 사람, 대한으로 길이 보전하세.\n"
     ]
    }
   ],
   "source": [
    "print(\"\"\"동해 물과 백두산이 마르고 닳도록\n",
    "하느님이 보우하사 우리나라 만세.\n",
    "무궁화 삼천리 화려 강산\n",
    "대한 사람, 대한으로 길이 보전하세.\"\"\")"
   ]
  },
  {
   "cell_type": "code",
   "execution_count": 26,
   "id": "9ccf992a",
   "metadata": {},
   "outputs": [
    {
     "name": "stdout",
     "output_type": "stream",
     "text": [
      "\n",
      "동해 물과 백두산이 마르고 닳도록\n",
      "하느님이 보우하사 우리나라 만세.\n",
      "무궁화 삼천리 화려 강산\n",
      "대한 사람, 대한으로 길이 보전하세.\n",
      "\n"
     ]
    }
   ],
   "source": [
    "print(\"\"\"\n",
    "동해 물과 백두산이 마르고 닳도록\n",
    "하느님이 보우하사 우리나라 만세.\n",
    "무궁화 삼천리 화려 강산\n",
    "대한 사람, 대한으로 길이 보전하세.\n",
    "\"\"\")"
   ]
  },
  {
   "cell_type": "code",
   "execution_count": 27,
   "id": "de47db7e",
   "metadata": {},
   "outputs": [
    {
     "name": "stdout",
     "output_type": "stream",
     "text": [
      "동해 물과 백두산이 마르고 닳도록\n",
      "하느님이 보우하사 우리나라 만세.\n",
      "무궁화 삼천리 화려 강산\n",
      "대한 사람, 대한으로 길이 보전하세.\n"
     ]
    }
   ],
   "source": [
    "# 가장 추천\n",
    "print(\"\"\"\\\n",
    "동해 물과 백두산이 마르고 닳도록\n",
    "하느님이 보우하사 우리나라 만세.\n",
    "무궁화 삼천리 화려 강산\n",
    "대한 사람, 대한으로 길이 보전하세.\\\n",
    "\"\"\")"
   ]
  },
  {
   "cell_type": "code",
   "execution_count": 33,
   "id": "d30bb30b",
   "metadata": {},
   "outputs": [
    {
     "name": "stdout",
     "output_type": "stream",
     "text": [
      "안녕하세요반갑습니다김민진입니다\n",
      "안녕하세요 반갑습니다 김민진입니다\n",
      "안녕하세요안녕하세요안녕하세요\n"
     ]
    }
   ],
   "source": [
    "print('안녕하세요'+'반갑습니다'+'김민진입니다')\n",
    "print('안녕하세요','반갑습니다','김민진입니다')\n",
    "#print('안녕하세요'+2023) #문자열과 숫자는 +로 연결 불가능\n",
    "print('안녕하세요'*3)"
   ]
  },
  {
   "cell_type": "code",
   "execution_count": 36,
   "id": "1a329c12",
   "metadata": {},
   "outputs": [
    {
     "name": "stdout",
     "output_type": "stream",
     "text": [
      "안\n",
      "안\n"
     ]
    }
   ],
   "source": [
    "print(\"안녕하세요\"[0])\n",
    "print(\"안녕하세요\"[-5])"
   ]
  },
  {
   "cell_type": "code",
   "execution_count": 41,
   "id": "6edaeeca",
   "metadata": {},
   "outputs": [
    {
     "name": "stdout",
     "output_type": "stream",
     "text": [
      "안녕\n",
      "녕하\n",
      "하세\n"
     ]
    }
   ],
   "source": [
    "print(\"안녕하세요\"[0:2])\n",
    "print(\"안녕하세요\"[1:3])\n",
    "print(\"안녕하세요\"[2:4])"
   ]
  },
  {
   "cell_type": "code",
   "execution_count": 43,
   "id": "a1e0f872",
   "metadata": {},
   "outputs": [
    {
     "name": "stdout",
     "output_type": "stream",
     "text": [
      "녕하세요\n",
      "안녕하\n"
     ]
    }
   ],
   "source": [
    "print(\"안녕하세요\"[1:])\n",
    "print(\"안녕하세요\"[:3])"
   ]
  },
  {
   "cell_type": "code",
   "execution_count": 59,
   "id": "f1e5d259",
   "metadata": {},
   "outputs": [
    {
     "name": "stdout",
     "output_type": "stream",
     "text": [
      "한국인공지능\n",
      "한국인공지능\n",
      "한국인공지능\n",
      "한국인공지능\n"
     ]
    }
   ],
   "source": [
    "hello = \"한국인공지능협회\"\n",
    "print(hello[:6])\n",
    "print(hello[0:6])\n",
    "print(hello[-8:-2])\n",
    "print(hello[-10:-2])"
   ]
  },
  {
   "cell_type": "code",
   "execution_count": 57,
   "id": "bf072cb5",
   "metadata": {},
   "outputs": [
    {
     "name": "stdout",
     "output_type": "stream",
     "text": [
      "8\n"
     ]
    }
   ],
   "source": [
    "print(len(hello))"
   ]
  },
  {
   "cell_type": "code",
   "execution_count": 61,
   "id": "c38ed83a",
   "metadata": {},
   "outputs": [
    {
     "name": "stdout",
     "output_type": "stream",
     "text": [
      "5 + 7 = 12\n",
      "5 - 7 = -2\n",
      "5 + 7 = 35\n",
      "5 / 7 = 0.7142857142857143\n"
     ]
    }
   ],
   "source": [
    "print('5 + 7 =', 5+7)\n",
    "print('5 - 7 =', 5-7)\n",
    "print('5 + 7 =', 5*7)\n",
    "print('5 / 7 =', 5/7)"
   ]
  },
  {
   "cell_type": "code",
   "execution_count": 62,
   "id": "80cc222c",
   "metadata": {},
   "outputs": [
    {
     "name": "stdout",
     "output_type": "stream",
     "text": [
      "3 / 2 = 1.5\n",
      "3 // 2 = 1\n"
     ]
    }
   ],
   "source": [
    "print('3 / 2 =', 3/2)\n",
    "print('3 // 2 =', 3//2)"
   ]
  },
  {
   "cell_type": "code",
   "execution_count": 63,
   "id": "49b627a5",
   "metadata": {},
   "outputs": [
    {
     "name": "stdout",
     "output_type": "stream",
     "text": [
      "5 % 2 = 1\n"
     ]
    }
   ],
   "source": [
    "print('5 % 2 =', 5%2)"
   ]
  },
  {
   "cell_type": "code",
   "execution_count": 64,
   "id": "7c3abe20",
   "metadata": {},
   "outputs": [
    {
     "name": "stdout",
     "output_type": "stream",
     "text": [
      "2 ** 4 = 16\n"
     ]
    }
   ],
   "source": [
    "print('2 ** 4 =', 2**4)"
   ]
  },
  {
   "cell_type": "code",
   "execution_count": 70,
   "id": "07bd2e8b",
   "metadata": {},
   "outputs": [],
   "source": [
    "pi = 3.14159265\n",
    "r=10"
   ]
  },
  {
   "cell_type": "code",
   "execution_count": 72,
   "id": "8a3208ff",
   "metadata": {},
   "outputs": [
    {
     "name": "stdout",
     "output_type": "stream",
     "text": [
      "원주율 = 3.14159265\n",
      "반지름 = 10\n",
      "원의 둘레 = 62.831853\n",
      "원의 넓이 = 314.159265\n"
     ]
    }
   ],
   "source": [
    "print(\"원주율 =\", pi)\n",
    "print(\"반지름 =\", r)\n",
    "print(\"원의 둘레 =\", 2*pi*r)\n",
    "print(\"원의 넓이 =\", pi*r*r)"
   ]
  },
  {
   "cell_type": "code",
   "execution_count": 74,
   "id": "ffe414f6",
   "metadata": {},
   "outputs": [
    {
     "name": "stdout",
     "output_type": "stream",
     "text": [
      "string: 안녕하세요!!\n"
     ]
    }
   ],
   "source": [
    "str = '안녕하세요'\n",
    "str += '!'\n",
    "str += '!'\n",
    "print('string:', str)"
   ]
  },
  {
   "cell_type": "code",
   "execution_count": 75,
   "id": "013f5b15",
   "metadata": {},
   "outputs": [
    {
     "name": "stdout",
     "output_type": "stream",
     "text": [
      "인사말을 입력하세요:안녕하세요\n"
     ]
    },
    {
     "data": {
      "text/plain": [
       "'안녕하세요'"
      ]
     },
     "execution_count": 75,
     "metadata": {},
     "output_type": "execute_result"
    }
   ],
   "source": [
    "input('인사말을 입력하세요:')"
   ]
  },
  {
   "cell_type": "code",
   "execution_count": 89,
   "id": "5e36e8c5",
   "metadata": {},
   "outputs": [
    {
     "name": "stdout",
     "output_type": "stream",
     "text": [
      "입력> True\n",
      "자료 : True\n",
      "자료형 : <class 'str'>\n"
     ]
    }
   ],
   "source": [
    "string=input('입력> ')\n",
    "print('자료 :', string)\n",
    "print('자료형 :', type(string))"
   ]
  },
  {
   "cell_type": "code",
   "execution_count": 90,
   "id": "ae76cebd",
   "metadata": {},
   "outputs": [
    {
     "name": "stdout",
     "output_type": "stream",
     "text": [
      "정수 입력> 1004\n",
      "자료 : 1004\n",
      "자료형 : <class 'int'>\n"
     ]
    }
   ],
   "source": [
    "intvalue = int(input('정수 입력> '))\n",
    "print('자료 :', intvalue)\n",
    "print('자료형 :', type(intvalue))"
   ]
  },
  {
   "cell_type": "code",
   "execution_count": 96,
   "id": "70becbce",
   "metadata": {},
   "outputs": [
    {
     "name": "stdout",
     "output_type": "stream",
     "text": [
      "True1010101010\n",
      "1054\n"
     ]
    }
   ],
   "source": [
    "string += '10'\n",
    "intvalue += 10\n",
    "\n",
    "print(string)\n",
    "print(intvalue)"
   ]
  },
  {
   "cell_type": "code",
   "execution_count": 97,
   "id": "363ab23c",
   "metadata": {},
   "outputs": [
    {
     "name": "stdout",
     "output_type": "stream",
     "text": [
      "10\n",
      "<class 'str'>\n"
     ]
    }
   ],
   "source": [
    "string_a =\"{}\".format(10)\n",
    "\n",
    "print(string_a)\n",
    "print(type(string_a))"
   ]
  },
  {
   "cell_type": "code",
   "execution_count": 105,
   "id": "04f1bf61",
   "metadata": {},
   "outputs": [
    {
     "name": "stdout",
     "output_type": "stream",
     "text": [
      "5000만원\n",
      "<class 'str'>\n",
      "1 대 100\n",
      "<class 'str'>\n"
     ]
    }
   ],
   "source": [
    "format_a = '{}만원'.format(5000)\n",
    "print(format_a)\n",
    "print(type(format_a))\n",
    "format_d = '{} {} {}'.format(1,'대',100)\n",
    "print(format_d)\n",
    "print(type(format_d))"
   ]
  },
  {
   "cell_type": "code",
   "execution_count": 106,
   "id": "76ceb27f",
   "metadata": {},
   "outputs": [
    {
     "name": "stdout",
     "output_type": "stream",
     "text": [
      "5백 6십 7만원\n"
     ]
    }
   ],
   "source": [
    "format_c = \"{}백 {}십 {}만원\".format(5,6,7,8)\n",
    "print(format_c)"
   ]
  },
  {
   "cell_type": "code",
   "execution_count": 107,
   "id": "109fac01",
   "metadata": {
    "scrolled": true
   },
   "outputs": [
    {
     "ename": "IndexError",
     "evalue": "Replacement index 2 out of range for positional args tuple",
     "output_type": "error",
     "traceback": [
      "\u001b[1;31m---------------------------------------------------------------------------\u001b[0m",
      "\u001b[1;31mIndexError\u001b[0m                                Traceback (most recent call last)",
      "Cell \u001b[1;32mIn[107], line 1\u001b[0m\n\u001b[1;32m----> 1\u001b[0m format_c \u001b[38;5;241m=\u001b[39m \u001b[38;5;124;43m\"\u001b[39;49m\u001b[38;5;132;43;01m{}\u001b[39;49;00m\u001b[38;5;124;43m백 \u001b[39;49m\u001b[38;5;132;43;01m{}\u001b[39;49;00m\u001b[38;5;124;43m십 \u001b[39;49m\u001b[38;5;132;43;01m{}\u001b[39;49;00m\u001b[38;5;124;43m만원\u001b[39;49m\u001b[38;5;124;43m\"\u001b[39;49m\u001b[38;5;241;43m.\u001b[39;49m\u001b[43mformat\u001b[49m\u001b[43m(\u001b[49m\u001b[38;5;241;43m5\u001b[39;49m\u001b[43m,\u001b[49m\u001b[38;5;241;43m6\u001b[39;49m\u001b[43m)\u001b[49m\n\u001b[0;32m      2\u001b[0m \u001b[38;5;28mprint\u001b[39m(format_c)\n",
      "\u001b[1;31mIndexError\u001b[0m: Replacement index 2 out of range for positional args tuple"
     ]
    }
   ],
   "source": [
    "format_c = \"{}백 {}십 {}만원\".format(5,6)\n",
    "print(format_c)"
   ]
  },
  {
   "cell_type": "code",
   "execution_count": 115,
   "id": "f12de596",
   "metadata": {
    "scrolled": true
   },
   "outputs": [
    {
     "name": "stdout",
     "output_type": "stream",
     "text": [
      "52\n",
      "   52\n"
     ]
    }
   ],
   "source": [
    "output_a = \"{:d}\".format(52)\n",
    "print(output_a)\n",
    "output_b = \"{:5d}\".format(52)\n",
    "print(output_b)"
   ]
  },
  {
   "cell_type": "code",
   "execution_count": 117,
   "id": "71c2093a",
   "metadata": {},
   "outputs": [
    {
     "name": "stdout",
     "output_type": "stream",
     "text": [
      "00052\n",
      "-0052\n"
     ]
    }
   ],
   "source": [
    "output_c = \"{:05d}\".format(52)\n",
    "print(output_c)\n",
    "output_d = \"{:05d}\".format(-52)\n",
    "print(output_d)"
   ]
  },
  {
   "cell_type": "code",
   "execution_count": 124,
   "id": "8966c565",
   "metadata": {},
   "outputs": [
    {
     "name": "stdout",
     "output_type": "stream",
     "text": [
      "+52\n",
      "-52\n"
     ]
    }
   ],
   "source": [
    "output_e = \"{:+d}\".format(52)\n",
    "print(output_e)\n",
    "output_f = \"{:+d}\".format(-52)\n",
    "print(output_f)"
   ]
  },
  {
   "cell_type": "code",
   "execution_count": 125,
   "id": "3b094cc7",
   "metadata": {},
   "outputs": [
    {
     "name": "stdout",
     "output_type": "stream",
     "text": [
      " 52\n",
      "-52\n"
     ]
    }
   ],
   "source": [
    "output_g = \"{: d}\".format(+52)\n",
    "print(output_g)\n",
    "output_h = \"{: d}\".format(-52)\n",
    "print(output_h)"
   ]
  },
  {
   "cell_type": "code",
   "execution_count": 132,
   "id": "44bce68b",
   "metadata": {
    "scrolled": false
   },
   "outputs": [
    {
     "name": "stdout",
     "output_type": "stream",
     "text": [
      "52.273000\n",
      "      52.273000\n",
      "     -52.273000\n",
      "+0000052.273000\n"
     ]
    }
   ],
   "source": [
    "output_1 = \"{:f}\".format(52.273)\n",
    "print(output_1)\n",
    "output_2 = \"{:15f}\".format(52.273)\n",
    "print(output_2)\n",
    "output_3 = \"{:+15f}\".format(-52.273)\n",
    "print(output_3)\n",
    "output_4 = \"{:+015f}\".format(52.273)\n",
    "print(output_4)"
   ]
  },
  {
   "cell_type": "code",
   "execution_count": 134,
   "id": "003d865e",
   "metadata": {},
   "outputs": [
    {
     "name": "stdout",
     "output_type": "stream",
     "text": [
      "52.273000\n",
      "         52.273\n",
      "         -52.27\n",
      "+000000000052.3\n",
      "52\n"
     ]
    }
   ],
   "source": [
    "output_1 = \"{:f}\".format(52.273)\n",
    "print(output_1)\n",
    "output_2 = \"{:15.3f}\".format(52.273)\n",
    "print(output_2)\n",
    "output_3 = \"{:+15.2f}\".format(-52.273)\n",
    "print(output_3)\n",
    "output_4 = \"{:+015.1f}\".format(52.273)\n",
    "print(output_4)\n",
    "output_5 = \"{:g}\".format(52.0)\n",
    "print(output_5)"
   ]
  },
  {
   "cell_type": "code",
   "execution_count": 141,
   "id": "28e28bff",
   "metadata": {},
   "outputs": [
    {
     "name": "stdout",
     "output_type": "stream",
     "text": [
      "KOREA AI ASSOCIATION\n",
      "korea ai association\n"
     ]
    }
   ],
   "source": [
    "a = \"Korea AI Association\"\n",
    "uppaera = a.upper()\n",
    "print(uppaera)\n",
    "\n",
    "lowera = a.lower()\n",
    "print(lowera)"
   ]
  },
  {
   "cell_type": "code",
   "execution_count": 145,
   "id": "5f1352bb",
   "metadata": {},
   "outputs": [
    {
     "name": "stdout",
     "output_type": "stream",
     "text": [
      "False\n",
      "False\n",
      "True\n",
      "False\n"
     ]
    }
   ],
   "source": [
    "print(a.isdigit())\n",
    "print(a.isalpha())\n",
    "print(uppaera.isupper())\n",
    "print(uppaera.islower())"
   ]
  },
  {
   "cell_type": "code",
   "execution_count": 149,
   "id": "10661f19",
   "metadata": {},
   "outputs": [
    {
     "name": "stdout",
     "output_type": "stream",
     "text": [
      "0\n",
      "2\n"
     ]
    }
   ],
   "source": [
    "output_a = '안녕안녕하세요'.find('안녕')\n",
    "print(output_a)\n",
    "output_a = '안녕안녕하세요'.rfind('안녕')\n",
    "print(output_a)"
   ]
  },
  {
   "cell_type": "code",
   "execution_count": 152,
   "id": "b843e1ed",
   "metadata": {
    "scrolled": true
   },
   "outputs": [
    {
     "name": "stdout",
     "output_type": "stream",
     "text": [
      "6\n",
      "9\n"
     ]
    }
   ],
   "source": [
    "find_left = a.find('A')\n",
    "print(find_left)\n",
    "find_right = a.rfind('A')\n",
    "print(find_right)"
   ]
  },
  {
   "cell_type": "code",
   "execution_count": 155,
   "id": "44f7c824",
   "metadata": {},
   "outputs": [
    {
     "name": "stdout",
     "output_type": "stream",
     "text": [
      "False\n",
      "True\n"
     ]
    }
   ],
   "source": [
    "print('ai' in a)\n",
    "print('AI' in a)"
   ]
  },
  {
   "cell_type": "code",
   "execution_count": 156,
   "id": "b91dbac3",
   "metadata": {},
   "outputs": [
    {
     "name": "stdout",
     "output_type": "stream",
     "text": [
      "['10', '20', '30', '40', '50']\n"
     ]
    }
   ],
   "source": [
    "a = '10 20 30 40 50'.split(' ')\n",
    "print(a)"
   ]
  },
  {
   "cell_type": "code",
   "execution_count": 167,
   "id": "7365065f",
   "metadata": {},
   "outputs": [
    {
     "name": "stdout",
     "output_type": "stream",
     "text": [
      "> 1번째 숫자: 100\n",
      "> 2번째 숫자: 200\n",
      "\n",
      "100 + 200 = 300\n"
     ]
    }
   ],
   "source": [
    "a1 = input(\"> 1번째 숫자: \")\n",
    "a2 = input(\"> 2번째 숫자: \")\n",
    "print()\n",
    "\n",
    "print(\"{} + {} = {}\".format(a1, a2, int(a1)+int(a2)))"
   ]
  },
  {
   "cell_type": "code",
   "execution_count": 173,
   "id": "5a050a6e",
   "metadata": {},
   "outputs": [
    {
     "name": "stdout",
     "output_type": "stream",
     "text": [
      "정수 입력 > 0\n",
      "0입니다\n"
     ]
    }
   ],
   "source": [
    "number = int(input('정수 입력 > '))\n",
    "\n",
    "if number > 0:\n",
    "    print('양수입니다')\n",
    "    \n",
    "elif number < 0:\n",
    "    print('음수입니다')\n",
    "    \n",
    "else:\n",
    "    print('0입니다')\n",
    "    \n",
    "    "
   ]
  },
  {
   "cell_type": "code",
   "execution_count": null,
   "id": "9b70cc32",
   "metadata": {},
   "outputs": [],
   "source": [
    "if number%2 == 0:\n",
    "    print('짝수입니다')\n",
    "else:\n",
    "    print('홀수입니다')"
   ]
  },
  {
   "cell_type": "code",
   "execution_count": 183,
   "id": "320d340c",
   "metadata": {},
   "outputs": [
    {
     "name": "stdout",
     "output_type": "stream",
     "text": [
      "정수 입력 : -30\n",
      "음의 짝수 입니다\n"
     ]
    }
   ],
   "source": [
    "number = int(input('정수 입력 : '))\n",
    "\n",
    "if number > 0 and number%2 == 0 : print('양의 짝수 입니다')\n",
    "\n",
    "elif number < 0 and number%2 == 0: print('음의 짝수 입니다')\n",
    "\n",
    "elif number > 0 and number%2 != 0: print('양의 홀수 입니다')\n",
    "\n",
    "elif number < 0 and number%2 != 0: print('음의 홀수 입니다')\n",
    "\n",
    "else: print('0입니다')"
   ]
  },
  {
   "cell_type": "code",
   "execution_count": 192,
   "id": "65a1b981",
   "metadata": {},
   "outputs": [
    {
     "name": "stdout",
     "output_type": "stream",
     "text": [
      "정수 입력 : -30\n",
      "음의 짝수 입니다\n"
     ]
    }
   ],
   "source": [
    "number = int(input('정수 입력 : '))\n",
    "\n",
    "if number > 0 :\n",
    "    if number%2 == 0 : \n",
    "        print('양의 짝수 입니다')\n",
    "    else : print('양의 홀수 입니다')\n",
    "        \n",
    "elif number < 0 :\n",
    "    if number%2 == 0: \n",
    "        print('음의 짝수 입니다')\n",
    "    else : print('음의 홀수 입니다')\n",
    "\n",
    "else: print('0입니다')"
   ]
  }
 ],
 "metadata": {
  "kernelspec": {
   "display_name": "Python 3 (ipykernel)",
   "language": "python",
   "name": "python3"
  },
  "language_info": {
   "codemirror_mode": {
    "name": "ipython",
    "version": 3
   },
   "file_extension": ".py",
   "mimetype": "text/x-python",
   "name": "python",
   "nbconvert_exporter": "python",
   "pygments_lexer": "ipython3",
   "version": "3.10.9"
  }
 },
 "nbformat": 4,
 "nbformat_minor": 5
}
