{
 "cells": [
  {
   "cell_type": "code",
   "execution_count": 33,
   "id": "d7be2b75-0536-4726-8e5b-3c65457ed8a1",
   "metadata": {},
   "outputs": [],
   "source": [
    "import pandas as pd\n",
    "import numpy as np"
   ]
  },
  {
   "cell_type": "code",
   "execution_count": 34,
   "id": "af55518d-9679-4fcf-bb16-6379525f962e",
   "metadata": {},
   "outputs": [],
   "source": [
    "df=pd.read_csv('amazon_data_science_books.csv')"
   ]
  },
  {
   "cell_type": "code",
   "execution_count": 35,
   "id": "f8749dfa-a57f-48ca-bf22-95f2e4c91468",
   "metadata": {},
   "outputs": [
    {
     "data": {
      "text/html": [
       "<div>\n",
       "<style scoped>\n",
       "    .dataframe tbody tr th:only-of-type {\n",
       "        vertical-align: middle;\n",
       "    }\n",
       "\n",
       "    .dataframe tbody tr th {\n",
       "        vertical-align: top;\n",
       "    }\n",
       "\n",
       "    .dataframe thead th {\n",
       "        text-align: right;\n",
       "    }\n",
       "</style>\n",
       "<table border=\"1\" class=\"dataframe\">\n",
       "  <thead>\n",
       "    <tr style=\"text-align: right;\">\n",
       "      <th></th>\n",
       "      <th>title</th>\n",
       "      <th>price</th>\n",
       "      <th>rating</th>\n",
       "      <th>reviews</th>\n",
       "      <th>author</th>\n",
       "    </tr>\n",
       "  </thead>\n",
       "  <tbody>\n",
       "    <tr>\n",
       "      <th>0</th>\n",
       "      <td>Essential Math for Data Science: Take Control ...</td>\n",
       "      <td>$29.00</td>\n",
       "      <td>4.5 out of 5 stars</td>\n",
       "      <td>117 ratings</td>\n",
       "      <td>Thomas Nield</td>\n",
       "    </tr>\n",
       "    <tr>\n",
       "      <th>1</th>\n",
       "      <td>Becoming a Data Head: How to Think, Speak, and...</td>\n",
       "      <td>$24.49</td>\n",
       "      <td>4.6 out of 5 stars</td>\n",
       "      <td>250 ratings</td>\n",
       "      <td>Alex J. Gutman</td>\n",
       "    </tr>\n",
       "    <tr>\n",
       "      <th>2</th>\n",
       "      <td>Ace the Data Science Interview: 201 Real Inter...</td>\n",
       "      <td>$34.30 - $36.26</td>\n",
       "      <td>4.5 out of 5 stars</td>\n",
       "      <td>778 ratings</td>\n",
       "      <td>Nick Singh</td>\n",
       "    </tr>\n",
       "    <tr>\n",
       "      <th>3</th>\n",
       "      <td>Data Science from Scratch: First Principles wi...</td>\n",
       "      <td>$39.97 - $52.18</td>\n",
       "      <td>4.4 out of 5 stars</td>\n",
       "      <td>638 ratings</td>\n",
       "      <td>Joel Grus</td>\n",
       "    </tr>\n",
       "    <tr>\n",
       "      <th>4</th>\n",
       "      <td>Practical Statistics for Data Scientists: 50+ ...</td>\n",
       "      <td>$24.90 - $29.00</td>\n",
       "      <td>4.6 out of 5 stars</td>\n",
       "      <td>673 ratings</td>\n",
       "      <td>Peter Bruce</td>\n",
       "    </tr>\n",
       "    <tr>\n",
       "      <th>...</th>\n",
       "      <td>...</td>\n",
       "      <td>...</td>\n",
       "      <td>...</td>\n",
       "      <td>...</td>\n",
       "      <td>...</td>\n",
       "    </tr>\n",
       "    <tr>\n",
       "      <th>323</th>\n",
       "      <td>How Data Happened: A History from the Age of R...</td>\n",
       "      <td>$21.81 - $27.00</td>\n",
       "      <td>5.0 out of 5 stars</td>\n",
       "      <td>3 ratings</td>\n",
       "      <td>Chris Wiggins</td>\n",
       "    </tr>\n",
       "    <tr>\n",
       "      <th>324</th>\n",
       "      <td>Probabilistic Machine Learning: Advanced Topic...</td>\n",
       "      <td>$150.00</td>\n",
       "      <td>Previous page</td>\n",
       "      <td>NaN</td>\n",
       "      <td>Kevin P. Murphy</td>\n",
       "    </tr>\n",
       "    <tr>\n",
       "      <th>325</th>\n",
       "      <td>The Data Science Manual: A Comprehensive Guide...</td>\n",
       "      <td>NaN</td>\n",
       "      <td>Previous page</td>\n",
       "      <td>NaN</td>\n",
       "      <td>Vu  Hoang</td>\n",
       "    </tr>\n",
       "    <tr>\n",
       "      <th>326</th>\n",
       "      <td>Becoming a Data Head: How to Think, Speak, and...</td>\n",
       "      <td>$24.49</td>\n",
       "      <td>4.6 out of 5 stars</td>\n",
       "      <td>250 ratings</td>\n",
       "      <td>Alex J. Gutman</td>\n",
       "    </tr>\n",
       "    <tr>\n",
       "      <th>327</th>\n",
       "      <td>Data-Driven Science and Engineering: Machine L...</td>\n",
       "      <td>$64.99</td>\n",
       "      <td>4.8 out of 5 stars</td>\n",
       "      <td>49 ratings</td>\n",
       "      <td>Steven L. Brunton</td>\n",
       "    </tr>\n",
       "  </tbody>\n",
       "</table>\n",
       "<p>328 rows × 5 columns</p>\n",
       "</div>"
      ],
      "text/plain": [
       "                                                 title            price  \\\n",
       "0    Essential Math for Data Science: Take Control ...           $29.00   \n",
       "1    Becoming a Data Head: How to Think, Speak, and...           $24.49   \n",
       "2    Ace the Data Science Interview: 201 Real Inter...  $34.30 - $36.26   \n",
       "3    Data Science from Scratch: First Principles wi...  $39.97 - $52.18   \n",
       "4    Practical Statistics for Data Scientists: 50+ ...  $24.90 - $29.00   \n",
       "..                                                 ...              ...   \n",
       "323  How Data Happened: A History from the Age of R...  $21.81 - $27.00   \n",
       "324  Probabilistic Machine Learning: Advanced Topic...          $150.00   \n",
       "325  The Data Science Manual: A Comprehensive Guide...              NaN   \n",
       "326  Becoming a Data Head: How to Think, Speak, and...           $24.49   \n",
       "327  Data-Driven Science and Engineering: Machine L...           $64.99   \n",
       "\n",
       "                 rating      reviews             author  \n",
       "0    4.5 out of 5 stars  117 ratings       Thomas Nield  \n",
       "1    4.6 out of 5 stars  250 ratings     Alex J. Gutman  \n",
       "2    4.5 out of 5 stars  778 ratings         Nick Singh  \n",
       "3    4.4 out of 5 stars  638 ratings          Joel Grus  \n",
       "4    4.6 out of 5 stars  673 ratings        Peter Bruce  \n",
       "..                  ...          ...                ...  \n",
       "323  5.0 out of 5 stars    3 ratings      Chris Wiggins  \n",
       "324       Previous page          NaN    Kevin P. Murphy  \n",
       "325       Previous page          NaN          Vu  Hoang  \n",
       "326  4.6 out of 5 stars  250 ratings     Alex J. Gutman  \n",
       "327  4.8 out of 5 stars   49 ratings  Steven L. Brunton  \n",
       "\n",
       "[328 rows x 5 columns]"
      ]
     },
     "execution_count": 35,
     "metadata": {},
     "output_type": "execute_result"
    }
   ],
   "source": [
    "df"
   ]
  },
  {
   "cell_type": "code",
   "execution_count": 36,
   "id": "26a2b036-e2b2-423f-93a5-972d7de38af9",
   "metadata": {},
   "outputs": [],
   "source": [
    "del df['reviews']"
   ]
  },
  {
   "cell_type": "code",
   "execution_count": 37,
   "id": "9938987c-bc13-4970-a38d-a07845001f5d",
   "metadata": {},
   "outputs": [],
   "source": [
    "df = df[~(df['rating'] == 'Previous page')]"
   ]
  },
  {
   "cell_type": "code",
   "execution_count": 38,
   "id": "049be515-ab65-4e9c-ae74-74a7f977eb00",
   "metadata": {},
   "outputs": [
    {
     "data": {
      "text/plain": [
       "array(['4.5 out of 5 stars', '4.6 out of 5 stars', '4.4 out of 5 stars',\n",
       "       '4.7 out of 5 stars', '4.8 out of 5 stars', '4.3 out of 5 stars',\n",
       "       '3.7 out of 5 stars', '5.0 out of 5 stars'], dtype=object)"
      ]
     },
     "execution_count": 38,
     "metadata": {},
     "output_type": "execute_result"
    }
   ],
   "source": [
    "df.rating.unique()"
   ]
  },
  {
   "cell_type": "code",
   "execution_count": 39,
   "id": "1a6ea17b-167b-458b-94fe-07d5f57c856b",
   "metadata": {},
   "outputs": [
    {
     "name": "stderr",
     "output_type": "stream",
     "text": [
      "C:\\Users\\user\\AppData\\Local\\Temp\\ipykernel_12624\\735344608.py:1: SettingWithCopyWarning: \n",
      "A value is trying to be set on a copy of a slice from a DataFrame.\n",
      "Try using .loc[row_indexer,col_indexer] = value instead\n",
      "\n",
      "See the caveats in the documentation: https://pandas.pydata.org/pandas-docs/stable/user_guide/indexing.html#returning-a-view-versus-a-copy\n",
      "  df.rating = df.rating.apply(lambda x : x.split(' ')[0])\n"
     ]
    }
   ],
   "source": [
    "df.rating = df.rating.apply(lambda x : x.split(' ')[0])"
   ]
  },
  {
   "cell_type": "code",
   "execution_count": 40,
   "id": "dfb061f6-9266-444e-af8d-cf0ef0a2524c",
   "metadata": {},
   "outputs": [
    {
     "data": {
      "text/html": [
       "<div>\n",
       "<style scoped>\n",
       "    .dataframe tbody tr th:only-of-type {\n",
       "        vertical-align: middle;\n",
       "    }\n",
       "\n",
       "    .dataframe tbody tr th {\n",
       "        vertical-align: top;\n",
       "    }\n",
       "\n",
       "    .dataframe thead th {\n",
       "        text-align: right;\n",
       "    }\n",
       "</style>\n",
       "<table border=\"1\" class=\"dataframe\">\n",
       "  <thead>\n",
       "    <tr style=\"text-align: right;\">\n",
       "      <th></th>\n",
       "      <th>title</th>\n",
       "      <th>price</th>\n",
       "      <th>rating</th>\n",
       "      <th>author</th>\n",
       "    </tr>\n",
       "  </thead>\n",
       "  <tbody>\n",
       "    <tr>\n",
       "      <th>0</th>\n",
       "      <td>Essential Math for Data Science: Take Control ...</td>\n",
       "      <td>$29.00</td>\n",
       "      <td>4.5</td>\n",
       "      <td>Thomas Nield</td>\n",
       "    </tr>\n",
       "    <tr>\n",
       "      <th>1</th>\n",
       "      <td>Becoming a Data Head: How to Think, Speak, and...</td>\n",
       "      <td>$24.49</td>\n",
       "      <td>4.6</td>\n",
       "      <td>Alex J. Gutman</td>\n",
       "    </tr>\n",
       "    <tr>\n",
       "      <th>2</th>\n",
       "      <td>Ace the Data Science Interview: 201 Real Inter...</td>\n",
       "      <td>$34.30 - $36.26</td>\n",
       "      <td>4.5</td>\n",
       "      <td>Nick Singh</td>\n",
       "    </tr>\n",
       "    <tr>\n",
       "      <th>3</th>\n",
       "      <td>Data Science from Scratch: First Principles wi...</td>\n",
       "      <td>$39.97 - $52.18</td>\n",
       "      <td>4.4</td>\n",
       "      <td>Joel Grus</td>\n",
       "    </tr>\n",
       "    <tr>\n",
       "      <th>4</th>\n",
       "      <td>Practical Statistics for Data Scientists: 50+ ...</td>\n",
       "      <td>$24.90 - $29.00</td>\n",
       "      <td>4.6</td>\n",
       "      <td>Peter Bruce</td>\n",
       "    </tr>\n",
       "    <tr>\n",
       "      <th>...</th>\n",
       "      <td>...</td>\n",
       "      <td>...</td>\n",
       "      <td>...</td>\n",
       "      <td>...</td>\n",
       "    </tr>\n",
       "    <tr>\n",
       "      <th>321</th>\n",
       "      <td>Python Data Science Handbook: Essential Tools ...</td>\n",
       "      <td>$42.38 - $56.99</td>\n",
       "      <td>3.7</td>\n",
       "      <td>Jake VanderPlas</td>\n",
       "    </tr>\n",
       "    <tr>\n",
       "      <th>322</th>\n",
       "      <td>The Art of Statistics: How to Learn from Data</td>\n",
       "      <td>NaN</td>\n",
       "      <td>4.6</td>\n",
       "      <td>David Spiegelhalter</td>\n",
       "    </tr>\n",
       "    <tr>\n",
       "      <th>323</th>\n",
       "      <td>How Data Happened: A History from the Age of R...</td>\n",
       "      <td>$21.81 - $27.00</td>\n",
       "      <td>5.0</td>\n",
       "      <td>Chris Wiggins</td>\n",
       "    </tr>\n",
       "    <tr>\n",
       "      <th>326</th>\n",
       "      <td>Becoming a Data Head: How to Think, Speak, and...</td>\n",
       "      <td>$24.49</td>\n",
       "      <td>4.6</td>\n",
       "      <td>Alex J. Gutman</td>\n",
       "    </tr>\n",
       "    <tr>\n",
       "      <th>327</th>\n",
       "      <td>Data-Driven Science and Engineering: Machine L...</td>\n",
       "      <td>$64.99</td>\n",
       "      <td>4.8</td>\n",
       "      <td>Steven L. Brunton</td>\n",
       "    </tr>\n",
       "  </tbody>\n",
       "</table>\n",
       "<p>280 rows × 4 columns</p>\n",
       "</div>"
      ],
      "text/plain": [
       "                                                 title            price  \\\n",
       "0    Essential Math for Data Science: Take Control ...           $29.00   \n",
       "1    Becoming a Data Head: How to Think, Speak, and...           $24.49   \n",
       "2    Ace the Data Science Interview: 201 Real Inter...  $34.30 - $36.26   \n",
       "3    Data Science from Scratch: First Principles wi...  $39.97 - $52.18   \n",
       "4    Practical Statistics for Data Scientists: 50+ ...  $24.90 - $29.00   \n",
       "..                                                 ...              ...   \n",
       "321  Python Data Science Handbook: Essential Tools ...  $42.38 - $56.99   \n",
       "322      The Art of Statistics: How to Learn from Data              NaN   \n",
       "323  How Data Happened: A History from the Age of R...  $21.81 - $27.00   \n",
       "326  Becoming a Data Head: How to Think, Speak, and...           $24.49   \n",
       "327  Data-Driven Science and Engineering: Machine L...           $64.99   \n",
       "\n",
       "    rating               author  \n",
       "0      4.5         Thomas Nield  \n",
       "1      4.6       Alex J. Gutman  \n",
       "2      4.5           Nick Singh  \n",
       "3      4.4            Joel Grus  \n",
       "4      4.6          Peter Bruce  \n",
       "..     ...                  ...  \n",
       "321    3.7      Jake VanderPlas  \n",
       "322    4.6  David Spiegelhalter  \n",
       "323    5.0        Chris Wiggins  \n",
       "326    4.6       Alex J. Gutman  \n",
       "327    4.8    Steven L. Brunton  \n",
       "\n",
       "[280 rows x 4 columns]"
      ]
     },
     "execution_count": 40,
     "metadata": {},
     "output_type": "execute_result"
    }
   ],
   "source": [
    "df"
   ]
  },
  {
   "cell_type": "code",
   "execution_count": 41,
   "id": "f175c107-f00e-4455-8ca2-e4adc3b8c9a6",
   "metadata": {},
   "outputs": [
    {
     "name": "stdout",
     "output_type": "stream",
     "text": [
      "<class 'pandas.core.frame.DataFrame'>\n",
      "Int64Index: 280 entries, 0 to 327\n",
      "Data columns (total 4 columns):\n",
      " #   Column  Non-Null Count  Dtype \n",
      "---  ------  --------------  ----- \n",
      " 0   title   280 non-null    object\n",
      " 1   price   251 non-null    object\n",
      " 2   rating  280 non-null    object\n",
      " 3   author  280 non-null    object\n",
      "dtypes: object(4)\n",
      "memory usage: 10.9+ KB\n"
     ]
    }
   ],
   "source": [
    "df.info()"
   ]
  },
  {
   "cell_type": "code",
   "execution_count": 42,
   "id": "893667d1-b439-4eb6-b2f0-7dcdde97b389",
   "metadata": {},
   "outputs": [
    {
     "name": "stderr",
     "output_type": "stream",
     "text": [
      "C:\\Users\\user\\AppData\\Local\\Temp\\ipykernel_12624\\418591778.py:1: SettingWithCopyWarning: \n",
      "A value is trying to be set on a copy of a slice from a DataFrame.\n",
      "Try using .loc[row_indexer,col_indexer] = value instead\n",
      "\n",
      "See the caveats in the documentation: https://pandas.pydata.org/pandas-docs/stable/user_guide/indexing.html#returning-a-view-versus-a-copy\n",
      "  df['rating'] = df['rating'].astype(float)\n"
     ]
    }
   ],
   "source": [
    "df['rating'] = df['rating'].astype(float)"
   ]
  },
  {
   "cell_type": "code",
   "execution_count": 43,
   "id": "371cf1f9-a700-4eda-bff5-0af00e766d8b",
   "metadata": {},
   "outputs": [
    {
     "name": "stdout",
     "output_type": "stream",
     "text": [
      "<class 'pandas.core.frame.DataFrame'>\n",
      "Int64Index: 280 entries, 0 to 327\n",
      "Data columns (total 4 columns):\n",
      " #   Column  Non-Null Count  Dtype  \n",
      "---  ------  --------------  -----  \n",
      " 0   title   280 non-null    object \n",
      " 1   price   251 non-null    object \n",
      " 2   rating  280 non-null    float64\n",
      " 3   author  280 non-null    object \n",
      "dtypes: float64(1), object(3)\n",
      "memory usage: 10.9+ KB\n"
     ]
    }
   ],
   "source": [
    "df.info()"
   ]
  },
  {
   "cell_type": "code",
   "execution_count": 30,
   "id": "7142fc85-a12d-465f-a910-87fd78dde2f4",
   "metadata": {},
   "outputs": [
    {
     "data": {
      "text/plain": [
       "3.7     8\n",
       "4.3    17\n",
       "4.4    34\n",
       "4.5    65\n",
       "4.6    51\n",
       "4.7    33\n",
       "4.8    33\n",
       "5.0    39\n",
       "Name: rating2, dtype: int64"
      ]
     },
     "execution_count": 30,
     "metadata": {},
     "output_type": "execute_result"
    }
   ],
   "source": [
    "df.rating2.value_counts().sort_index()"
   ]
  },
  {
   "cell_type": "code",
   "execution_count": 73,
   "id": "3aaeb548-1b74-4a75-a32b-bd0f553bd991",
   "metadata": {},
   "outputs": [],
   "source": [
    "five_points_author = df[df.rating == 5.0]['author'].value_counts()"
   ]
  },
  {
   "cell_type": "code",
   "execution_count": 74,
   "id": "9cddbab3-b8ee-4ba4-93c3-691466fad74f",
   "metadata": {},
   "outputs": [
    {
     "data": {
      "text/plain": [
       "Chris Wiggins        8\n",
       "Andrew Nguyen        7\n",
       "Abhi Nevuri          7\n",
       "Martin Ebers         6\n",
       "Alfred Z. Spector    6\n",
       "Jen Christiansen     5\n",
       "Name: author, dtype: int64"
      ]
     },
     "execution_count": 74,
     "metadata": {},
     "output_type": "execute_result"
    }
   ],
   "source": [
    "five_points_author"
   ]
  },
  {
   "cell_type": "code",
   "execution_count": 48,
   "id": "aa1a1c7a-726a-4d5e-ac5e-c37a5558493d",
   "metadata": {},
   "outputs": [],
   "source": [
    "import matplotlib.pyplot as plt\n",
    "import seaborn as sns"
   ]
  },
  {
   "cell_type": "code",
   "execution_count": 65,
   "id": "6f41c474-3705-4cef-8682-e7248164a727",
   "metadata": {},
   "outputs": [],
   "source": [
    "import koreanize_matplotlib"
   ]
  },
  {
   "cell_type": "code",
   "execution_count": 153,
   "id": "4c505947-b807-425e-b90b-563cbc27d8d1",
   "metadata": {},
   "outputs": [
    {
     "data": {
      "text/plain": [
       "Text(0.5, 1.0, '평점 5.0 받은 저자')"
      ]
     },
     "execution_count": 153,
     "metadata": {},
     "output_type": "execute_result"
    },
    {
     "data": {
      "image/png": "[encoded data removed]",
      "text/plain": [
       "<Figure size 640x480 with 1 Axes>"
      ]
     },
     "metadata": {},
     "output_type": "display_data"
    }
   ],
   "source": [
    "plt.bar(five_points_author.index, five_author)\n",
    "plt.xticks(rotation=45)\n",
    "plt.title('평점 5.0 받은 저자')"
   ]
  },
  {
   "cell_type": "code",
   "execution_count": 79,
   "id": "e3ea7abf-9328-4666-b47f-761cace6b4f8",
   "metadata": {},
   "outputs": [],
   "source": [
    "del df['price']"
   ]
  },
  {
   "cell_type": "code",
   "execution_count": 80,
   "id": "29d3410d-74cd-4bb3-98f4-718a9f668b07",
   "metadata": {},
   "outputs": [
    {
     "data": {
      "text/html": [
       "<div>\n",
       "<style scoped>\n",
       "    .dataframe tbody tr th:only-of-type {\n",
       "        vertical-align: middle;\n",
       "    }\n",
       "\n",
       "    .dataframe tbody tr th {\n",
       "        vertical-align: top;\n",
       "    }\n",
       "\n",
       "    .dataframe thead th {\n",
       "        text-align: right;\n",
       "    }\n",
       "</style>\n",
       "<table border=\"1\" class=\"dataframe\">\n",
       "  <thead>\n",
       "    <tr style=\"text-align: right;\">\n",
       "      <th></th>\n",
       "      <th>title</th>\n",
       "      <th>rating</th>\n",
       "      <th>author</th>\n",
       "    </tr>\n",
       "  </thead>\n",
       "  <tbody>\n",
       "    <tr>\n",
       "      <th>0</th>\n",
       "      <td>Essential Math for Data Science: Take Control ...</td>\n",
       "      <td>4.5</td>\n",
       "      <td>Thomas Nield</td>\n",
       "    </tr>\n",
       "    <tr>\n",
       "      <th>1</th>\n",
       "      <td>Becoming a Data Head: How to Think, Speak, and...</td>\n",
       "      <td>4.6</td>\n",
       "      <td>Alex J. Gutman</td>\n",
       "    </tr>\n",
       "    <tr>\n",
       "      <th>2</th>\n",
       "      <td>Ace the Data Science Interview: 201 Real Inter...</td>\n",
       "      <td>4.5</td>\n",
       "      <td>Nick Singh</td>\n",
       "    </tr>\n",
       "    <tr>\n",
       "      <th>3</th>\n",
       "      <td>Data Science from Scratch: First Principles wi...</td>\n",
       "      <td>4.4</td>\n",
       "      <td>Joel Grus</td>\n",
       "    </tr>\n",
       "    <tr>\n",
       "      <th>4</th>\n",
       "      <td>Practical Statistics for Data Scientists: 50+ ...</td>\n",
       "      <td>4.6</td>\n",
       "      <td>Peter Bruce</td>\n",
       "    </tr>\n",
       "    <tr>\n",
       "      <th>...</th>\n",
       "      <td>...</td>\n",
       "      <td>...</td>\n",
       "      <td>...</td>\n",
       "    </tr>\n",
       "    <tr>\n",
       "      <th>321</th>\n",
       "      <td>Python Data Science Handbook: Essential Tools ...</td>\n",
       "      <td>3.7</td>\n",
       "      <td>Jake VanderPlas</td>\n",
       "    </tr>\n",
       "    <tr>\n",
       "      <th>322</th>\n",
       "      <td>The Art of Statistics: How to Learn from Data</td>\n",
       "      <td>4.6</td>\n",
       "      <td>David Spiegelhalter</td>\n",
       "    </tr>\n",
       "    <tr>\n",
       "      <th>323</th>\n",
       "      <td>How Data Happened: A History from the Age of R...</td>\n",
       "      <td>5.0</td>\n",
       "      <td>Chris Wiggins</td>\n",
       "    </tr>\n",
       "    <tr>\n",
       "      <th>326</th>\n",
       "      <td>Becoming a Data Head: How to Think, Speak, and...</td>\n",
       "      <td>4.6</td>\n",
       "      <td>Alex J. Gutman</td>\n",
       "    </tr>\n",
       "    <tr>\n",
       "      <th>327</th>\n",
       "      <td>Data-Driven Science and Engineering: Machine L...</td>\n",
       "      <td>4.8</td>\n",
       "      <td>Steven L. Brunton</td>\n",
       "    </tr>\n",
       "  </tbody>\n",
       "</table>\n",
       "<p>280 rows × 3 columns</p>\n",
       "</div>"
      ],
      "text/plain": [
       "                                                 title  rating  \\\n",
       "0    Essential Math for Data Science: Take Control ...     4.5   \n",
       "1    Becoming a Data Head: How to Think, Speak, and...     4.6   \n",
       "2    Ace the Data Science Interview: 201 Real Inter...     4.5   \n",
       "3    Data Science from Scratch: First Principles wi...     4.4   \n",
       "4    Practical Statistics for Data Scientists: 50+ ...     4.6   \n",
       "..                                                 ...     ...   \n",
       "321  Python Data Science Handbook: Essential Tools ...     3.7   \n",
       "322      The Art of Statistics: How to Learn from Data     4.6   \n",
       "323  How Data Happened: A History from the Age of R...     5.0   \n",
       "326  Becoming a Data Head: How to Think, Speak, and...     4.6   \n",
       "327  Data-Driven Science and Engineering: Machine L...     4.8   \n",
       "\n",
       "                  author  \n",
       "0           Thomas Nield  \n",
       "1         Alex J. Gutman  \n",
       "2             Nick Singh  \n",
       "3              Joel Grus  \n",
       "4            Peter Bruce  \n",
       "..                   ...  \n",
       "321      Jake VanderPlas  \n",
       "322  David Spiegelhalter  \n",
       "323        Chris Wiggins  \n",
       "326       Alex J. Gutman  \n",
       "327    Steven L. Brunton  \n",
       "\n",
       "[280 rows x 3 columns]"
      ]
     },
     "execution_count": 80,
     "metadata": {},
     "output_type": "execute_result"
    }
   ],
   "source": [
    "df"
   ]
  },
  {
   "cell_type": "code",
   "execution_count": 112,
   "id": "9994e44c-aacf-489e-9f1c-e2f1c7158ad3",
   "metadata": {},
   "outputs": [],
   "source": [
    "author_book_count = df.groupby('author')['title'].count()"
   ]
  },
  {
   "cell_type": "code",
   "execution_count": 130,
   "id": "bf856083-0e7d-4d9a-9e1a-7a53609454fa",
   "metadata": {},
   "outputs": [
    {
     "data": {
      "text/plain": [
       "author\n",
       "Konrad Banachewicz         13\n",
       "Jake VanderPlas             9\n",
       "Alex J. Gutman              8\n",
       "Chris Wiggins               8\n",
       "David Spiegelhalter         8\n",
       "Abhi Nevuri                 7\n",
       "Mike Cohen                  7\n",
       "Jonathan Schwabish          7\n",
       "Justin Grimmer              7\n",
       "Lillian Pierson             7\n",
       "Matt Taddy                  7\n",
       "Nick Singh                  7\n",
       "Joel Grus                   7\n",
       "Peter Bruce                 7\n",
       "Steven L. Brunton           7\n",
       "Steven S. Skiena            7\n",
       "Thomas Nield                7\n",
       "Tim Harford                 7\n",
       "Wes McKinney                7\n",
       "John D. Kelleher            7\n",
       "Joe Reis                    7\n",
       "Chris Fregly                7\n",
       "Andrew Nguyen               7\n",
       "Foster Provost              7\n",
       "Emily Robinson              7\n",
       "Annalyn Ng                  7\n",
       "Elizabeth Clarke            7\n",
       "Cory Althoff                7\n",
       "Alex Gorelik                6\n",
       "Alexander Borek             6\n",
       "Alfred Z. Spector           6\n",
       "Chip Huyen                  6\n",
       "Nathan George               6\n",
       "Cole Nussbaumer Knaflic     6\n",
       "Martin Ebers                6\n",
       "Garrett Grolemund           6\n",
       "Hala Nelson                 6\n",
       "Yuli Vasiliev               6\n",
       "Stefanie Molin              5\n",
       "Jen Christiansen            5\n",
       "Jike Chong                  2\n",
       "Samuel Burns                1\n",
       "Name: title, dtype: int64"
      ]
     },
     "execution_count": 130,
     "metadata": {},
     "output_type": "execute_result"
    }
   ],
   "source": [
    "author_book_count.sort_values(ascending=False)"
   ]
  },
  {
   "cell_type": "code",
   "execution_count": 159,
   "id": "1260c3bb-90e5-4d4e-b540-5391c4e861e8",
   "metadata": {},
   "outputs": [
    {
     "data": {
      "text/plain": [
       "Text(0.5, 1.0, '저자별 출판물 순위 top 5')"
      ]
     },
     "execution_count": 159,
     "metadata": {},
     "output_type": "execute_result"
    },
    {
     "data": {
      "image/png": "[encoded data removed]",
      "text/plain": [
       "<Figure size 640x480 with 1 Axes>"
      ]
     },
     "metadata": {},
     "output_type": "display_data"
    }
   ],
   "source": [
    "plt.bar(author_book_count.sort_values(ascending=False).index[:5], author_book_count.sort_values(ascending=False)[:5])\n",
    "plt.xticks(rotation=45)\n",
    "plt.title('저자별 출판물 순위 top 5')"
   ]
  },
  {
   "cell_type": "code",
   "execution_count": 150,
   "id": "1b3e7581-6d89-4c91-97ae-181e34f99c8e",
   "metadata": {},
   "outputs": [
    {
     "data": {
      "text/plain": [
       "author\n",
       "Abhi Nevuri                5.000000\n",
       "Alfred Z. Spector          5.000000\n",
       "Andrew Nguyen              5.000000\n",
       "Martin Ebers               5.000000\n",
       "Chris Wiggins              5.000000\n",
       "Jen Christiansen           5.000000\n",
       "Steven S. Skiena           4.800000\n",
       "Alexander Borek            4.800000\n",
       "Steven L. Brunton          4.800000\n",
       "Nathan George              4.800000\n",
       "Elizabeth Clarke           4.700000\n",
       "Garrett Grolemund          4.700000\n",
       "Emily Robinson             4.700000\n",
       "Joe Reis                   4.700000\n",
       "Chip Huyen                 4.700000\n",
       "Konrad Banachewicz         4.615385\n",
       "David Spiegelhalter        4.600000\n",
       "Mike Cohen                 4.600000\n",
       "Cory Althoff               4.600000\n",
       "Cole Nussbaumer Knaflic    4.600000\n",
       "Alex J. Gutman             4.600000\n",
       "Peter Bruce                4.600000\n",
       "Justin Grimmer             4.600000\n",
       "Tim Harford                4.500000\n",
       "Thomas Nield               4.500000\n",
       "Annalyn Ng                 4.500000\n",
       "Samuel Burns               4.500000\n",
       "Nick Singh                 4.500000\n",
       "Chris Fregly               4.500000\n",
       "Foster Provost             4.500000\n",
       "Lillian Pierson            4.500000\n",
       "Jonathan Schwabish         4.500000\n",
       "Jike Chong                 4.500000\n",
       "Hala Nelson                4.500000\n",
       "Matt Taddy                 4.400000\n",
       "John D. Kelleher           4.400000\n",
       "Joel Grus                  4.400000\n",
       "Wes McKinney               4.400000\n",
       "Stefanie Molin             4.300000\n",
       "Alex Gorelik               4.300000\n",
       "Yuli Vasiliev              4.300000\n",
       "Jake VanderPlas            3.800000\n",
       "Name: rating, dtype: float64"
      ]
     },
     "execution_count": 150,
     "metadata": {},
     "output_type": "execute_result"
    }
   ],
   "source": [
    "author_rating_mean = df.groupby(df.author)['rating'].mean()\n",
    "author_rating_mean.sort_values(ascending=False)"
   ]
  },
  {
   "cell_type": "code",
   "execution_count": 164,
   "id": "8388bf71-3570-437a-84bd-eb139084a099",
   "metadata": {},
   "outputs": [
    {
     "data": {
      "text/plain": [
       "Text(0.5, 1.0, '저자별 평점 평균 순위 top 6]')"
      ]
     },
     "execution_count": 164,
     "metadata": {},
     "output_type": "execute_result"
    },
    {
     "data": {
      "image/png": "[encoded data removed]",
      "text/plain": [
       "<Figure size 640x480 with 1 Axes>"
      ]
     },
     "metadata": {},
     "output_type": "display_data"
    }
   ],
   "source": [
    "plt.bar(author_rating_mean.sort_values(ascending=False).index[:6], author_rating_mean.sort_values(ascending=False)[:6])\n",
    "plt.xticks(rotation=45)\n",
    "plt.title('저자별 평점 평균 순위 top 6]')"
   ]
  },
  {
   "cell_type": "markdown",
   "id": "920d0b0b-2691-4849-bb0e-c51144d4e4d0",
   "metadata": {},
   "source": [
    "※ 많은 저작물이 등록되어 있으면서도 평점 평균도 최상위인 Chris Wiggins가 유의미하게 인정받을만한 저자라 할 수 있다."
   ]
  }
 ],
 "metadata": {
  "kernelspec": {
   "display_name": "Python 3 (ipykernel)",
   "language": "python",
   "name": "python3"
  },
  "language_info": {
   "codemirror_mode": {
    "name": "ipython",
    "version": 3
   },
   "file_extension": ".py",
   "mimetype": "text/x-python",
   "name": "python",
   "nbconvert_exporter": "python",
   "pygments_lexer": "ipython3",
   "version": "3.10.9"
  }
 },
 "nbformat": 4,
 "nbformat_minor": 5
}
