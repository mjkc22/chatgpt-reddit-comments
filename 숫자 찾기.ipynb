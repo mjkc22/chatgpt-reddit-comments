{
 "cells": [
  {
   "cell_type": "markdown",
   "id": "18f98f62-7a0d-43d4-9657-12d1c5bdd463",
   "metadata": {},
   "source": [
    "https://school.programmers.co.kr/learn/courses/30/lessons/120904"
   ]
  },
  {
   "cell_type": "markdown",
   "id": "f0b91dc6-9efd-438d-abfd-15c246e61702",
   "metadata": {},
   "source": [
    "정수 num과 k가 매개변수로 주어질 때, num을 이루는 숫자 중에 k가 있으면 num의 그 숫자가 있는 자리 수를 return하고 없으면 -1을 return 하도록 solution 함수를 완성해보세요."
   ]
  },
  {
   "cell_type": "code",
   "execution_count": null,
   "id": "fd565ac2-301f-4eb4-8b2a-da9279f03f9c",
   "metadata": {},
   "outputs": [],
   "source": [
    "def solution(num, k):\n",
    "    if str(k) in str(num):\n",
    "        answer = str(num).index(str(k)) +1\n",
    "    else:\n",
    "        answer = -1\n",
    "    return answer"
   ]
  }
 ],
 "metadata": {
  "kernelspec": {
   "display_name": "Python 3 (ipykernel)",
   "language": "python",
   "name": "python3"
  },
  "language_info": {
   "codemirror_mode": {
    "name": "ipython",
    "version": 3
   },
   "file_extension": ".py",
   "mimetype": "text/x-python",
   "name": "python",
   "nbconvert_exporter": "python",
   "pygments_lexer": "ipython3",
   "version": "3.9.12"
  }
 },
 "nbformat": 4,
 "nbformat_minor": 5
}
