{
 "cells": [
  {
   "cell_type": "code",
   "execution_count": 7,
   "id": "1f5a278b",
   "metadata": {},
   "outputs": [
    {
     "name": "stdout",
     "output_type": "stream",
     "text": [
      "반지름 입력하세요 : 20\n",
      "반지름 20인 원의 둘레 :  125.66\n",
      "반지름 20인 원의 넓이 : 1256.64\n",
      "__main__의 모듈 이름\n",
      "__main__\n"
     ]
    }
   ],
   "source": [
    "import userModule as test\n",
    "import time\n",
    "\n",
    "r = test.number_input()\n",
    "\n",
    "print(f'반지름 {r:g}인 원의 둘레 : {test.get_circumference(r):7.2f}')\n",
    "print(f'반지름 {r:g}인 원의 넓이 : {test.get_circle_area(r):7.2f}')\n",
    "\n",
    "time.sleep(10)"
   ]
  },
  {
   "cell_type": "code",
   "execution_count": null,
   "id": "f36454d1",
   "metadata": {},
   "outputs": [],
   "source": []
  }
 ],
 "metadata": {
  "kernelspec": {
   "display_name": "Python 3 (ipykernel)",
   "language": "python",
   "name": "python3"
  },
  "language_info": {
   "codemirror_mode": {
    "name": "ipython",
    "version": 3
   },
   "file_extension": ".py",
   "mimetype": "text/x-python",
   "name": "python",
   "nbconvert_exporter": "python",
   "pygments_lexer": "ipython3",
   "version": "3.10.9"
  }
 },
 "nbformat": 4,
 "nbformat_minor": 5
}
