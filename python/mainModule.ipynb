{
 "cells": [
  {
   "cell_type": "code",
   "execution_count": 25,
   "id": "5d38d07a",
   "metadata": {
    "collapsed": true
   },
   "outputs": [
    {
     "name": "stdout",
     "output_type": "stream",
     "text": [
      "Collecting pyinstaller\n",
      "  Downloading pyinstaller-5.10.1-py3-none-win_amd64.whl (1.3 MB)\n",
      "     ---------------------------------------- 1.3/1.3 MB 10.0 MB/s eta 0:00:00\n",
      "Requirement already satisfied: pywin32-ctypes>=0.2.0 in c:\\users\\user\\anaconda\\lib\\site-packages (from pyinstaller) (0.2.0)\n",
      "Collecting altgraph\n",
      "  Downloading altgraph-0.17.3-py2.py3-none-any.whl (21 kB)\n",
      "Collecting pyinstaller-hooks-contrib>=2021.4\n",
      "  Downloading pyinstaller_hooks_contrib-2023.2-py2.py3-none-any.whl (261 kB)\n",
      "     ------------------------------------- 262.0/262.0 kB 15.7 MB/s eta 0:00:00\n",
      "Collecting pefile>=2022.5.30\n",
      "  Downloading pefile-2023.2.7-py3-none-any.whl (71 kB)\n",
      "     ---------------------------------------- 71.8/71.8 kB ? eta 0:00:00\n",
      "Requirement already satisfied: setuptools>=42.0.0 in c:\\users\\user\\anaconda\\lib\\site-packages (from pyinstaller) (65.6.3)\n",
      "Installing collected packages: altgraph, pyinstaller-hooks-contrib, pefile, pyinstaller\n",
      "Successfully installed altgraph-0.17.3 pefile-2023.2.7 pyinstaller-5.10.1 pyinstaller-hooks-contrib-2023.2\n"
     ]
    }
   ],
   "source": [
    "!pip install pyinstaller"
   ]
  },
  {
   "cell_type": "code",
   "execution_count": 16,
   "id": "9cd35623",
   "metadata": {},
   "outputs": [
    {
     "name": "stdout",
     "output_type": "stream",
     "text": [
      "반지름 입력하세요 : 21\n",
      "반지름 21인 원의 둘레 : 131.95\n",
      "반지름 21인 원의 넓이 : 1385.44\n"
     ]
    }
   ],
   "source": [
    "pi = 3.141592\n",
    "\n",
    "def number_input():\n",
    "    output = input(\"반지름 입력하세요 : \")\n",
    "    return float(output)\n",
    "\n",
    "def get_circumference(radious):\n",
    "    return 2 * pi * radious\n",
    "\n",
    "def get_circle_area(radious):\n",
    "    return pi * radious ** 2\n",
    "\n",
    "r = number_input()\n",
    "\n",
    "print('반지름 {:g}인 원의 둘레 :'.format(r), '{:.2f}'.format(get_circumference(r)))\n",
    "print('반지름 {:g}인 원의 넓이 :'.format(r), '{:.2f}'.format(get_circle_area(r)))"
   ]
  },
  {
   "cell_type": "code",
   "execution_count": 26,
   "id": "8b80cd47",
   "metadata": {},
   "outputs": [
    {
     "name": "stdout",
     "output_type": "stream",
     "text": [
      "반지름 21인 원의 둘레 :  131.95\n",
      "반지름 21인 원의 넓이 : 1385.44\n",
      "반지름 21인 원의 둘레 :  131.95\n",
      "반지름 21인 원의 넓이 : 1385.44\n"
     ]
    }
   ],
   "source": [
    "print(f'반지름 {r:g}인 원의 둘레 : {get_circumference(r):7.2f}')\n",
    "print(f'반지름 {r:g}인 원의 넓이 : {get_circle_area(r):7.2f}')\n",
    "\n",
    "print('반지름 {:g}인 원의 둘레 : {:7.2f}'.format(r, get_circumference(r)))\n",
    "print('반지름 {:g}인 원의 넓이 : {:7.2f}'.format(r, get_circle_area(r)))"
   ]
  },
  {
   "cell_type": "code",
   "execution_count": null,
   "id": "f68d09a7",
   "metadata": {},
   "outputs": [],
   "source": []
  }
 ],
 "metadata": {
  "kernelspec": {
   "display_name": "Python 3 (ipykernel)",
   "language": "python",
   "name": "python3"
  },
  "language_info": {
   "codemirror_mode": {
    "name": "ipython",
    "version": 3
   },
   "file_extension": ".py",
   "mimetype": "text/x-python",
   "name": "python",
   "nbconvert_exporter": "python",
   "pygments_lexer": "ipython3",
   "version": "3.10.9"
  }
 },
 "nbformat": 4,
 "nbformat_minor": 5
}
