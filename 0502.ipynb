{
 "cells": [
  {
   "cell_type": "code",
   "execution_count": 5,
   "id": "6ab8258f",
   "metadata": {},
   "outputs": [],
   "source": [
    "import datetime"
   ]
  },
  {
   "cell_type": "code",
   "execution_count": 4,
   "id": "4da7f4b7",
   "metadata": {},
   "outputs": [
    {
     "name": "stdout",
     "output_type": "stream",
     "text": [
      "현재는 봄입니다.\n"
     ]
    }
   ],
   "source": [
    "now = datetime.datetime.now()\n",
    "month = now.month\n",
    "\n",
    "if 3 <= month <= 5:\n",
    "    print(\"현재는 봄입니다.\")\n",
    "elif 6 <= month <= 8:\n",
    "    print(\"현재는 여름입니다.\")\n",
    "elif 9 <= month <= 11:\n",
    "    print(\"현재는 가을입니다.\")\n",
    "else:\n",
    "    print(\"현재는 겨울입니다.\")"
   ]
  },
  {
   "cell_type": "code",
   "execution_count": 7,
   "id": "77331120",
   "metadata": {
    "scrolled": true
   },
   "outputs": [],
   "source": [
    "now = datetime.datetime.now()"
   ]
  },
  {
   "cell_type": "code",
   "execution_count": 26,
   "id": "92e58526",
   "metadata": {
    "scrolled": false
   },
   "outputs": [
    {
     "name": "stdout",
     "output_type": "stream",
     "text": [
      "2023 년\n",
      "5 월\n",
      "2 일\n",
      "9 시\n",
      "31 분\n",
      "58 초\n",
      "\n",
      "지금부터 5초 동안 정지상태에 들어갑니다.\n",
      "\n",
      "시간 출력 재시작 합니다\n",
      "\n",
      "2023,05.02 09:31:58\n",
      "2023년 5월 2일 9시 31분 58초\n",
      "2023년 05월 02일 09시 31분 58초\n"
     ]
    }
   ],
   "source": [
    "print(now.year, '년')\n",
    "print(now.month, '월')\n",
    "print(now.day, '일')\n",
    "print(now.hour, '시')\n",
    "print(now.minute, '분')\n",
    "print(now.second, '초')\n",
    "print()\n",
    "\n",
    "import time\n",
    "print('지금부터 5초 동안 정지상태에 들어갑니다.')\n",
    "time.sleep(5)\n",
    "print()\n",
    "print('시간 출력 재시작 합니다')\n",
    "print()\n",
    "\n",
    "output_a = now.strftime(\"%Y,%m.%d %H:%M:%S\")\n",
    "output_b = \"{}년 {}월 {}일 {}시 {}분 {}초\".format(now.year,\\\n",
    "now.month,\\\n",
    "now.day,\\\n",
    "now.hour,\\\n",
    "now.minute,\\\n",
    "now.second)\n",
    "output_c = now.strftime('%Y{} %m{} %d{} %H{} %M{} %S{}').format(*'년월일시분초')\n",
    "\n",
    "print(output_a)\n",
    "print(output_b)\n",
    "print(output_c)"
   ]
  },
  {
   "cell_type": "code",
   "execution_count": 37,
   "id": "b44c02b3",
   "metadata": {
    "scrolled": true
   },
   "outputs": [
    {
     "name": "stdout",
     "output_type": "stream",
     "text": [
      "정수입력 :80\n",
      "학점은 B 입니다.\n"
     ]
    }
   ],
   "source": [
    "number = int(input('정수입력 :'))\n",
    "\n",
    "#number가 100-90 사이면 A, 89-80 사이면 B, 79-70 사이면 C, 69-60 사이면 D, 59이하이면 F\n",
    "if 0 <= number <= 100:\n",
    "    if 100 >= number >= 90:\n",
    "        grade = \"A\"\n",
    "    elif 90 > number >= 80:\n",
    "        grade = \"B\"\n",
    "    elif 80 > number >= 70:\n",
    "        grade = \"C\"\n",
    "    elif 70 > number >= 60:\n",
    "        grade = \"D\"\n",
    "    else:\n",
    "        grade = \"F\"\n",
    "    print(\"학점은\", grade, \"입니다.\")    \n",
    "else:\n",
    "    print('0에서 100 사잇값만 가능합니다')\n"
   ]
  },
  {
   "cell_type": "code",
   "execution_count": 38,
   "id": "93c9d4ec",
   "metadata": {},
   "outputs": [],
   "source": [
    "list_a = [273, 32, 103, '문자열', True, False]"
   ]
  },
  {
   "cell_type": "code",
   "execution_count": 39,
   "id": "ba29cc70",
   "metadata": {
    "scrolled": true
   },
   "outputs": [
    {
     "data": {
      "text/plain": [
       "[273, 32, 103, '문자열', True, False]"
      ]
     },
     "execution_count": 39,
     "metadata": {},
     "output_type": "execute_result"
    }
   ],
   "source": [
    "list_a"
   ]
  },
  {
   "cell_type": "code",
   "execution_count": 40,
   "id": "cb0bec9f",
   "metadata": {},
   "outputs": [
    {
     "data": {
      "text/plain": [
       "'문자열'"
      ]
     },
     "execution_count": 40,
     "metadata": {},
     "output_type": "execute_result"
    }
   ],
   "source": [
    "list_a[3]"
   ]
  },
  {
   "cell_type": "code",
   "execution_count": 42,
   "id": "f5941c60",
   "metadata": {},
   "outputs": [
    {
     "data": {
      "text/plain": [
       "['변경', 32, 103, '문자열', True, False]"
      ]
     },
     "execution_count": 42,
     "metadata": {},
     "output_type": "execute_result"
    }
   ],
   "source": [
    "list_a[0] = '변경'\n",
    "list_a"
   ]
  },
  {
   "cell_type": "code",
   "execution_count": 43,
   "id": "b2d86595",
   "metadata": {
    "scrolled": true
   },
   "outputs": [
    {
     "data": {
      "text/plain": [
       "'문'"
      ]
     },
     "execution_count": 43,
     "metadata": {},
     "output_type": "execute_result"
    }
   ],
   "source": [
    "list_a[3][0]"
   ]
  },
  {
   "cell_type": "code",
   "execution_count": 45,
   "id": "47454e15",
   "metadata": {},
   "outputs": [
    {
     "data": {
      "text/plain": [
       "[4, 5, 6]"
      ]
     },
     "execution_count": 45,
     "metadata": {},
     "output_type": "execute_result"
    }
   ],
   "source": [
    "list_a = [[1,2,3],[4,5,6],[7,8,9]]\n",
    "list_a[1]"
   ]
  },
  {
   "cell_type": "code",
   "execution_count": 47,
   "id": "91dec840",
   "metadata": {},
   "outputs": [
    {
     "data": {
      "text/plain": [
       "5"
      ]
     },
     "execution_count": 47,
     "metadata": {},
     "output_type": "execute_result"
    }
   ],
   "source": [
    "list_a[1][1]"
   ]
  },
  {
   "cell_type": "code",
   "execution_count": 60,
   "id": "0a98f7de",
   "metadata": {},
   "outputs": [
    {
     "name": "stdout",
     "output_type": "stream",
     "text": [
      "[273, 32, 103, '문자열', True, False, '인공지능협회', 2023]\n",
      "['인공지능협회', 2023, '인공지능협회', 2023, '인공지능협회', 2023]\n",
      "6 2\n",
      "\n",
      "[273, 32, 103, '문자열', True, False, '김민진', 177]\n",
      "\n",
      "[273, [10, 20, 30], 32, 103, '문자열', True, False, '김민진', 177]\n",
      "\n",
      "20\n"
     ]
    }
   ],
   "source": [
    "list_a = [273, 32, 103, '문자열', True, False]\n",
    "list_b = ['인공지능협회', 2023]\n",
    "\n",
    "print(list_a + list_b)\n",
    "print(list_b * 3)\n",
    "print(len(list_a), len(list_b))\n",
    "\n",
    "#list_a의 맨뒤에 자신의 이름, 키 추카 append 활용\n",
    "print()\n",
    "list_a.append('김민진')\n",
    "list_a.append(177)\n",
    "print(list_a)\n",
    "\n",
    "#list_a의 1번째 인덱스 위치에 [10,20,30] 리스트를 inserst 활용\n",
    "print()\n",
    "\n",
    "list_a.insert(1,[10,20,30])\n",
    "\n",
    "print(list_a)\n",
    "\n",
    "print() \n",
    "\n",
    "print(list_a[1][1])"
   ]
  },
  {
   "cell_type": "code",
   "execution_count": 51,
   "id": "686957c9",
   "metadata": {},
   "outputs": [
    {
     "name": "stdout",
     "output_type": "stream",
     "text": [
      "[1, 2, 3, 4, 5]\n",
      "\n",
      "[10, 1, 2, 3, 4, 5]\n"
     ]
    }
   ],
   "source": [
    "list_a = [1,2,3]\n",
    "\n",
    "list_a.append(4)\n",
    "list_a.append(5)\n",
    "print(list_a)\n",
    "print()\n",
    "\n",
    "list_a.insert(0,10)\n",
    "print(list_a)"
   ]
  },
  {
   "cell_type": "code",
   "execution_count": 2,
   "id": "7fc25db8",
   "metadata": {},
   "outputs": [],
   "source": [
    "list_a = [0,1,2,3,4,5]\n",
    "del list_a[1]"
   ]
  },
  {
   "cell_type": "code",
   "execution_count": 3,
   "id": "7ff5a8ea",
   "metadata": {},
   "outputs": [
    {
     "data": {
      "text/plain": [
       "[0, 2, 3, 4, 5]"
      ]
     },
     "execution_count": 3,
     "metadata": {},
     "output_type": "execute_result"
    }
   ],
   "source": [
    "list_a"
   ]
  },
  {
   "cell_type": "code",
   "execution_count": 4,
   "id": "856ea474",
   "metadata": {},
   "outputs": [
    {
     "data": {
      "text/plain": [
       "3"
      ]
     },
     "execution_count": 4,
     "metadata": {},
     "output_type": "execute_result"
    }
   ],
   "source": [
    "list_a.pop(2)"
   ]
  },
  {
   "cell_type": "code",
   "execution_count": 5,
   "id": "370798ca",
   "metadata": {},
   "outputs": [
    {
     "data": {
      "text/plain": [
       "[0, 2, 4, 5]"
      ]
     },
     "execution_count": 5,
     "metadata": {},
     "output_type": "execute_result"
    }
   ],
   "source": [
    "list_a"
   ]
  },
  {
   "cell_type": "code",
   "execution_count": 6,
   "id": "7ee1e5ad",
   "metadata": {},
   "outputs": [],
   "source": [
    "list_a.remove(2)"
   ]
  },
  {
   "cell_type": "code",
   "execution_count": 7,
   "id": "2ccbfc86",
   "metadata": {},
   "outputs": [
    {
     "data": {
      "text/plain": [
       "[0, 4, 5]"
      ]
     },
     "execution_count": 7,
     "metadata": {},
     "output_type": "execute_result"
    }
   ],
   "source": [
    "list_a"
   ]
  },
  {
   "cell_type": "code",
   "execution_count": 9,
   "id": "ab9739db",
   "metadata": {},
   "outputs": [],
   "source": [
    "list_a.clear()"
   ]
  },
  {
   "cell_type": "code",
   "execution_count": 10,
   "id": "f5231549",
   "metadata": {},
   "outputs": [
    {
     "data": {
      "text/plain": [
       "[]"
      ]
     },
     "execution_count": 10,
     "metadata": {},
     "output_type": "execute_result"
    }
   ],
   "source": [
    "list_a"
   ]
  },
  {
   "cell_type": "code",
   "execution_count": 12,
   "id": "98c917f4",
   "metadata": {
    "scrolled": true
   },
   "outputs": [
    {
     "name": "stdout",
     "output_type": "stream",
     "text": [
      "273\n",
      "32\n",
      "103\n",
      "57\n",
      "52\n"
     ]
    }
   ],
   "source": [
    "array = [273, 32, 103, 57, 52]\n",
    "for element in array:\n",
    "    print(element)"
   ]
  },
  {
   "cell_type": "code",
   "execution_count": 13,
   "id": "b1cc812a",
   "metadata": {},
   "outputs": [],
   "source": [
    "dict_a = {'name' : '어벤져스 엔드게임', 'type' : '히어로 무비'}"
   ]
  },
  {
   "cell_type": "code",
   "execution_count": 16,
   "id": "c40a793f",
   "metadata": {
    "scrolled": true
   },
   "outputs": [
    {
     "data": {
      "text/plain": [
       "('어벤져스 엔드게임', '히어로 무비')"
      ]
     },
     "execution_count": 16,
     "metadata": {},
     "output_type": "execute_result"
    }
   ],
   "source": [
    "dict_a['name'], dict_a['type']"
   ]
  },
  {
   "cell_type": "code",
   "execution_count": 24,
   "id": "574b50ea",
   "metadata": {
    "scrolled": true
   },
   "outputs": [
    {
     "name": "stdout",
     "output_type": "stream",
     "text": [
      "name: 7D 건조 망고\n",
      "type: 당절임\n",
      "ingredient: ['망고', '설탕', '메타중아황산나트륨', '치자황색소']\n",
      "origin: 필리핀\n",
      "\n",
      "name: 8D 건조 망고\n"
     ]
    }
   ],
   "source": [
    "# 딕셔너리를 선언합니다.\n",
    "dictionary = {\n",
    "    \"name\": \"7D 건조 망고\",\n",
    "    \"type\": \"당절임\",\n",
    "    \"ingredient\": [\"망고\", \"설탕\", \"메타중아황산나트륨\", \"치자황색소\"],\n",
    "    \"origin\": \"필리핀\"\n",
    "}\n",
    "\n",
    "# 출력합니다.\n",
    "print(\"name:\", dictionary[\"name\"])\n",
    "print(\"type:\", dictionary[\"type\"])\n",
    "print(\"ingredient:\", dictionary[\"ingredient\"])\n",
    "print(\"origin:\", dictionary[\"origin\"])\n",
    "print()\n",
    "\n",
    "# 값을 변경합니다.\n",
    "dictionary[\"name\"] = \"8D 건조 망고\"\n",
    "print(\"name:\", dictionary[\"name\"])"
   ]
  },
  {
   "cell_type": "code",
   "execution_count": 38,
   "id": "f31abe6a",
   "metadata": {},
   "outputs": [],
   "source": [
    "dictionary = {}\n",
    "dictionary['name'] = '이름'\n",
    "dictionary['head'] = '머리'\n",
    "dictionary['body'] = '신체'\n",
    "dictionary['eye'] = [2.0, 1.5]"
   ]
  },
  {
   "cell_type": "code",
   "execution_count": 39,
   "id": "11c89018",
   "metadata": {},
   "outputs": [
    {
     "data": {
      "text/plain": [
       "{'name': '이름', 'head': '머리', 'body': '신체', 'eye': [2.0, 1.5]}"
      ]
     },
     "execution_count": 39,
     "metadata": {},
     "output_type": "execute_result"
    }
   ],
   "source": [
    "dictionary"
   ]
  },
  {
   "cell_type": "code",
   "execution_count": 40,
   "id": "53b3554b",
   "metadata": {},
   "outputs": [
    {
     "name": "stdout",
     "output_type": "stream",
     "text": [
      "{'head': '머리', 'body': '신체', 'eye': [2.0, 1.5]}\n"
     ]
    }
   ],
   "source": [
    "del dictionary['name']\n",
    "print(dictionary)"
   ]
  },
  {
   "cell_type": "code",
   "execution_count": 41,
   "id": "366818f0",
   "metadata": {},
   "outputs": [
    {
     "name": "stdout",
     "output_type": "stream",
     "text": [
      "{'head': '머리', 'body': '신체', 'eye': [2.0]}\n"
     ]
    }
   ],
   "source": [
    "del dictionary['eye'][1]\n",
    "print(dictionary)"
   ]
  },
  {
   "cell_type": "code",
   "execution_count": 42,
   "id": "e6cc37e2",
   "metadata": {},
   "outputs": [
    {
     "name": "stdout",
     "output_type": "stream",
     "text": [
      "range(0, 5)\n"
     ]
    },
    {
     "data": {
      "text/plain": [
       "[0, 1, 2, 3, 4]"
      ]
     },
     "execution_count": 42,
     "metadata": {},
     "output_type": "execute_result"
    }
   ],
   "source": [
    "n = 10\n",
    "a = range(0, n//2)\n",
    "print(a)\n",
    "list(a)"
   ]
  },
  {
   "cell_type": "code",
   "execution_count": 44,
   "id": "bedd58a9",
   "metadata": {
    "scrolled": true
   },
   "outputs": [
    {
     "name": "stdout",
     "output_type": "stream",
     "text": [
      "0 = 반복 변수\n",
      "1 = 반복 변수\n",
      "2 = 반복 변수\n",
      "3 = 반복 변수\n",
      "4 = 반복 변수\n",
      "\n",
      "5 = 반복 변수\n",
      "6 = 반복 변수\n",
      "7 = 반복 변수\n",
      "8 = 반복 변수\n",
      "9 = 반복 변수\n",
      "\n",
      "0 = 반복 변수\n",
      "3 = 반복 변수\n",
      "6 = 반복 변수\n",
      "9 = 반복 변수\n",
      "\n"
     ]
    }
   ],
   "source": [
    "for i in range(5):\n",
    "    print(str(i) + \" = 반복 변수\")\n",
    "print()\n",
    "\n",
    "for i in range(5, 10):\n",
    "    print(str(i) + \" = 반복 변수\")\n",
    "print()\n",
    "\n",
    "for i in range(0, 10, 3):\n",
    "    print(str(i) + \" = 반복 변수\")\n",
    "print()"
   ]
  },
  {
   "cell_type": "code",
   "execution_count": 50,
   "id": "9b0192d0",
   "metadata": {},
   "outputs": [
    {
     "name": "stdout",
     "output_type": "stream",
     "text": [
      "정수입력(종료: -1) :325\n",
      "0에서 100 사잇값만 가능합니다\n",
      "정수입력(종료: -1) :-1\n"
     ]
    }
   ],
   "source": [
    "i = 0\n",
    "while True:\n",
    "    number = int(input('정수입력(종료: -1) :'))\n",
    "\n",
    "#number가 100-90 사이면 A, 89-80 사이면 B, 79-70 사이면 C, 69-60 사이면 D, 59이하이면 F\n",
    "    if number == -1 :\n",
    "        break\n",
    "    elif 0 <= number <= 100:\n",
    "        if 100 >= number >= 90:\n",
    "            grade = \"A\"\n",
    "        elif 90 > number >= 80:\n",
    "            grade = \"B\"\n",
    "        elif 80 > number >= 70:\n",
    "            grade = \"C\"\n",
    "        elif 70 > number >= 60:\n",
    "            grade = \"D\"\n",
    "        else:\n",
    "            grade = \"F\"\n",
    "        print(\"학점은\", grade, \"입니다.\")    \n",
    "    else:\n",
    "        print('0에서 100 사잇값만 가능합니다')\n"
   ]
  },
  {
   "cell_type": "code",
   "execution_count": 51,
   "id": "6ff8086c",
   "metadata": {},
   "outputs": [
    {
     "name": "stdout",
     "output_type": "stream",
     "text": [
      "5초 동안 20173809번 반복했습니다.\n"
     ]
    }
   ],
   "source": [
    "import time\n",
    "\n",
    "number =0\n",
    "\n",
    "target_tick = time.time() + 5\n",
    "while time.time()  <  target_tick:\n",
    "    number += 1\n",
    "    \n",
    "print('5초 동안 {}번 반복했습니다.'.format(number))"
   ]
  },
  {
   "cell_type": "code",
   "execution_count": null,
   "id": "a4c3793f",
   "metadata": {},
   "outputs": [],
   "source": [
    "# 1- 1000 사이의 값들 중 9의 배수를 구해서 출력"
   ]
  },
  {
   "cell_type": "code",
   "execution_count": 67,
   "id": "9c8f93ec",
   "metadata": {},
   "outputs": [
    {
     "name": "stdout",
     "output_type": "stream",
     "text": [
      "55944\n"
     ]
    }
   ],
   "source": [
    "sum = 0\n",
    "for i in range(1,1000+1):\n",
    "    if i % 9 == 0 :\n",
    "        sum += i\n",
    "    else:\n",
    "        continue\n",
    "print(sum)"
   ]
  },
  {
   "cell_type": "code",
   "execution_count": 79,
   "id": "3edc5f31",
   "metadata": {},
   "outputs": [
    {
     "name": "stdout",
     "output_type": "stream",
     "text": [
      "dictionary[키A] = 값A\n",
      "dictionary[키B] = 값B\n",
      "dictionary[키C] = 값C\n"
     ]
    }
   ],
   "source": [
    "example_dictionary = {\n",
    "    '키A': '값A',\n",
    "    '키B': '값B',\n",
    "    '키C': '값C',\n",
    "}\n",
    "\n",
    "for key, element in example_dictionary.items():\n",
    "    print('dictionary[{}] = {}'.format(key, element))"
   ]
  },
  {
   "cell_type": "code",
   "execution_count": 80,
   "id": "7e385b10",
   "metadata": {},
   "outputs": [
    {
     "data": {
      "text/plain": [
       "dict_items([('키A', '값A'), ('키B', '값B'), ('키C', '값C')])"
      ]
     },
     "execution_count": 80,
     "metadata": {},
     "output_type": "execute_result"
    }
   ],
   "source": [
    "example_dictionary.items()"
   ]
  },
  {
   "cell_type": "code",
   "execution_count": 91,
   "id": "7c7ceece",
   "metadata": {},
   "outputs": [],
   "source": [
    "array = ['사과', '자두', '초콜릿', '바나나', '체리']\n",
    "output = [fruit for fruit in array if fruit != '초콜릿']"
   ]
  },
  {
   "cell_type": "code",
   "execution_count": 92,
   "id": "138e2a23",
   "metadata": {},
   "outputs": [
    {
     "data": {
      "text/plain": [
       "['사과', '자두', '바나나', '체리']"
      ]
     },
     "execution_count": 92,
     "metadata": {},
     "output_type": "execute_result"
    }
   ],
   "source": [
    "output"
   ]
  },
  {
   "cell_type": "code",
   "execution_count": 93,
   "id": "d155b46e",
   "metadata": {},
   "outputs": [],
   "source": [
    "def print_3_times():\n",
    "    print('안녕하세요')\n",
    "    print('안녕하세요')    \n",
    "    print('안녕하세요')    "
   ]
  },
  {
   "cell_type": "code",
   "execution_count": 97,
   "id": "0b17aadf",
   "metadata": {},
   "outputs": [
    {
     "name": "stdout",
     "output_type": "stream",
     "text": [
      "안녕하세요\n",
      "안녕하세요\n",
      "안녕하세요\n"
     ]
    }
   ],
   "source": [
    "print_3_times()"
   ]
  },
  {
   "cell_type": "code",
   "execution_count": 98,
   "id": "831e7222",
   "metadata": {},
   "outputs": [],
   "source": [
    "def print_3_times(value, n):\n",
    "    for i in range(n):\n",
    "        print(value)"
   ]
  },
  {
   "cell_type": "code",
   "execution_count": 99,
   "id": "20aff3ea",
   "metadata": {},
   "outputs": [
    {
     "name": "stdout",
     "output_type": "stream",
     "text": [
      "안녕하세요\n",
      "안녕하세요\n",
      "안녕하세요\n"
     ]
    }
   ],
   "source": [
    "print_3_times('안녕하세요', 3)"
   ]
  },
  {
   "cell_type": "code",
   "execution_count": 101,
   "id": "1436293a",
   "metadata": {},
   "outputs": [],
   "source": [
    "### 원의 반지름을 입력하면 원의 둘레 circleRound(r) 원의 넓이 circleArea(r)를 구해서 출력하는 함수"
   ]
  },
  {
   "cell_type": "code",
   "execution_count": 106,
   "id": "d1e25798",
   "metadata": {},
   "outputs": [],
   "source": [
    "def circleRound(r):\n",
    "    pi = 3.141592\n",
    "    return pi*int(r)**2"
   ]
  },
  {
   "cell_type": "code",
   "execution_count": 107,
   "id": "d60ae574",
   "metadata": {},
   "outputs": [],
   "source": [
    "def circleArea(r):\n",
    "    pi = 3.141592\n",
    "    return 2*pi*int(r)"
   ]
  }
 ],
 "metadata": {
  "kernelspec": {
   "display_name": "Python 3 (ipykernel)",
   "language": "python",
   "name": "python3"
  },
  "language_info": {
   "codemirror_mode": {
    "name": "ipython",
    "version": 3
   },
   "file_extension": ".py",
   "mimetype": "text/x-python",
   "name": "python",
   "nbconvert_exporter": "python",
   "pygments_lexer": "ipython3",
   "version": "3.10.9"
  }
 },
 "nbformat": 4,
 "nbformat_minor": 5
}
