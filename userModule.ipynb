{
 "cells": [
  {
   "cell_type": "code",
   "execution_count": 4,
   "id": "50e7acf1",
   "metadata": {},
   "outputs": [
    {
     "name": "stdout",
     "output_type": "stream",
     "text": [
      "반지름 입력하세요 : 4\n",
      "25.132736\n"
     ]
    }
   ],
   "source": [
    "pi = 3.141592\n",
    "\n",
    "def number_input():\n",
    "    output = input(\"반지름 입력하세요 : \")\n",
    "    return float(output)\n",
    "\n",
    "def get_circumference(radious):\n",
    "    return 2 * pi * radious\n",
    "\n",
    "def get_circle_area(radious):\n",
    "    return pi * radious ** 2\n"
   ]
  },
  {
   "cell_type": "code",
   "execution_count": null,
   "id": "8d3f5b2a",
   "metadata": {},
   "outputs": [],
   "source": []
  }
 ],
 "metadata": {
  "kernelspec": {
   "display_name": "Python 3 (ipykernel)",
   "language": "python",
   "name": "python3"
  },
  "language_info": {
   "codemirror_mode": {
    "name": "ipython",
    "version": 3
   },
   "file_extension": ".py",
   "mimetype": "text/x-python",
   "name": "python",
   "nbconvert_exporter": "python",
   "pygments_lexer": "ipython3",
   "version": "3.10.9"
  }
 },
 "nbformat": 4,
 "nbformat_minor": 5
}
