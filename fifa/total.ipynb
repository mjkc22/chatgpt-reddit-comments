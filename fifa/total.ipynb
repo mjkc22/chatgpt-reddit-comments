{
 "cells": [
  {
   "cell_type": "code",
   "execution_count": 1,
   "id": "5530063f-2da6-4345-aac1-509b4220709f",
   "metadata": {},
   "outputs": [],
   "source": [
    "import pandas as pd\n",
    "import warnings\n",
    "import numpy as np\n",
    "import seaborn as sns"
   ]
  },
  {
   "cell_type": "markdown",
   "id": "fe0435fa-c4ab-4804-ad75-f2ac41917efc",
   "metadata": {},
   "source": [
    "# 2. 처리 작업"
   ]
  },
  {
   "cell_type": "code",
   "execution_count": 2,
   "id": "24b99761-8a77-4c37-8a29-75f31c4c0c8a",
   "metadata": {},
   "outputs": [],
   "source": [
    "train =pd.read_csv('FIFA_train.csv')\n",
    "test =pd.read_csv('FIFA_test.csv')\n",
    "sub = pd.read_csv('submission.csv')"
   ]
  },
  {
   "cell_type": "markdown",
   "id": "32bf3c80-d7bc-45a8-bd74-ea09a2d57b9b",
   "metadata": {},
   "source": [
    "## 2.1. train, test 대응"
   ]
  },
  {
   "cell_type": "code",
   "execution_count": 3,
   "id": "f075839f-634b-4cd8-bee2-280f1b975f3d",
   "metadata": {},
   "outputs": [],
   "source": [
    "train_test_dataset = [train, test]"
   ]
  },
  {
   "cell_type": "code",
   "execution_count": 4,
   "id": "6280a2e0-0ffb-4ee7-a1ef-df38fea21f4b",
   "metadata": {},
   "outputs": [],
   "source": [
    "for data in train_test_dataset:\n",
    "    continent_mapping = {'europe': 0 ,'south america' : 1, 'asia' : 2, 'africa' : 3, 'oceania': 4}\n",
    "    data['continent'] = data['continent'].map(continent_mapping)\n",
    "    \n",
    "    position_mapping = {'MF':0 , 'DF' : 1, 'ST' : 2, 'GK' : 3}\n",
    "    data['position'] = data['position'].map(position_mapping)\n",
    "\n",
    "    prefer_foot_mapping = {'right' :0, 'left': 1}\n",
    "    data['prefer_foot'] = data['prefer_foot'].map(prefer_foot_mapping)\n",
    "    \n",
    "    def func(string):\n",
    "        string=string[-4:]\n",
    "        return int(string)\n",
    "\n",
    "    data['contract_until']= data['contract_until'].apply(func) \n",
    "    \n",
    "    data.drop(['name','id','position','prefer_foot'], axis=1, inplace= True)"
   ]
  },
  {
   "cell_type": "code",
   "execution_count": 5,
   "id": "93222398-de77-4ad9-987d-9d3c0cd0ca30",
   "metadata": {},
   "outputs": [],
   "source": [
    "from sklearn.preprocessing import StandardScaler\n",
    "\n",
    "scaler = StandardScaler()\n",
    "data = scaler.fit_transform(data)"
   ]
  },
  {
   "cell_type": "code",
   "execution_count": 6,
   "id": "348b110c-479c-438c-acfa-c5e9fe49680e",
   "metadata": {},
   "outputs": [
    {
     "data": {
      "text/plain": [
       "((8932, 8), (3828, 7))"
      ]
     },
     "execution_count": 6,
     "metadata": {},
     "output_type": "execute_result"
    }
   ],
   "source": [
    "train.shape, test.shape"
   ]
  },
  {
   "cell_type": "code",
   "execution_count": 7,
   "id": "b0186dea-21b7-424a-853a-94f8cda3b902",
   "metadata": {},
   "outputs": [
    {
     "name": "stdout",
     "output_type": "stream",
     "text": [
      "<class 'pandas.core.frame.DataFrame'>\n",
      "RangeIndex: 8932 entries, 0 to 8931\n",
      "Data columns (total 8 columns):\n",
      " #   Column            Non-Null Count  Dtype  \n",
      "---  ------            --------------  -----  \n",
      " 0   age               8932 non-null   int64  \n",
      " 1   continent         8932 non-null   int64  \n",
      " 2   contract_until    8932 non-null   int64  \n",
      " 3   reputation        8932 non-null   float64\n",
      " 4   stat_overall      8932 non-null   int64  \n",
      " 5   stat_potential    8932 non-null   int64  \n",
      " 6   stat_skill_moves  8932 non-null   float64\n",
      " 7   value             8932 non-null   float64\n",
      "dtypes: float64(3), int64(5)\n",
      "memory usage: 558.4 KB\n"
     ]
    }
   ],
   "source": [
    "train.info()"
   ]
  },
  {
   "cell_type": "code",
   "execution_count": 8,
   "id": "8988fc1d-dbb5-43dd-a39c-907676f4a749",
   "metadata": {
    "tags": []
   },
   "outputs": [
    {
     "name": "stdout",
     "output_type": "stream",
     "text": [
      "<class 'pandas.core.frame.DataFrame'>\n",
      "RangeIndex: 3828 entries, 0 to 3827\n",
      "Data columns (total 7 columns):\n",
      " #   Column            Non-Null Count  Dtype  \n",
      "---  ------            --------------  -----  \n",
      " 0   age               3828 non-null   int64  \n",
      " 1   continent         3828 non-null   int64  \n",
      " 2   contract_until    3828 non-null   int64  \n",
      " 3   reputation        3828 non-null   float64\n",
      " 4   stat_overall      3828 non-null   int64  \n",
      " 5   stat_potential    3828 non-null   int64  \n",
      " 6   stat_skill_moves  3828 non-null   float64\n",
      "dtypes: float64(2), int64(5)\n",
      "memory usage: 209.5 KB\n"
     ]
    }
   ],
   "source": [
    "test.info()"
   ]
  },
  {
   "cell_type": "markdown",
   "id": "85c11965-6c75-48d2-82a4-9b061fa93663",
   "metadata": {},
   "source": [
    "## 2.2. 모델 적용"
   ]
  },
  {
   "cell_type": "code",
   "execution_count": 9,
   "id": "ffbfda75-7859-4f3b-849b-7ee8af77dec1",
   "metadata": {},
   "outputs": [],
   "source": [
    "from sklearn.linear_model import Ridge\n",
    "from sklearn.linear_model import LogisticRegression\n",
    "from sklearn.tree import DecisionTreeClassifier\n",
    "from sklearn.ensemble import RandomForestClassifier\n",
    "from sklearn.ensemble import GradientBoostingClassifier\n",
    "from sklearn.ensemble import AdaBoostClassifier\n",
    "\n",
    "from sklearn.metrics import accuracy_score\n",
    "from sklearn.model_selection import train_test_split"
   ]
  },
  {
   "cell_type": "code",
   "execution_count": 10,
   "id": "d968fc0f-9f86-4829-9ef0-5bd4c1ae6889",
   "metadata": {},
   "outputs": [],
   "source": [
    "inputs = train.drop('value',axis = 1)  # or train.drop(columns = 'Survived')  #문제"
   ]
  },
  {
   "cell_type": "code",
   "execution_count": 11,
   "id": "66f7a4e1-c570-436c-a2c4-6999d6a3175d",
   "metadata": {},
   "outputs": [],
   "source": [
    "outputs = train['value'] #정답지"
   ]
  },
  {
   "cell_type": "code",
   "execution_count": 12,
   "id": "5e2b7117-fc24-43df-a388-97d03751fb0b",
   "metadata": {},
   "outputs": [
    {
     "name": "stdout",
     "output_type": "stream",
     "text": [
      "(8932, 7) (8932,)\n"
     ]
    }
   ],
   "source": [
    "print(inputs.shape, outputs.shape)  #확인 해야 한다."
   ]
  },
  {
   "cell_type": "code",
   "execution_count": 13,
   "id": "4b3c5155-40a6-4e94-9321-055261d3e0ec",
   "metadata": {},
   "outputs": [],
   "source": [
    "train_input , test_input, train_output, test_output = train_test_split(inputs, outputs, test_size = 0.2 , random_state = 10) \n",
    "\n",
    "#test_size train이 8 test가 2로  학습에 더 많은 비중 / stratify ->  output에 있는 데이터의 비율을 유지하면서 값을 뽑아준다 / random_state => seed 보통 10"
   ]
  },
  {
   "cell_type": "code",
   "execution_count": 14,
   "id": "280553e6-7e61-4213-9527-77c4685d4ed9",
   "metadata": {},
   "outputs": [],
   "source": [
    "model1 = Ridge()\n",
    "model2 = LogisticRegression()\n",
    "model3 = DecisionTreeClassifier()\n",
    "model4 = RandomForestClassifier()\n",
    "model5 = GradientBoostingClassifier()\n",
    "model6 = AdaBoostClassifier()"
   ]
  },
  {
   "cell_type": "markdown",
   "id": "5c70d5c6-dd96-431c-b442-2334e3b3b719",
   "metadata": {},
   "source": [
    "### 2.3.1. Model 2 - LogisticRegression"
   ]
  },
  {
   "cell_type": "markdown",
   "id": "320c8659-f6ad-4895-9cd5-52d93e2d4997",
   "metadata": {},
   "source": [
    "#### 2.3.1.1. Model 2 - LogisticRegression (penalty='l2')"
   ]
  },
  {
   "cell_type": "code",
   "execution_count": 15,
   "id": "bfdbd3fd-fd76-4d9a-be65-3f7ec8818321",
   "metadata": {
    "tags": []
   },
   "outputs": [
    {
     "name": "stderr",
     "output_type": "stream",
     "text": [
      "/Users/kmj/opt/anaconda3/lib/python3.9/site-packages/sklearn/linear_model/_logistic.py:814: ConvergenceWarning: lbfgs failed to converge (status=1):\n",
      "STOP: TOTAL NO. of ITERATIONS REACHED LIMIT.\n",
      "\n",
      "Increase the number of iterations (max_iter) or scale the data as shown in:\n",
      "    https://scikit-learn.org/stable/modules/preprocessing.html\n",
      "Please also refer to the documentation for alternative solver options:\n",
      "    https://scikit-learn.org/stable/modules/linear_model.html#logistic-regression\n",
      "  n_iter_i = _check_optimize_result(\n"
     ]
    },
    {
     "data": {
      "text/plain": [
       "LogisticRegression()"
      ]
     },
     "execution_count": 15,
     "metadata": {},
     "output_type": "execute_result"
    }
   ],
   "source": [
    "model2.fit(train_input, train_output)"
   ]
  },
  {
   "cell_type": "code",
   "execution_count": 16,
   "id": "031b45f5-8fd8-4f5d-a25f-10a614a8d565",
   "metadata": {},
   "outputs": [
    {
     "data": {
      "text/plain": [
       "4.9545136459062284"
      ]
     },
     "execution_count": 16,
     "metadata": {},
     "output_type": "execute_result"
    }
   ],
   "source": [
    "model2.score(train_input, train_output) * 100"
   ]
  },
  {
   "cell_type": "code",
   "execution_count": 17,
   "id": "902b4416-da19-4dfe-b49c-21f94ba00b0e",
   "metadata": {},
   "outputs": [
    {
     "data": {
      "text/plain": [
       "4.98041410184667"
      ]
     },
     "execution_count": 17,
     "metadata": {},
     "output_type": "execute_result"
    }
   ],
   "source": [
    "model2.score(test_input, test_output) * 100"
   ]
  },
  {
   "cell_type": "code",
   "execution_count": 18,
   "id": "3e39762c-24ad-4969-a623-dc5d84f8ee05",
   "metadata": {},
   "outputs": [],
   "source": [
    "test_pre = model2.predict(test_input)"
   ]
  },
  {
   "cell_type": "code",
   "execution_count": 19,
   "id": "29c5d6a9-69de-4bec-9689-2f24a22685e8",
   "metadata": {},
   "outputs": [
    {
     "data": {
      "text/plain": [
       "2851     1600000.0\n",
       "3925      600000.0\n",
       "6183      475000.0\n",
       "246     11000000.0\n",
       "1090     2700000.0\n",
       "           ...    \n",
       "4275      600000.0\n",
       "8773       90000.0\n",
       "7990      230000.0\n",
       "5       44000000.0\n",
       "4105      975000.0\n",
       "Name: value, Length: 1787, dtype: float64"
      ]
     },
     "execution_count": 19,
     "metadata": {},
     "output_type": "execute_result"
    }
   ],
   "source": [
    "test_output"
   ]
  },
  {
   "cell_type": "code",
   "execution_count": 20,
   "id": "cffff76f-3260-43a3-b731-f0a8501c1234",
   "metadata": {},
   "outputs": [
    {
     "data": {
      "text/plain": [
       "1000000.0"
      ]
     },
     "execution_count": 20,
     "metadata": {},
     "output_type": "execute_result"
    }
   ],
   "source": [
    "test_pre[0]"
   ]
  },
  {
   "cell_type": "code",
   "execution_count": 21,
   "id": "7dd7c540-4495-4c4d-987d-5c2951995405",
   "metadata": {},
   "outputs": [
    {
     "data": {
      "text/plain": [
       "age                   31.0\n",
       "continent              0.0\n",
       "contract_until      2020.0\n",
       "reputation             1.0\n",
       "stat_overall          70.0\n",
       "stat_potential        70.0\n",
       "stat_skill_moves       3.0\n",
       "Name: 2851, dtype: float64"
      ]
     },
     "execution_count": 21,
     "metadata": {},
     "output_type": "execute_result"
    }
   ],
   "source": [
    "test_input.iloc[0]"
   ]
  },
  {
   "cell_type": "code",
   "execution_count": 22,
   "id": "f4862509-c2fc-4846-ada1-35d44416b1c1",
   "metadata": {},
   "outputs": [
    {
     "data": {
      "text/plain": [
       "4.98041410184667"
      ]
     },
     "execution_count": 22,
     "metadata": {},
     "output_type": "execute_result"
    }
   ],
   "source": [
    "accuracy_score(test_pre, test_output) * 100"
   ]
  },
  {
   "cell_type": "markdown",
   "id": "fd686069-6492-4576-910e-7af6df369bf5",
   "metadata": {},
   "source": [
    "#### 2.3.1.2. Model 2 - LogisticRegression (penalty='none')"
   ]
  },
  {
   "cell_type": "code",
   "execution_count": 23,
   "id": "28d0b41b-6e8b-433a-8d2b-bf5279ba1926",
   "metadata": {},
   "outputs": [],
   "source": [
    "model2 = LogisticRegression(penalty='none')"
   ]
  },
  {
   "cell_type": "code",
   "execution_count": 24,
   "id": "3f9e5121-422d-46c9-b176-67d17286131a",
   "metadata": {},
   "outputs": [
    {
     "name": "stderr",
     "output_type": "stream",
     "text": [
      "/Users/kmj/opt/anaconda3/lib/python3.9/site-packages/sklearn/linear_model/_logistic.py:814: ConvergenceWarning: lbfgs failed to converge (status=1):\n",
      "STOP: TOTAL NO. of ITERATIONS REACHED LIMIT.\n",
      "\n",
      "Increase the number of iterations (max_iter) or scale the data as shown in:\n",
      "    https://scikit-learn.org/stable/modules/preprocessing.html\n",
      "Please also refer to the documentation for alternative solver options:\n",
      "    https://scikit-learn.org/stable/modules/linear_model.html#logistic-regression\n",
      "  n_iter_i = _check_optimize_result(\n"
     ]
    },
    {
     "data": {
      "text/plain": [
       "LogisticRegression(penalty='none')"
      ]
     },
     "execution_count": 24,
     "metadata": {},
     "output_type": "execute_result"
    }
   ],
   "source": [
    "model2.fit(train_input, train_output)"
   ]
  },
  {
   "cell_type": "code",
   "execution_count": 25,
   "id": "a4deec2d-5edc-4c1e-833a-2d035b3fa7f6",
   "metadata": {},
   "outputs": [
    {
     "data": {
      "text/plain": [
       "4.96850944716585"
      ]
     },
     "execution_count": 25,
     "metadata": {},
     "output_type": "execute_result"
    }
   ],
   "source": [
    "model2.score(train_input, train_output) * 100"
   ]
  },
  {
   "cell_type": "code",
   "execution_count": 26,
   "id": "6f3d72cb-e422-4a40-a3b2-50820bb36e94",
   "metadata": {},
   "outputs": [
    {
     "data": {
      "text/plain": [
       "5.372132064913263"
      ]
     },
     "execution_count": 26,
     "metadata": {},
     "output_type": "execute_result"
    }
   ],
   "source": [
    "model2.score(test_input, test_output) * 100"
   ]
  },
  {
   "cell_type": "code",
   "execution_count": 27,
   "id": "80b2884a-d99c-4c12-aba6-0817aeb39068",
   "metadata": {},
   "outputs": [],
   "source": [
    "test_pre = model2.predict(test_input)"
   ]
  },
  {
   "cell_type": "code",
   "execution_count": 28,
   "id": "165978da-419d-49bb-89a0-3df6e8c188c9",
   "metadata": {},
   "outputs": [
    {
     "data": {
      "text/plain": [
       "2851     1600000.0\n",
       "3925      600000.0\n",
       "6183      475000.0\n",
       "246     11000000.0\n",
       "1090     2700000.0\n",
       "           ...    \n",
       "4275      600000.0\n",
       "8773       90000.0\n",
       "7990      230000.0\n",
       "5       44000000.0\n",
       "4105      975000.0\n",
       "Name: value, Length: 1787, dtype: float64"
      ]
     },
     "execution_count": 28,
     "metadata": {},
     "output_type": "execute_result"
    }
   ],
   "source": [
    "test_output"
   ]
  },
  {
   "cell_type": "code",
   "execution_count": 29,
   "id": "fc95bfdd-f939-47ef-9455-89dcee90e4f8",
   "metadata": {},
   "outputs": [
    {
     "data": {
      "text/plain": [
       "1000000.0"
      ]
     },
     "execution_count": 29,
     "metadata": {},
     "output_type": "execute_result"
    }
   ],
   "source": [
    "test_pre[0]"
   ]
  },
  {
   "cell_type": "code",
   "execution_count": 30,
   "id": "0997d13b-c5dd-4e9c-8479-8021ea0ef100",
   "metadata": {},
   "outputs": [
    {
     "data": {
      "text/plain": [
       "age                   31.0\n",
       "continent              0.0\n",
       "contract_until      2020.0\n",
       "reputation             1.0\n",
       "stat_overall          70.0\n",
       "stat_potential        70.0\n",
       "stat_skill_moves       3.0\n",
       "Name: 2851, dtype: float64"
      ]
     },
     "execution_count": 30,
     "metadata": {},
     "output_type": "execute_result"
    }
   ],
   "source": [
    "test_input.iloc[0]"
   ]
  },
  {
   "cell_type": "code",
   "execution_count": 31,
   "id": "5255cf63-3e35-4adb-b012-238f151c9eed",
   "metadata": {
    "tags": []
   },
   "outputs": [
    {
     "data": {
      "text/plain": [
       "5.372132064913263"
      ]
     },
     "execution_count": 31,
     "metadata": {},
     "output_type": "execute_result"
    }
   ],
   "source": [
    "accuracy_score(test_pre, test_output) * 100"
   ]
  },
  {
   "cell_type": "markdown",
   "id": "a0e994cf-f594-4466-95c7-4a2597485ba9",
   "metadata": {
    "tags": []
   },
   "source": [
    "### 2.3.2. Ridge"
   ]
  },
  {
   "cell_type": "markdown",
   "id": "3eaf5a2f-aa91-4379-9dd3-ef61e6df7c15",
   "metadata": {
    "tags": []
   },
   "source": [
    "#### 2.3.2.1. Ridge (fit_intercept=True, normalize=False) - default"
   ]
  },
  {
   "cell_type": "code",
   "execution_count": 32,
   "id": "10dad227-6ff6-4154-a153-b718da68479b",
   "metadata": {},
   "outputs": [],
   "source": [
    "model1 = Ridge()"
   ]
  },
  {
   "cell_type": "code",
   "execution_count": 91,
   "id": "32a3560e-6223-456d-893d-10a7f2f496b7",
   "metadata": {
    "tags": []
   },
   "outputs": [
    {
     "name": "stderr",
     "output_type": "stream",
     "text": [
      "/Users/kmj/opt/anaconda3/lib/python3.9/site-packages/sklearn/linear_model/_base.py:141: FutureWarning: 'normalize' was deprecated in version 1.0 and will be removed in 1.2.\n",
      "If you wish to scale the data, use Pipeline with a StandardScaler in a preprocessing stage. To reproduce the previous behavior:\n",
      "\n",
      "from sklearn.pipeline import make_pipeline\n",
      "\n",
      "model = make_pipeline(StandardScaler(with_mean=False), Ridge())\n",
      "\n",
      "If you wish to pass a sample_weight parameter, you need to pass it as a fit parameter to each step of the pipeline as follows:\n",
      "\n",
      "kwargs = {s[0] + '__sample_weight': sample_weight for s in model.steps}\n",
      "model.fit(X, y, **kwargs)\n",
      "\n",
      "Set parameter alpha to: original_alpha * n_samples. \n",
      "  warnings.warn(\n"
     ]
    },
    {
     "data": {
      "text/plain": [
       "Ridge(fit_intercept=False, normalize=True)"
      ]
     },
     "execution_count": 91,
     "metadata": {},
     "output_type": "execute_result"
    }
   ],
   "source": [
    "model1.fit(train_input, train_output, sample_weight=100)"
   ]
  },
  {
   "cell_type": "code",
   "execution_count": 83,
   "id": "98d5f2d1-fb68-4369-a489-03a0152f8706",
   "metadata": {},
   "outputs": [
    {
     "data": {
      "text/plain": [
       "64.17835834933797"
      ]
     },
     "execution_count": 83,
     "metadata": {},
     "output_type": "execute_result"
    }
   ],
   "source": [
    "model1.score(train_input, train_output) * 100"
   ]
  },
  {
   "cell_type": "code",
   "execution_count": 84,
   "id": "d328324e-d92d-4b1f-a442-df9069527663",
   "metadata": {},
   "outputs": [
    {
     "data": {
      "text/plain": [
       "65.18541246680007"
      ]
     },
     "execution_count": 84,
     "metadata": {},
     "output_type": "execute_result"
    }
   ],
   "source": [
    "model1.score(test_input, test_output) * 100"
   ]
  },
  {
   "cell_type": "code",
   "execution_count": 85,
   "id": "cdf97e15-7d25-42a6-bfc3-df69a95d34d0",
   "metadata": {},
   "outputs": [],
   "source": [
    "test_pre = model1.predict(test_input)"
   ]
  },
  {
   "cell_type": "code",
   "execution_count": 87,
   "id": "a53ca419-a621-43c3-81e0-886b35c8224b",
   "metadata": {},
   "outputs": [
    {
     "data": {
      "text/plain": [
       "1013829.3246033975"
      ]
     },
     "execution_count": 87,
     "metadata": {},
     "output_type": "execute_result"
    }
   ],
   "source": [
    "test_pre[0]"
   ]
  },
  {
   "cell_type": "code",
   "execution_count": 88,
   "id": "502c670e-a8e8-4436-8cae-515001f3080f",
   "metadata": {},
   "outputs": [
    {
     "data": {
      "text/plain": [
       "age                   31.0\n",
       "continent              0.0\n",
       "contract_until      2020.0\n",
       "reputation             1.0\n",
       "stat_overall          70.0\n",
       "stat_potential        70.0\n",
       "stat_skill_moves       3.0\n",
       "Name: 2851, dtype: float64"
      ]
     },
     "execution_count": 88,
     "metadata": {},
     "output_type": "execute_result"
    }
   ],
   "source": [
    "test_input.iloc[0]"
   ]
  },
  {
   "cell_type": "code",
   "execution_count": 89,
   "id": "daee07aa-b136-4134-9ab9-acbdf4d4a171",
   "metadata": {},
   "outputs": [
    {
     "data": {
      "text/plain": [
       "2851     1600000.0\n",
       "3925      600000.0\n",
       "6183      475000.0\n",
       "246     11000000.0\n",
       "1090     2700000.0\n",
       "           ...    \n",
       "4275      600000.0\n",
       "8773       90000.0\n",
       "7990      230000.0\n",
       "5       44000000.0\n",
       "4105      975000.0\n",
       "Name: value, Length: 1787, dtype: float64"
      ]
     },
     "execution_count": 89,
     "metadata": {},
     "output_type": "execute_result"
    }
   ],
   "source": [
    "test_output"
   ]
  },
  {
   "cell_type": "markdown",
   "id": "c342c117-b6f8-44b6-bb25-30006249d280",
   "metadata": {
    "tags": []
   },
   "source": [
    "#### 2.3.2.2. Ridge (fit_intercept=False, normalize=False)"
   ]
  },
  {
   "cell_type": "code",
   "execution_count": 43,
   "id": "0b51b282-46ec-4d5b-b566-85632448a17f",
   "metadata": {},
   "outputs": [],
   "source": [
    "model1 = Ridge(fit_intercept=False)"
   ]
  },
  {
   "cell_type": "code",
   "execution_count": 44,
   "id": "c72f3642-b436-44cb-aad2-42343d0a8afd",
   "metadata": {
    "tags": []
   },
   "outputs": [
    {
     "data": {
      "text/plain": [
       "Ridge(fit_intercept=False)"
      ]
     },
     "execution_count": 44,
     "metadata": {},
     "output_type": "execute_result"
    }
   ],
   "source": [
    "model1.fit(train_input, train_output, sample_weight=1)"
   ]
  },
  {
   "cell_type": "code",
   "execution_count": 45,
   "id": "5064b0aa-b428-4b77-92f7-2583db4544bf",
   "metadata": {},
   "outputs": [
    {
     "data": {
      "text/plain": [
       "64.17835834933797"
      ]
     },
     "execution_count": 45,
     "metadata": {},
     "output_type": "execute_result"
    }
   ],
   "source": [
    "model1.score(train_input, train_output) * 100"
   ]
  },
  {
   "cell_type": "code",
   "execution_count": 46,
   "id": "c8f1adff-4f69-4966-9810-797bee0a13b0",
   "metadata": {},
   "outputs": [
    {
     "data": {
      "text/plain": [
       "65.18541246680007"
      ]
     },
     "execution_count": 46,
     "metadata": {},
     "output_type": "execute_result"
    }
   ],
   "source": [
    "model1.score(test_input, test_output) * 100"
   ]
  },
  {
   "cell_type": "code",
   "execution_count": 47,
   "id": "25c820b0-336a-4f66-b6f9-91edeca975b4",
   "metadata": {},
   "outputs": [],
   "source": [
    "test_pre = model1.predict(test_input)"
   ]
  },
  {
   "cell_type": "code",
   "execution_count": 48,
   "id": "3b4d9539-0a22-474c-970a-0f3f6c1ecf0f",
   "metadata": {},
   "outputs": [
    {
     "data": {
      "text/plain": [
       "2851     1600000.0\n",
       "3925      600000.0\n",
       "6183      475000.0\n",
       "246     11000000.0\n",
       "1090     2700000.0\n",
       "           ...    \n",
       "4275      600000.0\n",
       "8773       90000.0\n",
       "7990      230000.0\n",
       "5       44000000.0\n",
       "4105      975000.0\n",
       "Name: value, Length: 1787, dtype: float64"
      ]
     },
     "execution_count": 48,
     "metadata": {},
     "output_type": "execute_result"
    }
   ],
   "source": [
    "test_output"
   ]
  },
  {
   "cell_type": "code",
   "execution_count": 49,
   "id": "ee5ec98a-ba03-4e7e-857d-e4795404f3a6",
   "metadata": {},
   "outputs": [
    {
     "data": {
      "text/plain": [
       "1013829.3246033975"
      ]
     },
     "execution_count": 49,
     "metadata": {},
     "output_type": "execute_result"
    }
   ],
   "source": [
    "test_pre[0]"
   ]
  },
  {
   "cell_type": "code",
   "execution_count": 50,
   "id": "7758ea5e-155d-4ad0-992c-6acb5716127c",
   "metadata": {},
   "outputs": [
    {
     "data": {
      "text/plain": [
       "age                   31.0\n",
       "continent              0.0\n",
       "contract_until      2020.0\n",
       "reputation             1.0\n",
       "stat_overall          70.0\n",
       "stat_potential        70.0\n",
       "stat_skill_moves       3.0\n",
       "Name: 2851, dtype: float64"
      ]
     },
     "execution_count": 50,
     "metadata": {},
     "output_type": "execute_result"
    }
   ],
   "source": [
    "test_input.iloc[0]"
   ]
  },
  {
   "cell_type": "markdown",
   "id": "2f3ad614-adef-4eb2-86d0-bca7b5351965",
   "metadata": {
    "tags": []
   },
   "source": [
    "#### 2.3.2.3. Ridge (fit_intercept=True, normalize=True)"
   ]
  },
  {
   "cell_type": "code",
   "execution_count": 52,
   "id": "3dd1c987-ee91-4d6e-8f02-927113869bbf",
   "metadata": {},
   "outputs": [],
   "source": [
    "model1 = Ridge(normalize=True)"
   ]
  },
  {
   "cell_type": "code",
   "execution_count": 53,
   "id": "d36ff39f-612f-4d25-825a-89c32933a6ef",
   "metadata": {
    "tags": []
   },
   "outputs": [
    {
     "name": "stderr",
     "output_type": "stream",
     "text": [
      "/Users/kmj/opt/anaconda3/lib/python3.9/site-packages/sklearn/linear_model/_base.py:141: FutureWarning: 'normalize' was deprecated in version 1.0 and will be removed in 1.2.\n",
      "If you wish to scale the data, use Pipeline with a StandardScaler in a preprocessing stage. To reproduce the previous behavior:\n",
      "\n",
      "from sklearn.pipeline import make_pipeline\n",
      "\n",
      "model = make_pipeline(StandardScaler(with_mean=False), Ridge())\n",
      "\n",
      "If you wish to pass a sample_weight parameter, you need to pass it as a fit parameter to each step of the pipeline as follows:\n",
      "\n",
      "kwargs = {s[0] + '__sample_weight': sample_weight for s in model.steps}\n",
      "model.fit(X, y, **kwargs)\n",
      "\n",
      "Set parameter alpha to: original_alpha * n_samples. \n",
      "  warnings.warn(\n"
     ]
    },
    {
     "data": {
      "text/plain": [
       "Ridge(normalize=True)"
      ]
     },
     "execution_count": 53,
     "metadata": {},
     "output_type": "execute_result"
    }
   ],
   "source": [
    "model1.fit(train_input, train_output, sample_weight=10)"
   ]
  },
  {
   "cell_type": "code",
   "execution_count": 54,
   "id": "e7c99e4f-1ee7-46e6-ac6e-880c4ce9e375",
   "metadata": {},
   "outputs": [
    {
     "data": {
      "text/plain": [
       "55.65060864129491"
      ]
     },
     "execution_count": 54,
     "metadata": {},
     "output_type": "execute_result"
    }
   ],
   "source": [
    "model1.score(train_input, train_output) * 100"
   ]
  },
  {
   "cell_type": "code",
   "execution_count": 55,
   "id": "9ba2ae4a-c517-442d-ad95-1bb8a1fb96c0",
   "metadata": {},
   "outputs": [
    {
     "data": {
      "text/plain": [
       "56.98924106696527"
      ]
     },
     "execution_count": 55,
     "metadata": {},
     "output_type": "execute_result"
    }
   ],
   "source": [
    "model1.score(test_input, test_output) * 100"
   ]
  },
  {
   "cell_type": "code",
   "execution_count": 56,
   "id": "30b56c20-fee9-43fe-bcde-d66ab87c6164",
   "metadata": {},
   "outputs": [],
   "source": [
    "test_pre = model1.predict(test_input)"
   ]
  },
  {
   "cell_type": "code",
   "execution_count": 58,
   "id": "c2a334b0-ef95-47d3-97d7-af2b26d80773",
   "metadata": {},
   "outputs": [
    {
     "data": {
      "text/plain": [
       "2599660.3344591856"
      ]
     },
     "execution_count": 58,
     "metadata": {},
     "output_type": "execute_result"
    }
   ],
   "source": [
    "test_pre[0]"
   ]
  },
  {
   "cell_type": "code",
   "execution_count": 59,
   "id": "6c5ab571-9400-4121-b221-8e5c740ce044",
   "metadata": {},
   "outputs": [
    {
     "data": {
      "text/plain": [
       "age                   31.0\n",
       "continent              0.0\n",
       "contract_until      2020.0\n",
       "reputation             1.0\n",
       "stat_overall          70.0\n",
       "stat_potential        70.0\n",
       "stat_skill_moves       3.0\n",
       "Name: 2851, dtype: float64"
      ]
     },
     "execution_count": 59,
     "metadata": {},
     "output_type": "execute_result"
    }
   ],
   "source": [
    "test_input.iloc[0]"
   ]
  },
  {
   "cell_type": "markdown",
   "id": "9d570c36-1455-4c4b-bfda-d1a292d4e887",
   "metadata": {
    "tags": []
   },
   "source": [
    "#### 2.3.2.4. Ridge (fit_intercept=False, normalize=True))"
   ]
  },
  {
   "cell_type": "code",
   "execution_count": 61,
   "id": "840a0674-fc54-4862-9ae2-6581dfb90119",
   "metadata": {},
   "outputs": [],
   "source": [
    "model1 = Ridge(fit_intercept= False, normalize=True)"
   ]
  },
  {
   "cell_type": "code",
   "execution_count": 62,
   "id": "f0a6b405-c48b-4ed5-a3e8-59dd3bdf48dd",
   "metadata": {
    "tags": []
   },
   "outputs": [
    {
     "name": "stderr",
     "output_type": "stream",
     "text": [
      "/Users/kmj/opt/anaconda3/lib/python3.9/site-packages/sklearn/linear_model/_base.py:141: FutureWarning: 'normalize' was deprecated in version 1.0 and will be removed in 1.2.\n",
      "If you wish to scale the data, use Pipeline with a StandardScaler in a preprocessing stage. To reproduce the previous behavior:\n",
      "\n",
      "from sklearn.pipeline import make_pipeline\n",
      "\n",
      "model = make_pipeline(StandardScaler(with_mean=False), Ridge())\n",
      "\n",
      "If you wish to pass a sample_weight parameter, you need to pass it as a fit parameter to each step of the pipeline as follows:\n",
      "\n",
      "kwargs = {s[0] + '__sample_weight': sample_weight for s in model.steps}\n",
      "model.fit(X, y, **kwargs)\n",
      "\n",
      "Set parameter alpha to: original_alpha * n_samples. \n",
      "  warnings.warn(\n"
     ]
    },
    {
     "data": {
      "text/plain": [
       "Ridge(fit_intercept=False, normalize=True)"
      ]
     },
     "execution_count": 62,
     "metadata": {},
     "output_type": "execute_result"
    }
   ],
   "source": [
    "model1.fit(train_input, train_output, sample_weight=100)"
   ]
  },
  {
   "cell_type": "code",
   "execution_count": 63,
   "id": "5d4f8d3c-555d-46f8-9851-dfbb8cd1b404",
   "metadata": {},
   "outputs": [
    {
     "data": {
      "text/plain": [
       "64.17837814694245"
      ]
     },
     "execution_count": 63,
     "metadata": {},
     "output_type": "execute_result"
    }
   ],
   "source": [
    "model1.score(train_input, train_output) * 100"
   ]
  },
  {
   "cell_type": "code",
   "execution_count": 64,
   "id": "0b6e4d59-16a5-4aea-9280-47eb9e95bc90",
   "metadata": {},
   "outputs": [
    {
     "data": {
      "text/plain": [
       "65.18079853925776"
      ]
     },
     "execution_count": 64,
     "metadata": {},
     "output_type": "execute_result"
    }
   ],
   "source": [
    "model1.score(test_input, test_output) * 100"
   ]
  },
  {
   "cell_type": "code",
   "execution_count": 65,
   "id": "7840ee19-52eb-4365-9853-bc5cc2cfa878",
   "metadata": {},
   "outputs": [],
   "source": [
    "test_pre = model1.predict(test_input)"
   ]
  },
  {
   "cell_type": "code",
   "execution_count": 67,
   "id": "fd24d806-fa45-4c1e-a786-339ac40c1860",
   "metadata": {},
   "outputs": [
    {
     "data": {
      "text/plain": [
       "1011840.1426369195"
      ]
     },
     "execution_count": 67,
     "metadata": {},
     "output_type": "execute_result"
    }
   ],
   "source": [
    "test_pre[0]"
   ]
  },
  {
   "cell_type": "code",
   "execution_count": 68,
   "id": "4400d236-3cfe-4539-a420-2f955ae6dce0",
   "metadata": {},
   "outputs": [
    {
     "data": {
      "text/plain": [
       "age                   31.0\n",
       "continent              0.0\n",
       "contract_until      2020.0\n",
       "reputation             1.0\n",
       "stat_overall          70.0\n",
       "stat_potential        70.0\n",
       "stat_skill_moves       3.0\n",
       "Name: 2851, dtype: float64"
      ]
     },
     "execution_count": 68,
     "metadata": {},
     "output_type": "execute_result"
    }
   ],
   "source": [
    "test_input.iloc[0]"
   ]
  },
  {
   "cell_type": "code",
   "execution_count": null,
   "id": "6b06176c-2d13-476c-8084-060dc72ae848",
   "metadata": {
    "jupyter": {
     "source_hidden": true
    },
    "tags": []
   },
   "outputs": [],
   "source": [
    "accuracy_score(test_pre, test_output) * 100"
   ]
  }
 ],
 "metadata": {
  "kernelspec": {
   "display_name": "Python 3 (ipykernel)",
   "language": "python",
   "name": "python3"
  },
  "language_info": {
   "codemirror_mode": {
    "name": "ipython",
    "version": 3
   },
   "file_extension": ".py",
   "mimetype": "text/x-python",
   "name": "python",
   "nbconvert_exporter": "python",
   "pygments_lexer": "ipython3",
   "version": "3.9.12"
  }
 },
 "nbformat": 4,
 "nbformat_minor": 5
}
