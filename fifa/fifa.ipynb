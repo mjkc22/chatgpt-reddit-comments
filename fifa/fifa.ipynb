{
 "cells": [
  {
   "cell_type": "code",
   "execution_count": 1,
   "id": "609662ba-be2a-44ef-b518-9dfe1d1adee2",
   "metadata": {},
   "outputs": [],
   "source": [
    "import pandas as pd\n",
    "import numpy as np\n",
    "import pandas as pd\n",
    "import seaborn as sns\n",
    "import matplotlib.pyplot as plt\n",
    "import seaborn as sns"
   ]
  },
  {
   "cell_type": "markdown",
   "id": "858e6e00-c273-498f-a465-8c5857c98d72",
   "metadata": {},
   "source": [
    "# 1. 전처리 작업"
   ]
  },
  {
   "cell_type": "markdown",
   "id": "b6b138a7-85aa-4b2e-b544-024e1ddaf2a8",
   "metadata": {
    "tags": []
   },
   "source": [
    "## 1.1. 개괄적 확인"
   ]
  },
  {
   "cell_type": "code",
   "execution_count": 2,
   "id": "ae8b6717-89f2-4f5d-bde4-358bc47c66bc",
   "metadata": {},
   "outputs": [],
   "source": [
    "train = pd.read_csv('FiFA_train.csv')"
   ]
  },
  {
   "cell_type": "code",
   "execution_count": 3,
   "id": "04bddf52-8ff6-42b3-b177-6614eec349fa",
   "metadata": {},
   "outputs": [
    {
     "data": {
      "text/html": [
       "<div>\n",
       "<style scoped>\n",
       "    .dataframe tbody tr th:only-of-type {\n",
       "        vertical-align: middle;\n",
       "    }\n",
       "\n",
       "    .dataframe tbody tr th {\n",
       "        vertical-align: top;\n",
       "    }\n",
       "\n",
       "    .dataframe thead th {\n",
       "        text-align: right;\n",
       "    }\n",
       "</style>\n",
       "<table border=\"1\" class=\"dataframe\">\n",
       "  <thead>\n",
       "    <tr style=\"text-align: right;\">\n",
       "      <th></th>\n",
       "      <th>id</th>\n",
       "      <th>name</th>\n",
       "      <th>age</th>\n",
       "      <th>continent</th>\n",
       "      <th>contract_until</th>\n",
       "      <th>position</th>\n",
       "      <th>prefer_foot</th>\n",
       "      <th>reputation</th>\n",
       "      <th>stat_overall</th>\n",
       "      <th>stat_potential</th>\n",
       "      <th>stat_skill_moves</th>\n",
       "      <th>value</th>\n",
       "    </tr>\n",
       "  </thead>\n",
       "  <tbody>\n",
       "    <tr>\n",
       "      <th>0</th>\n",
       "      <td>0</td>\n",
       "      <td>L. Messi</td>\n",
       "      <td>31</td>\n",
       "      <td>south america</td>\n",
       "      <td>2021</td>\n",
       "      <td>ST</td>\n",
       "      <td>left</td>\n",
       "      <td>5.0</td>\n",
       "      <td>94</td>\n",
       "      <td>94</td>\n",
       "      <td>4.0</td>\n",
       "      <td>110500000.0</td>\n",
       "    </tr>\n",
       "    <tr>\n",
       "      <th>1</th>\n",
       "      <td>3</td>\n",
       "      <td>De Gea</td>\n",
       "      <td>27</td>\n",
       "      <td>europe</td>\n",
       "      <td>2020</td>\n",
       "      <td>GK</td>\n",
       "      <td>right</td>\n",
       "      <td>4.0</td>\n",
       "      <td>91</td>\n",
       "      <td>93</td>\n",
       "      <td>1.0</td>\n",
       "      <td>72000000.0</td>\n",
       "    </tr>\n",
       "    <tr>\n",
       "      <th>2</th>\n",
       "      <td>7</td>\n",
       "      <td>L. Suárez</td>\n",
       "      <td>31</td>\n",
       "      <td>south america</td>\n",
       "      <td>2021</td>\n",
       "      <td>ST</td>\n",
       "      <td>right</td>\n",
       "      <td>5.0</td>\n",
       "      <td>91</td>\n",
       "      <td>91</td>\n",
       "      <td>3.0</td>\n",
       "      <td>80000000.0</td>\n",
       "    </tr>\n",
       "    <tr>\n",
       "      <th>3</th>\n",
       "      <td>8</td>\n",
       "      <td>Sergio Ramos</td>\n",
       "      <td>32</td>\n",
       "      <td>europe</td>\n",
       "      <td>2020</td>\n",
       "      <td>DF</td>\n",
       "      <td>right</td>\n",
       "      <td>4.0</td>\n",
       "      <td>91</td>\n",
       "      <td>91</td>\n",
       "      <td>3.0</td>\n",
       "      <td>51000000.0</td>\n",
       "    </tr>\n",
       "    <tr>\n",
       "      <th>4</th>\n",
       "      <td>9</td>\n",
       "      <td>J. Oblak</td>\n",
       "      <td>25</td>\n",
       "      <td>europe</td>\n",
       "      <td>2021</td>\n",
       "      <td>GK</td>\n",
       "      <td>right</td>\n",
       "      <td>3.0</td>\n",
       "      <td>90</td>\n",
       "      <td>93</td>\n",
       "      <td>1.0</td>\n",
       "      <td>68000000.0</td>\n",
       "    </tr>\n",
       "    <tr>\n",
       "      <th>...</th>\n",
       "      <td>...</td>\n",
       "      <td>...</td>\n",
       "      <td>...</td>\n",
       "      <td>...</td>\n",
       "      <td>...</td>\n",
       "      <td>...</td>\n",
       "      <td>...</td>\n",
       "      <td>...</td>\n",
       "      <td>...</td>\n",
       "      <td>...</td>\n",
       "      <td>...</td>\n",
       "      <td>...</td>\n",
       "    </tr>\n",
       "    <tr>\n",
       "      <th>8927</th>\n",
       "      <td>16925</td>\n",
       "      <td>S. Adewusi</td>\n",
       "      <td>18</td>\n",
       "      <td>africa</td>\n",
       "      <td>2019</td>\n",
       "      <td>MF</td>\n",
       "      <td>right</td>\n",
       "      <td>1.0</td>\n",
       "      <td>48</td>\n",
       "      <td>63</td>\n",
       "      <td>3.0</td>\n",
       "      <td>60000.0</td>\n",
       "    </tr>\n",
       "    <tr>\n",
       "      <th>8928</th>\n",
       "      <td>16936</td>\n",
       "      <td>C. Ehlich</td>\n",
       "      <td>19</td>\n",
       "      <td>europe</td>\n",
       "      <td>2020</td>\n",
       "      <td>DF</td>\n",
       "      <td>right</td>\n",
       "      <td>1.0</td>\n",
       "      <td>47</td>\n",
       "      <td>59</td>\n",
       "      <td>2.0</td>\n",
       "      <td>40000.0</td>\n",
       "    </tr>\n",
       "    <tr>\n",
       "      <th>8929</th>\n",
       "      <td>16941</td>\n",
       "      <td>N. Fuentes</td>\n",
       "      <td>18</td>\n",
       "      <td>south america</td>\n",
       "      <td>2021</td>\n",
       "      <td>DF</td>\n",
       "      <td>right</td>\n",
       "      <td>1.0</td>\n",
       "      <td>47</td>\n",
       "      <td>64</td>\n",
       "      <td>2.0</td>\n",
       "      <td>50000.0</td>\n",
       "    </tr>\n",
       "    <tr>\n",
       "      <th>8930</th>\n",
       "      <td>16942</td>\n",
       "      <td>J. Milli</td>\n",
       "      <td>18</td>\n",
       "      <td>europe</td>\n",
       "      <td>2021</td>\n",
       "      <td>GK</td>\n",
       "      <td>right</td>\n",
       "      <td>1.0</td>\n",
       "      <td>47</td>\n",
       "      <td>65</td>\n",
       "      <td>1.0</td>\n",
       "      <td>50000.0</td>\n",
       "    </tr>\n",
       "    <tr>\n",
       "      <th>8931</th>\n",
       "      <td>16948</td>\n",
       "      <td>N. Christoffersson</td>\n",
       "      <td>19</td>\n",
       "      <td>europe</td>\n",
       "      <td>2020</td>\n",
       "      <td>ST</td>\n",
       "      <td>right</td>\n",
       "      <td>1.0</td>\n",
       "      <td>47</td>\n",
       "      <td>63</td>\n",
       "      <td>2.0</td>\n",
       "      <td>60000.0</td>\n",
       "    </tr>\n",
       "  </tbody>\n",
       "</table>\n",
       "<p>8932 rows × 12 columns</p>\n",
       "</div>"
      ],
      "text/plain": [
       "         id                name  age      continent contract_until position  \\\n",
       "0         0            L. Messi   31  south america           2021       ST   \n",
       "1         3              De Gea   27         europe           2020       GK   \n",
       "2         7           L. Suárez   31  south america           2021       ST   \n",
       "3         8        Sergio Ramos   32         europe           2020       DF   \n",
       "4         9            J. Oblak   25         europe           2021       GK   \n",
       "...     ...                 ...  ...            ...            ...      ...   \n",
       "8927  16925          S. Adewusi   18         africa           2019       MF   \n",
       "8928  16936           C. Ehlich   19         europe           2020       DF   \n",
       "8929  16941          N. Fuentes   18  south america           2021       DF   \n",
       "8930  16942            J. Milli   18         europe           2021       GK   \n",
       "8931  16948  N. Christoffersson   19         europe           2020       ST   \n",
       "\n",
       "     prefer_foot  reputation  stat_overall  stat_potential  stat_skill_moves  \\\n",
       "0           left         5.0            94              94               4.0   \n",
       "1          right         4.0            91              93               1.0   \n",
       "2          right         5.0            91              91               3.0   \n",
       "3          right         4.0            91              91               3.0   \n",
       "4          right         3.0            90              93               1.0   \n",
       "...          ...         ...           ...             ...               ...   \n",
       "8927       right         1.0            48              63               3.0   \n",
       "8928       right         1.0            47              59               2.0   \n",
       "8929       right         1.0            47              64               2.0   \n",
       "8930       right         1.0            47              65               1.0   \n",
       "8931       right         1.0            47              63               2.0   \n",
       "\n",
       "            value  \n",
       "0     110500000.0  \n",
       "1      72000000.0  \n",
       "2      80000000.0  \n",
       "3      51000000.0  \n",
       "4      68000000.0  \n",
       "...           ...  \n",
       "8927      60000.0  \n",
       "8928      40000.0  \n",
       "8929      50000.0  \n",
       "8930      50000.0  \n",
       "8931      60000.0  \n",
       "\n",
       "[8932 rows x 12 columns]"
      ]
     },
     "execution_count": 3,
     "metadata": {},
     "output_type": "execute_result"
    }
   ],
   "source": [
    "train"
   ]
  },
  {
   "cell_type": "code",
   "execution_count": 4,
   "id": "4765264f-a1f7-4a90-9ce2-ec5e58078fa0",
   "metadata": {},
   "outputs": [
    {
     "name": "stdout",
     "output_type": "stream",
     "text": [
      "<class 'pandas.core.frame.DataFrame'>\n",
      "RangeIndex: 8932 entries, 0 to 8931\n",
      "Data columns (total 12 columns):\n",
      " #   Column            Non-Null Count  Dtype  \n",
      "---  ------            --------------  -----  \n",
      " 0   id                8932 non-null   int64  \n",
      " 1   name              8932 non-null   object \n",
      " 2   age               8932 non-null   int64  \n",
      " 3   continent         8932 non-null   object \n",
      " 4   contract_until    8932 non-null   object \n",
      " 5   position          8932 non-null   object \n",
      " 6   prefer_foot       8932 non-null   object \n",
      " 7   reputation        8932 non-null   float64\n",
      " 8   stat_overall      8932 non-null   int64  \n",
      " 9   stat_potential    8932 non-null   int64  \n",
      " 10  stat_skill_moves  8932 non-null   float64\n",
      " 11  value             8932 non-null   float64\n",
      "dtypes: float64(3), int64(4), object(5)\n",
      "memory usage: 837.5+ KB\n"
     ]
    }
   ],
   "source": [
    "train.info() # 결측치를 확인하고, object 타입과 int/float 타입을 구분한다"
   ]
  },
  {
   "cell_type": "markdown",
   "id": "c2538121-8e39-4c3b-967c-c7e3a6b7a196",
   "metadata": {
    "tags": []
   },
   "source": [
    "## 1.2. 개별 수치 확인 및 처리 작업"
   ]
  },
  {
   "cell_type": "markdown",
   "id": "5af178d6-4e20-4930-a902-3adbbab022ed",
   "metadata": {
    "tags": []
   },
   "source": [
    "### 1.2.1. 이산값(범주값) (수치형) - 수치화 작업 없음"
   ]
  },
  {
   "cell_type": "markdown",
   "id": "9203252e-cd19-43fb-ae0f-093a30dab8c4",
   "metadata": {
    "tags": []
   },
   "source": [
    "#### 1.2.1.1. stat_skill_moves"
   ]
  },
  {
   "cell_type": "code",
   "execution_count": 5,
   "id": "09220ec0-0432-4d48-8da9-ab515b5fa6f7",
   "metadata": {},
   "outputs": [
    {
     "data": {
      "text/plain": [
       "1.0    1008\n",
       "2.0    3905\n",
       "3.0    3473\n",
       "4.0     515\n",
       "5.0      31\n",
       "Name: stat_skill_moves, dtype: int64"
      ]
     },
     "execution_count": 5,
     "metadata": {},
     "output_type": "execute_result"
    }
   ],
   "source": [
    "train['stat_skill_moves'].value_counts().sort_index() # 결측치 없음"
   ]
  },
  {
   "cell_type": "code",
   "execution_count": 6,
   "id": "52414845-00c9-4e89-8c30-d5d0f84ce885",
   "metadata": {
    "tags": []
   },
   "outputs": [
    {
     "data": {
      "image/png": "[encoded data removed]",
      "text/plain": [
       "<Figure size 432x288 with 1 Axes>"
      ]
     },
     "metadata": {
      "needs_background": "light"
     },
     "output_type": "display_data"
    }
   ],
   "source": [
    "train.groupby('stat_skill_moves')['value'].sum().plot(kind='bar');"
   ]
  },
  {
   "cell_type": "markdown",
   "id": "cfeb240c-8394-488a-aee4-f61808ed62fd",
   "metadata": {
    "tags": []
   },
   "source": [
    "#### 1.2.1.2. reputation"
   ]
  },
  {
   "cell_type": "code",
   "execution_count": 7,
   "id": "6598b3eb-683c-4159-afe5-71f4f43ca059",
   "metadata": {},
   "outputs": [
    {
     "data": {
      "text/plain": [
       "1.0    8014\n",
       "2.0     706\n",
       "3.0     177\n",
       "4.0      31\n",
       "5.0       4\n",
       "Name: reputation, dtype: int64"
      ]
     },
     "execution_count": 7,
     "metadata": {},
     "output_type": "execute_result"
    }
   ],
   "source": [
    "train['reputation'].value_counts().sort_index() # 결측치 없음"
   ]
  },
  {
   "cell_type": "code",
   "execution_count": 8,
   "id": "70a795f6-5f11-4b9a-9da7-6319a10eca65",
   "metadata": {
    "tags": []
   },
   "outputs": [
    {
     "data": {
      "image/png": "[encoded data removed]",
      "text/plain": [
       "<Figure size 432x288 with 1 Axes>"
      ]
     },
     "metadata": {
      "needs_background": "light"
     },
     "output_type": "display_data"
    }
   ],
   "source": [
    "train.groupby('reputation')['value'].sum().plot(kind='bar');"
   ]
  },
  {
   "cell_type": "markdown",
   "id": "ff420224-a8cb-41b5-aa61-32115af0a70f",
   "metadata": {
    "tags": []
   },
   "source": [
    "### 1.2.2. 이산값(범주값) (비수치형) - 수치화 작업"
   ]
  },
  {
   "cell_type": "markdown",
   "id": "eaaf6c0d-6e02-4002-a2a3-03905ff2685d",
   "metadata": {
    "tags": []
   },
   "source": [
    "#### 1.2.2.1. continent"
   ]
  },
  {
   "cell_type": "code",
   "execution_count": 9,
   "id": "a1b3b84a-6784-4a17-8411-1ac71e1a565b",
   "metadata": {},
   "outputs": [
    {
     "data": {
      "text/plain": [
       "europe           5322\n",
       "south america    1927\n",
       "asia              787\n",
       "africa            721\n",
       "oceania           175\n",
       "Name: continent, dtype: int64"
      ]
     },
     "execution_count": 9,
     "metadata": {},
     "output_type": "execute_result"
    }
   ],
   "source": [
    "train['continent'].value_counts().sort_values(ascending=False)"
   ]
  },
  {
   "cell_type": "code",
   "execution_count": 10,
   "id": "13614776-aed4-47f3-b88d-efa8217a1af8",
   "metadata": {},
   "outputs": [
    {
     "data": {
      "text/plain": [
       "4    5322\n",
       "3    1927\n",
       "2     787\n",
       "1     721\n",
       "0     175\n",
       "Name: continent, dtype: int64"
      ]
     },
     "execution_count": 10,
     "metadata": {},
     "output_type": "execute_result"
    }
   ],
   "source": [
    "continent_mapping= {'europe': 4 ,'south america' : 3, 'asia' : 2, 'africa' : 1, 'oceania': 0}\n",
    "train['continent'].map(continent_mapping).value_counts()"
   ]
  },
  {
   "cell_type": "code",
   "execution_count": 11,
   "id": "61ac3410-c91d-467b-9b49-477ee3ea2f7d",
   "metadata": {},
   "outputs": [],
   "source": [
    "train['continent'] = train['continent'].map(continent_mapping)"
   ]
  },
  {
   "cell_type": "code",
   "execution_count": 12,
   "id": "833399f5-68ca-4bcf-acb5-b078b314bb33",
   "metadata": {},
   "outputs": [
    {
     "data": {
      "text/plain": [
       "continent\n",
       "0    1.439450e+08\n",
       "1    2.142990e+09\n",
       "2    8.146600e+08\n",
       "3    6.134035e+09\n",
       "4    1.558348e+10\n",
       "Name: value, dtype: float64"
      ]
     },
     "execution_count": 12,
     "metadata": {},
     "output_type": "execute_result"
    }
   ],
   "source": [
    "train.groupby('continent')['value'].sum()"
   ]
  },
  {
   "cell_type": "code",
   "execution_count": 13,
   "id": "98d6ee15-b6eb-49bf-a218-c3a7c335dd85",
   "metadata": {
    "tags": []
   },
   "outputs": [
    {
     "data": {
      "image/png": "[encoded data removed]",
      "text/plain": [
       "<Figure size 432x288 with 1 Axes>"
      ]
     },
     "metadata": {
      "needs_background": "light"
     },
     "output_type": "display_data"
    }
   ],
   "source": [
    "train.groupby('continent')['value'].sum().plot(kind='bar');"
   ]
  },
  {
   "cell_type": "markdown",
   "id": "60d523dd-9211-444b-9117-c64f2c93e986",
   "metadata": {},
   "source": [
    "#### 1.2.2.2. position"
   ]
  },
  {
   "cell_type": "code",
   "execution_count": 14,
   "id": "ea5ce732-4a1d-4bd7-8588-b5526df5b302",
   "metadata": {},
   "outputs": [
    {
     "data": {
      "text/plain": [
       "MF    3428\n",
       "DF    2791\n",
       "ST    1705\n",
       "GK    1008\n",
       "Name: position, dtype: int64"
      ]
     },
     "execution_count": 14,
     "metadata": {},
     "output_type": "execute_result"
    }
   ],
   "source": [
    "train['position'].value_counts()"
   ]
  },
  {
   "cell_type": "code",
   "execution_count": 15,
   "id": "e610e3df-ed30-4a80-a73e-c14eb7044fee",
   "metadata": {},
   "outputs": [
    {
     "data": {
      "text/plain": [
       "3    3428\n",
       "2    2791\n",
       "1    1705\n",
       "0    1008\n",
       "Name: position, dtype: int64"
      ]
     },
     "execution_count": 15,
     "metadata": {},
     "output_type": "execute_result"
    }
   ],
   "source": [
    "position_mapping= {'MF':3 , 'DF' : 2, 'ST' : 1, 'GK' : 0}\n",
    "train['position'].map(position_mapping).value_counts()"
   ]
  },
  {
   "cell_type": "code",
   "execution_count": 16,
   "id": "50b65f54-b8ea-45d4-b524-f9ee5b82e494",
   "metadata": {},
   "outputs": [],
   "source": [
    "train['position'] =train['position'].map(position_mapping)"
   ]
  },
  {
   "cell_type": "code",
   "execution_count": 17,
   "id": "7b0543d5-b577-45bc-a221-bb607cc8f3d3",
   "metadata": {},
   "outputs": [
    {
     "data": {
      "text/plain": [
       "3    3428\n",
       "2    2791\n",
       "1    1705\n",
       "0    1008\n",
       "Name: position, dtype: int64"
      ]
     },
     "execution_count": 17,
     "metadata": {},
     "output_type": "execute_result"
    }
   ],
   "source": [
    "train['position'].value_counts()"
   ]
  },
  {
   "cell_type": "code",
   "execution_count": 18,
   "id": "c5e3a019-7731-4823-915c-a1b2014cf506",
   "metadata": {
    "tags": []
   },
   "outputs": [
    {
     "data": {
      "image/png": "[encoded data removed]",
      "text/plain": [
       "<Figure size 432x288 with 1 Axes>"
      ]
     },
     "metadata": {
      "needs_background": "light"
     },
     "output_type": "display_data"
    }
   ],
   "source": [
    "train.groupby('position')['value'].sum().plot(kind='bar');"
   ]
  },
  {
   "cell_type": "markdown",
   "id": "3e87112a-5535-4d0e-a35d-f50a18d19c16",
   "metadata": {
    "tags": []
   },
   "source": [
    "#### 1.2.3. prefer_foot"
   ]
  },
  {
   "cell_type": "code",
   "execution_count": 19,
   "id": "17d53c2f-8cde-4d35-924f-a130510a264a",
   "metadata": {},
   "outputs": [],
   "source": [
    "prefer_foot_mapping = {'right' :1, 'left': 0}"
   ]
  },
  {
   "cell_type": "code",
   "execution_count": 20,
   "id": "f9b83892-86f0-42dc-a6cc-ef8cbccd62c5",
   "metadata": {},
   "outputs": [
    {
     "data": {
      "text/plain": [
       "1    6837\n",
       "0    2095\n",
       "Name: prefer_foot, dtype: int64"
      ]
     },
     "execution_count": 20,
     "metadata": {},
     "output_type": "execute_result"
    }
   ],
   "source": [
    "train['prefer_foot'].map(prefer_foot_mapping).value_counts()"
   ]
  },
  {
   "cell_type": "code",
   "execution_count": 21,
   "id": "e467ee01-7a53-4e50-9d33-8e035df3fa8c",
   "metadata": {},
   "outputs": [],
   "source": [
    "train['prefer_foot']=train['prefer_foot'].map(prefer_foot_mapping)"
   ]
  },
  {
   "cell_type": "code",
   "execution_count": 22,
   "id": "0888b630-fb64-4a59-9f44-fe90379786ee",
   "metadata": {},
   "outputs": [
    {
     "data": {
      "text/plain": [
       "1    6837\n",
       "0    2095\n",
       "Name: prefer_foot, dtype: int64"
      ]
     },
     "execution_count": 22,
     "metadata": {},
     "output_type": "execute_result"
    }
   ],
   "source": [
    "train['prefer_foot'].value_counts()"
   ]
  },
  {
   "cell_type": "code",
   "execution_count": 23,
   "id": "eede5645-ba36-4492-9b61-b410e01b0a69",
   "metadata": {
    "tags": []
   },
   "outputs": [
    {
     "data": {
      "image/png": "[encoded data removed]",
      "text/plain": [
       "<Figure size 432x288 with 1 Axes>"
      ]
     },
     "metadata": {
      "needs_background": "light"
     },
     "output_type": "display_data"
    }
   ],
   "source": [
    "train.groupby('prefer_foot')['value'].sum().plot(kind='bar');"
   ]
  },
  {
   "cell_type": "markdown",
   "id": "33ca3a2d-d0ed-44f4-829b-aa1f6db8fd94",
   "metadata": {},
   "source": [
    "#### 2.1.2.4. contract_until"
   ]
  },
  {
   "cell_type": "code",
   "execution_count": 24,
   "id": "9eb3dd3c-40ef-4d2a-840e-789486b4a5e0",
   "metadata": {},
   "outputs": [
    {
     "data": {
      "text/plain": [
       "2019            2366\n",
       "2021            2308\n",
       "2020            2041\n",
       "2022             761\n",
       "2023             506\n",
       "Jun 30, 2019     501\n",
       "2018             327\n",
       "Dec 31, 2018      64\n",
       "May 31, 2019      19\n",
       "2024              12\n",
       "Jan 31, 2019      10\n",
       "Jun 30, 2020       9\n",
       "2025               3\n",
       "Jan 1, 2019        2\n",
       "2026               1\n",
       "May 31, 2020       1\n",
       "Jan 12, 2019       1\n",
       "Name: contract_until, dtype: int64"
      ]
     },
     "execution_count": 24,
     "metadata": {},
     "output_type": "execute_result"
    }
   ],
   "source": [
    "train['contract_until'].value_counts() #통일되지 않은 자료 확인"
   ]
  },
  {
   "cell_type": "code",
   "execution_count": 25,
   "id": "defdaa0d-d186-4b2f-a633-427a51bf484f",
   "metadata": {},
   "outputs": [
    {
     "data": {
      "text/plain": [
       "0       2021\n",
       "1       2020\n",
       "2       2021\n",
       "3       2020\n",
       "4       2021\n",
       "        ... \n",
       "8927    2019\n",
       "8928    2020\n",
       "8929    2021\n",
       "8930    2021\n",
       "8931    2020\n",
       "Name: contract_until, Length: 8932, dtype: object"
      ]
     },
     "execution_count": 25,
     "metadata": {},
     "output_type": "execute_result"
    }
   ],
   "source": [
    "train['contract_until']"
   ]
  },
  {
   "cell_type": "code",
   "execution_count": 26,
   "id": "57515df8-90a2-4018-99d6-9b182d8239d7",
   "metadata": {
    "tags": []
   },
   "outputs": [],
   "source": [
    "def func(string):\n",
    "    string=string[-4:]\n",
    "    return int(string)\n",
    "\n",
    "train['contract_until']= train['contract_until'].apply(func) #연도 이외 부분 제거"
   ]
  },
  {
   "cell_type": "code",
   "execution_count": 27,
   "id": "deec423e-5527-4aad-9ffc-5e25ff740f8a",
   "metadata": {},
   "outputs": [
    {
     "data": {
      "text/plain": [
       "2019    2899\n",
       "2021    2308\n",
       "2020    2051\n",
       "2022     761\n",
       "2023     506\n",
       "2018     391\n",
       "2024      12\n",
       "2025       3\n",
       "2026       1\n",
       "Name: contract_until, dtype: int64"
      ]
     },
     "execution_count": 27,
     "metadata": {},
     "output_type": "execute_result"
    }
   ],
   "source": [
    "train['contract_until'].value_counts()"
   ]
  },
  {
   "cell_type": "code",
   "execution_count": 28,
   "id": "220739d5-1937-407e-bab9-e9686f9f0082",
   "metadata": {
    "tags": []
   },
   "outputs": [
    {
     "data": {
      "image/png": "[encoded data removed]",
      "text/plain": [
       "<Figure size 432x288 with 1 Axes>"
      ]
     },
     "metadata": {
      "needs_background": "light"
     },
     "output_type": "display_data"
    }
   ],
   "source": [
    "train.groupby('contract_until')['value'].sum().plot(kind='bar');"
   ]
  },
  {
   "cell_type": "markdown",
   "id": "686e2b47-f891-4f7f-bfdf-1763b82edfec",
   "metadata": {},
   "source": [
    "## 1.3. 모델 적용에 필요 없는 칼럼 삭제"
   ]
  },
  {
   "cell_type": "markdown",
   "id": "d066b42a-4ce4-4066-ace4-126032b07db8",
   "metadata": {},
   "source": [
    "### 1.3.1. 모든 값이 다른 칼럼 칼럼 삭제"
   ]
  },
  {
   "cell_type": "code",
   "execution_count": 29,
   "id": "c0aed414-c162-4426-94a8-a500994d980e",
   "metadata": {},
   "outputs": [
    {
     "data": {
      "text/plain": [
       "0        1\n",
       "10556    1\n",
       "10546    1\n",
       "10548    1\n",
       "10549    1\n",
       "        ..\n",
       "5020     1\n",
       "5017     1\n",
       "5016     1\n",
       "5014     1\n",
       "16948    1\n",
       "Name: id, Length: 8932, dtype: int64"
      ]
     },
     "execution_count": 29,
     "metadata": {},
     "output_type": "execute_result"
    }
   ],
   "source": [
    "train['id'].value_counts()"
   ]
  },
  {
   "cell_type": "code",
   "execution_count": 30,
   "id": "fe0c7488-90db-4ca1-ab14-98d0318eebd7",
   "metadata": {},
   "outputs": [
    {
     "data": {
      "text/plain": [
       "L. Messi              1\n",
       "S. Tanabe             1\n",
       "P. Wiegers            1\n",
       "P. Breitkreuz         1\n",
       "K. Rendón             1\n",
       "                     ..\n",
       "P. Álvarez            1\n",
       "B. Urribarri          1\n",
       "D. Larsson            1\n",
       "S. Delev              1\n",
       "N. Christoffersson    1\n",
       "Name: name, Length: 8932, dtype: int64"
      ]
     },
     "execution_count": 30,
     "metadata": {},
     "output_type": "execute_result"
    }
   ],
   "source": [
    "train['name'].value_counts()"
   ]
  },
  {
   "cell_type": "code",
   "execution_count": 31,
   "id": "6532e7a1-5b41-4979-a539-c0a73fbf57f0",
   "metadata": {
    "tags": []
   },
   "outputs": [],
   "source": [
    "train.drop(['id', 'name'], axis=1, inplace=True)"
   ]
  },
  {
   "cell_type": "markdown",
   "id": "c3f6d973-4bce-4229-a759-b86f5a0e52f1",
   "metadata": {},
   "source": [
    "### 1.3.2. 양적 의미 없는 수치값 삭제"
   ]
  },
  {
   "cell_type": "markdown",
   "id": "9c614ad0-8ed1-4806-9228-814455ee1837",
   "metadata": {},
   "source": [
    "## 1.4. 상관관계 파악"
   ]
  },
  {
   "cell_type": "code",
   "execution_count": 32,
   "id": "e1c64521-f125-4405-ba08-dada97b0b365",
   "metadata": {},
   "outputs": [],
   "source": [
    "#train_heatmap = train.drop(['continent','position','prefer_foot'], axis=1, inplace=True) #양적 의미 없는 단순 범주 값 삭제 "
   ]
  },
  {
   "cell_type": "code",
   "execution_count": 33,
   "id": "16215400-d811-439d-814f-af5a97604329",
   "metadata": {},
   "outputs": [
    {
     "data": {
      "image/png": "[encoded data removed]",
      "text/plain": [
       "<Figure size 720x576 with 2 Axes>"
      ]
     },
     "metadata": {
      "needs_background": "light"
     },
     "output_type": "display_data"
    }
   ],
   "source": [
    "plt.figure(figsize=(10, 8))\n",
    "sns.heatmap(train.corr(), annot=True, cmap=\"YlGnBu\")\n",
    "plt.show()"
   ]
  },
  {
   "cell_type": "markdown",
   "id": "72f59bb8-4d19-442f-92a4-36bd0145d4a6",
   "metadata": {},
   "source": [
    "### 1.4.1. 최종 결과"
   ]
  },
  {
   "cell_type": "code",
   "execution_count": 33,
   "id": "ba0e933e-76db-4840-9562-3bc2fd5b1c45",
   "metadata": {},
   "outputs": [
    {
     "data": {
      "text/html": [
       "<div>\n",
       "<style scoped>\n",
       "    .dataframe tbody tr th:only-of-type {\n",
       "        vertical-align: middle;\n",
       "    }\n",
       "\n",
       "    .dataframe tbody tr th {\n",
       "        vertical-align: top;\n",
       "    }\n",
       "\n",
       "    .dataframe thead th {\n",
       "        text-align: right;\n",
       "    }\n",
       "</style>\n",
       "<table border=\"1\" class=\"dataframe\">\n",
       "  <thead>\n",
       "    <tr style=\"text-align: right;\">\n",
       "      <th></th>\n",
       "      <th>age</th>\n",
       "      <th>continent</th>\n",
       "      <th>contract_until</th>\n",
       "      <th>position</th>\n",
       "      <th>prefer_foot</th>\n",
       "      <th>reputation</th>\n",
       "      <th>stat_overall</th>\n",
       "      <th>stat_potential</th>\n",
       "      <th>stat_skill_moves</th>\n",
       "      <th>value</th>\n",
       "    </tr>\n",
       "  </thead>\n",
       "  <tbody>\n",
       "    <tr>\n",
       "      <th>0</th>\n",
       "      <td>31</td>\n",
       "      <td>3</td>\n",
       "      <td>2021</td>\n",
       "      <td>1</td>\n",
       "      <td>0</td>\n",
       "      <td>5.0</td>\n",
       "      <td>94</td>\n",
       "      <td>94</td>\n",
       "      <td>4.0</td>\n",
       "      <td>110500000.0</td>\n",
       "    </tr>\n",
       "    <tr>\n",
       "      <th>1</th>\n",
       "      <td>27</td>\n",
       "      <td>4</td>\n",
       "      <td>2020</td>\n",
       "      <td>0</td>\n",
       "      <td>1</td>\n",
       "      <td>4.0</td>\n",
       "      <td>91</td>\n",
       "      <td>93</td>\n",
       "      <td>1.0</td>\n",
       "      <td>72000000.0</td>\n",
       "    </tr>\n",
       "    <tr>\n",
       "      <th>2</th>\n",
       "      <td>31</td>\n",
       "      <td>3</td>\n",
       "      <td>2021</td>\n",
       "      <td>1</td>\n",
       "      <td>1</td>\n",
       "      <td>5.0</td>\n",
       "      <td>91</td>\n",
       "      <td>91</td>\n",
       "      <td>3.0</td>\n",
       "      <td>80000000.0</td>\n",
       "    </tr>\n",
       "    <tr>\n",
       "      <th>3</th>\n",
       "      <td>32</td>\n",
       "      <td>4</td>\n",
       "      <td>2020</td>\n",
       "      <td>2</td>\n",
       "      <td>1</td>\n",
       "      <td>4.0</td>\n",
       "      <td>91</td>\n",
       "      <td>91</td>\n",
       "      <td>3.0</td>\n",
       "      <td>51000000.0</td>\n",
       "    </tr>\n",
       "    <tr>\n",
       "      <th>4</th>\n",
       "      <td>25</td>\n",
       "      <td>4</td>\n",
       "      <td>2021</td>\n",
       "      <td>0</td>\n",
       "      <td>1</td>\n",
       "      <td>3.0</td>\n",
       "      <td>90</td>\n",
       "      <td>93</td>\n",
       "      <td>1.0</td>\n",
       "      <td>68000000.0</td>\n",
       "    </tr>\n",
       "    <tr>\n",
       "      <th>...</th>\n",
       "      <td>...</td>\n",
       "      <td>...</td>\n",
       "      <td>...</td>\n",
       "      <td>...</td>\n",
       "      <td>...</td>\n",
       "      <td>...</td>\n",
       "      <td>...</td>\n",
       "      <td>...</td>\n",
       "      <td>...</td>\n",
       "      <td>...</td>\n",
       "    </tr>\n",
       "    <tr>\n",
       "      <th>8927</th>\n",
       "      <td>18</td>\n",
       "      <td>1</td>\n",
       "      <td>2019</td>\n",
       "      <td>3</td>\n",
       "      <td>1</td>\n",
       "      <td>1.0</td>\n",
       "      <td>48</td>\n",
       "      <td>63</td>\n",
       "      <td>3.0</td>\n",
       "      <td>60000.0</td>\n",
       "    </tr>\n",
       "    <tr>\n",
       "      <th>8928</th>\n",
       "      <td>19</td>\n",
       "      <td>4</td>\n",
       "      <td>2020</td>\n",
       "      <td>2</td>\n",
       "      <td>1</td>\n",
       "      <td>1.0</td>\n",
       "      <td>47</td>\n",
       "      <td>59</td>\n",
       "      <td>2.0</td>\n",
       "      <td>40000.0</td>\n",
       "    </tr>\n",
       "    <tr>\n",
       "      <th>8929</th>\n",
       "      <td>18</td>\n",
       "      <td>3</td>\n",
       "      <td>2021</td>\n",
       "      <td>2</td>\n",
       "      <td>1</td>\n",
       "      <td>1.0</td>\n",
       "      <td>47</td>\n",
       "      <td>64</td>\n",
       "      <td>2.0</td>\n",
       "      <td>50000.0</td>\n",
       "    </tr>\n",
       "    <tr>\n",
       "      <th>8930</th>\n",
       "      <td>18</td>\n",
       "      <td>4</td>\n",
       "      <td>2021</td>\n",
       "      <td>0</td>\n",
       "      <td>1</td>\n",
       "      <td>1.0</td>\n",
       "      <td>47</td>\n",
       "      <td>65</td>\n",
       "      <td>1.0</td>\n",
       "      <td>50000.0</td>\n",
       "    </tr>\n",
       "    <tr>\n",
       "      <th>8931</th>\n",
       "      <td>19</td>\n",
       "      <td>4</td>\n",
       "      <td>2020</td>\n",
       "      <td>1</td>\n",
       "      <td>1</td>\n",
       "      <td>1.0</td>\n",
       "      <td>47</td>\n",
       "      <td>63</td>\n",
       "      <td>2.0</td>\n",
       "      <td>60000.0</td>\n",
       "    </tr>\n",
       "  </tbody>\n",
       "</table>\n",
       "<p>8932 rows × 10 columns</p>\n",
       "</div>"
      ],
      "text/plain": [
       "      age  continent  contract_until  position  prefer_foot  reputation  \\\n",
       "0      31          3            2021         1            0         5.0   \n",
       "1      27          4            2020         0            1         4.0   \n",
       "2      31          3            2021         1            1         5.0   \n",
       "3      32          4            2020         2            1         4.0   \n",
       "4      25          4            2021         0            1         3.0   \n",
       "...   ...        ...             ...       ...          ...         ...   \n",
       "8927   18          1            2019         3            1         1.0   \n",
       "8928   19          4            2020         2            1         1.0   \n",
       "8929   18          3            2021         2            1         1.0   \n",
       "8930   18          4            2021         0            1         1.0   \n",
       "8931   19          4            2020         1            1         1.0   \n",
       "\n",
       "      stat_overall  stat_potential  stat_skill_moves        value  \n",
       "0               94              94               4.0  110500000.0  \n",
       "1               91              93               1.0   72000000.0  \n",
       "2               91              91               3.0   80000000.0  \n",
       "3               91              91               3.0   51000000.0  \n",
       "4               90              93               1.0   68000000.0  \n",
       "...            ...             ...               ...          ...  \n",
       "8927            48              63               3.0      60000.0  \n",
       "8928            47              59               2.0      40000.0  \n",
       "8929            47              64               2.0      50000.0  \n",
       "8930            47              65               1.0      50000.0  \n",
       "8931            47              63               2.0      60000.0  \n",
       "\n",
       "[8932 rows x 10 columns]"
      ]
     },
     "execution_count": 33,
     "metadata": {},
     "output_type": "execute_result"
    }
   ],
   "source": [
    "train"
   ]
  },
  {
   "cell_type": "code",
   "execution_count": 34,
   "id": "e7f076e8-9926-43da-8d94-4bcaa812ea64",
   "metadata": {},
   "outputs": [],
   "source": [
    "# data.drop(['name','id','reputation','stat_overall','stat_potential'], axis=1, inplace= True)"
   ]
  }
 ],
 "metadata": {
  "kernelspec": {
   "display_name": "Python 3 (ipykernel)",
   "language": "python",
   "name": "python3"
  },
  "language_info": {
   "codemirror_mode": {
    "name": "ipython",
    "version": 3
   },
   "file_extension": ".py",
   "mimetype": "text/x-python",
   "name": "python",
   "nbconvert_exporter": "python",
   "pygments_lexer": "ipython3",
   "version": "3.9.12"
  }
 },
 "nbformat": 4,
 "nbformat_minor": 5
}
