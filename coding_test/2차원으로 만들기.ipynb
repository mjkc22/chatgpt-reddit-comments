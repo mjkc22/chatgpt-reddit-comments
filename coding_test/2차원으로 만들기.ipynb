{
 "cells": [
  {
   "cell_type": "markdown",
   "id": "0b486b85-68e4-4f4c-b563-31825a28876a",
   "metadata": {},
   "source": [
    "https://school.programmers.co.kr/learn/courses/30/lessons/120842"
   ]
  },
  {
   "cell_type": "markdown",
   "id": "3ae789f2-75f0-4451-9eb5-f79fb9a4674e",
   "metadata": {},
   "source": [
    "정수 배열 num_list와 정수 n이 매개변수로 주어집니다. num_list를 다음 설명과 같이 2차원 배열로 바꿔 return하도록 solution 함수를 완성해주세요.\n",
    "\n",
    "num_list가 [1, 2, 3, 4, 5, 6, 7, 8] 로 길이가 8이고 n이 2이므로 num_list를 2 * 4 배열로 다음과 같이 변경합니다. 2차원으로 바꿀 때에는 num_list의 원소들을 앞에서부터 n개씩 나눠 2차원 배열로 변경합니다.\n"
   ]
  },
  {
   "cell_type": "code",
   "execution_count": 3,
   "id": "28147df1-5c3a-4e04-8adb-acdfd3fc330f",
   "metadata": {},
   "outputs": [],
   "source": [
    "def solution(num_list, n):\n",
    "    a = []\n",
    "    for i in list(range(len(num_list)))[::n]:\n",
    "            a.append(num_list[i:i+n])\n",
    "    return a"
   ]
  },
  {
   "cell_type": "code",
   "execution_count": null,
   "id": "482a22f7-e58f-42bf-9032-21e50d91e284",
   "metadata": {},
   "outputs": [],
   "source": []
  }
 ],
 "metadata": {
  "kernelspec": {
   "display_name": "Python 3 (ipykernel)",
   "language": "python",
   "name": "python3"
  },
  "language_info": {
   "codemirror_mode": {
    "name": "ipython",
    "version": 3
   },
   "file_extension": ".py",
   "mimetype": "text/x-python",
   "name": "python",
   "nbconvert_exporter": "python",
   "pygments_lexer": "ipython3",
   "version": "3.9.12"
  }
 },
 "nbformat": 4,
 "nbformat_minor": 5
}
