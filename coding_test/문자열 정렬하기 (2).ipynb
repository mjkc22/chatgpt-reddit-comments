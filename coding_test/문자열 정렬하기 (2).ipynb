{
 "cells": [
  {
   "cell_type": "markdown",
   "id": "823435e9-c9e2-4bd2-8d37-2fb5560b6d47",
   "metadata": {},
   "source": [
    "https://school.programmers.co.kr/learn/courses/30/lessons/120911"
   ]
  },
  {
   "cell_type": "markdown",
   "id": "d82a7314-e7a8-42a8-b9c6-ab55f755b72f",
   "metadata": {},
   "source": [
    "영어 대소문자로 이루어진 문자열 my_string이 매개변수로 주어질 때, my_string을 모두 소문자로 바꾸고 알파벳 순서대로 정렬한 문자열을 return 하도록 solution 함수를 완성해보세요."
   ]
  },
  {
   "cell_type": "code",
   "execution_count": 1,
   "id": "9c18b223-0f51-4944-ab7a-e936d0e348ec",
   "metadata": {},
   "outputs": [],
   "source": [
    "def solution(my_string):\n",
    "    return ''.join(sorted(my_string.lower()))"
   ]
  },
  {
   "cell_type": "code",
   "execution_count": null,
   "id": "4bc5ece7-579e-4afa-8220-34ca3bd1ec02",
   "metadata": {},
   "outputs": [],
   "source": []
  }
 ],
 "metadata": {
  "kernelspec": {
   "display_name": "Python 3 (ipykernel)",
   "language": "python",
   "name": "python3"
  },
  "language_info": {
   "codemirror_mode": {
    "name": "ipython",
    "version": 3
   },
   "file_extension": ".py",
   "mimetype": "text/x-python",
   "name": "python",
   "nbconvert_exporter": "python",
   "pygments_lexer": "ipython3",
   "version": "3.9.12"
  }
 },
 "nbformat": 4,
 "nbformat_minor": 5
}
