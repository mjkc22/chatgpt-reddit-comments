{
 "cells": [
  {
   "cell_type": "markdown",
   "id": "2bb0a164-7f2a-4b27-b7a2-c128a20209b8",
   "metadata": {},
   "source": [
    "https://school.programmers.co.kr/learn/courses/30/lessons/120844"
   ]
  },
  {
   "cell_type": "markdown",
   "id": "cef235ed-5632-4c65-962f-93edad250c7d",
   "metadata": {},
   "source": [
    "정수가 담긴 배열 numbers와 문자열 direction가 매개변수로 주어집니다. 배열 numbers의 원소를 direction방향으로 한 칸씩 회전시킨 배열을 return하도록 solution 함수를 완성해주세요."
   ]
  },
  {
   "cell_type": "code",
   "execution_count": null,
   "id": "60bd75ae-1e25-42ca-beac-d008328c8c93",
   "metadata": {},
   "outputs": [],
   "source": [
    "def solution(numbers, direction):\n",
    "    if direction =='left':\n",
    "        return numbers[1:] + [numbers[0]]\n",
    "    else:\n",
    "        return [numbers[-1]] + numbers[:-1]"
   ]
  }
 ],
 "metadata": {
  "kernelspec": {
   "display_name": "Python 3 (ipykernel)",
   "language": "python",
   "name": "python3"
  },
  "language_info": {
   "codemirror_mode": {
    "name": "ipython",
    "version": 3
   },
   "file_extension": ".py",
   "mimetype": "text/x-python",
   "name": "python",
   "nbconvert_exporter": "python",
   "pygments_lexer": "ipython3",
   "version": "3.9.12"
  }
 },
 "nbformat": 4,
 "nbformat_minor": 5
}
