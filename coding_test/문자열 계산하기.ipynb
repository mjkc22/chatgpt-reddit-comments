{
 "cells": [
  {
   "cell_type": "markdown",
   "id": "4370873a-9eff-4b8d-96da-8002a80e988e",
   "metadata": {},
   "source": [
    "https://school.programmers.co.kr/learn/courses/30/lessons/120902#qna"
   ]
  },
  {
   "cell_type": "markdown",
   "id": "102227fd-14ee-4902-8428-3539a14181a0",
   "metadata": {},
   "source": [
    "my_string은 \"3 + 5\"처럼 문자열로 된 수식입니다. 문자열 my_string이 매개변수로 주어질 때, 수식을 계산한 값을 return 하는 solution 함수를 완성해주세요."
   ]
  },
  {
   "cell_type": "code",
   "execution_count": 22,
   "id": "cbd98325-c8a3-4a90-b738-49be2e269e99",
   "metadata": {},
   "outputs": [],
   "source": [
    "def solution(my_string):\n",
    "    answer = 0\n",
    "    tmp = my_string.split()\n",
    "    answer += int(tmp[0])\n",
    "    for i in range(1,len(tmp)+1):\n",
    "        if i != len(tmp):\n",
    "            if tmp[i] == '+':\n",
    "                answer += int(tmp[i+1])\n",
    "            elif tmp[i] == '-':\n",
    "                answer -= int(tmp[i+1])\n",
    "            else:\n",
    "                continue\n",
    "    return answer"
   ]
  }
 ],
 "metadata": {
  "kernelspec": {
   "display_name": "Python 3 (ipykernel)",
   "language": "python",
   "name": "python3"
  },
  "language_info": {
   "codemirror_mode": {
    "name": "ipython",
    "version": 3
   },
   "file_extension": ".py",
   "mimetype": "text/x-python",
   "name": "python",
   "nbconvert_exporter": "python",
   "pygments_lexer": "ipython3",
   "version": "3.9.12"
  }
 },
 "nbformat": 4,
 "nbformat_minor": 5
}
