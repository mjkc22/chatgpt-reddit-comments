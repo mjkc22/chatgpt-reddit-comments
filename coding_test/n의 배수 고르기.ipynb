{
 "cells": [
  {
   "cell_type": "markdown",
   "id": "771e021e-4135-4f4c-8b17-cab3bb9fdaa0",
   "metadata": {},
   "source": [
    "https://school.programmers.co.kr/learn/courses/30/lessons/120905"
   ]
  },
  {
   "cell_type": "markdown",
   "id": "8572ac11-46d5-4881-8259-54aa8c2bdf2d",
   "metadata": {},
   "source": [
    "정수 n과 정수 배열 numlist가 매개변수로 주어질 때, numlist에서 n의 배수가 아닌 수들을 제거한 배열을 return하도록 solution 함수를 완성해주세요."
   ]
  },
  {
   "cell_type": "code",
   "execution_count": 1,
   "id": "b79d85df-2b92-439d-b288-da66431cf709",
   "metadata": {},
   "outputs": [],
   "source": [
    "def solution(n, numlist):\n",
    "    answer= []\n",
    "    for i in range(len(numlist)):\n",
    "        if numlist[i]%n ==0:\n",
    "            answer.append(numlist[i])\n",
    "    return answer"
   ]
  }
 ],
 "metadata": {
  "kernelspec": {
   "display_name": "Python 3 (ipykernel)",
   "language": "python",
   "name": "python3"
  },
  "language_info": {
   "codemirror_mode": {
    "name": "ipython",
    "version": 3
   },
   "file_extension": ".py",
   "mimetype": "text/x-python",
   "name": "python",
   "nbconvert_exporter": "python",
   "pygments_lexer": "ipython3",
   "version": "3.9.12"
  }
 },
 "nbformat": 4,
 "nbformat_minor": 5
}
