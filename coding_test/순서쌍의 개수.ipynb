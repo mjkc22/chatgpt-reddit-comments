{
 "cells": [
  {
   "cell_type": "markdown",
   "id": "55964693-b8a0-451f-95cc-589753d598b0",
   "metadata": {},
   "source": [
    "https://school.programmers.co.kr/learn/courses/30/lessons/120836"
   ]
  },
  {
   "cell_type": "markdown",
   "id": "ec29331a-cd15-477e-bc67-dbbe9f3c854d",
   "metadata": {},
   "source": [
    "순서쌍이란 두 개의 숫자를 순서를 정하여 짝지어 나타낸 쌍으로 (a, b)로 표기합니다. 자연수 n이 매개변수로 주어질 때 두 숫자의 곱이 n인 자연수 순서쌍의 개수를 return하도록 solution 함수를 완성해주세요."
   ]
  },
  {
   "cell_type": "code",
   "execution_count": null,
   "id": "e1e4e1bd-ffe1-4266-8942-fc9845a3185b",
   "metadata": {},
   "outputs": [],
   "source": [
    "def solution(n):\n",
    "    return len([i for i in range(1, n+1) if (n%i ==0)])"
   ]
  }
 ],
 "metadata": {
  "kernelspec": {
   "display_name": "Python 3 (ipykernel)",
   "language": "python",
   "name": "python3"
  },
  "language_info": {
   "codemirror_mode": {
    "name": "ipython",
    "version": 3
   },
   "file_extension": ".py",
   "mimetype": "text/x-python",
   "name": "python",
   "nbconvert_exporter": "python",
   "pygments_lexer": "ipython3",
   "version": "3.9.12"
  }
 },
 "nbformat": 4,
 "nbformat_minor": 5
}
