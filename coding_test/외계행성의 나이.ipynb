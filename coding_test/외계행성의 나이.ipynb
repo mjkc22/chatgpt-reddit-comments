{
 "cells": [
  {
   "cell_type": "markdown",
   "id": "3e873423-712a-43c4-8cdb-114b20057e2e",
   "metadata": {},
   "source": [
    "https://school.programmers.co.kr/learn/courses/30/lessons/120834#qna"
   ]
  },
  {
   "cell_type": "markdown",
   "id": "66462ead-2991-4e3e-8cdc-ec607a8cad29",
   "metadata": {},
   "source": [
    "우주여행을 하던 머쓱이는 엔진 고장으로 PROGRAMMERS-962 행성에 불시착하게 됐습니다. 입국심사에서 나이를 말해야 하는데, PROGRAMMERS-962 행성에서는 나이를 알파벳으로 말하고 있습니다. a는 0, b는 1, c는 2, ..., j는 9입니다. 예를 들어 23살은 cd, 51살은 fb로 표현합니다. 나이 age가 매개변수로 주어질 때 PROGRAMMER-962식 나이를 return하도록 solution 함수를 완성해주세요.\n"
   ]
  },
  {
   "cell_type": "code",
   "execution_count": null,
   "id": "0604d9c0-2068-45d2-ab36-60bf44fe32b3",
   "metadata": {},
   "outputs": [],
   "source": [
    "def solution(age):\n",
    "    a = 'abcdefghij'\n",
    "    answer = ''\n",
    "    for i in str(age):\n",
    "         answer += a[int(i)]\n",
    "    return answer"
   ]
  }
 ],
 "metadata": {
  "kernelspec": {
   "display_name": "Python 3 (ipykernel)",
   "language": "python",
   "name": "python3"
  },
  "language_info": {
   "codemirror_mode": {
    "name": "ipython",
    "version": 3
   },
   "file_extension": ".py",
   "mimetype": "text/x-python",
   "name": "python",
   "nbconvert_exporter": "python",
   "pygments_lexer": "ipython3",
   "version": "3.9.12"
  }
 },
 "nbformat": 4,
 "nbformat_minor": 5
}
