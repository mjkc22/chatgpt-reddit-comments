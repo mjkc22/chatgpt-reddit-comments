{
 "cells": [
  {
   "cell_type": "markdown",
   "id": "ae7071d3-2498-4eb3-88fd-1001e92b409e",
   "metadata": {},
   "source": [
    "https://school.programmers.co.kr/learn/courses/30/lessons/120889"
   ]
  },
  {
   "cell_type": "markdown",
   "id": "80be089c-5f28-47ab-804c-1e2112d4a0a0",
   "metadata": {},
   "source": [
    "선분 세 개로 삼각형을 만들기 위해서는 다음과 같은 조건을 만족해야 합니다.\n",
    "\n",
    "가장 긴 변의 길이는 다른 두 변의 길이의 합보다 작아야 합니다.\n",
    "\n",
    "삼각형의 세 변의 길이가 담긴 배열 sides이 매개변수로 주어집니다. 세 변으로 삼각형을 만들 수 있다면 1, 만들 수 없다면 2를 return하도록 solution 함수를 완성해주세요.\n"
   ]
  },
  {
   "cell_type": "code",
   "execution_count": null,
   "id": "9dadf595-9e10-40eb-ae51-f2e3708f3526",
   "metadata": {},
   "outputs": [],
   "source": [
    "def solution(sides):\n",
    "    tl = max(sides)\n",
    "    n = sum(sides)\n",
    "    if tl < (n-tl):\n",
    "        answer = 1\n",
    "    else:\n",
    "        answer = 2\n",
    "    return answer"
   ]
  }
 ],
 "metadata": {
  "kernelspec": {
   "display_name": "Python 3 (ipykernel)",
   "language": "python",
   "name": "python3"
  },
  "language_info": {
   "codemirror_mode": {
    "name": "ipython",
    "version": 3
   },
   "file_extension": ".py",
   "mimetype": "text/x-python",
   "name": "python",
   "nbconvert_exporter": "python",
   "pygments_lexer": "ipython3",
   "version": "3.9.12"
  }
 },
 "nbformat": 4,
 "nbformat_minor": 5
}
