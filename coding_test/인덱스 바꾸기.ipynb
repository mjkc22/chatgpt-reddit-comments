{
 "cells": [
  {
   "cell_type": "markdown",
   "id": "b3976a24-16a7-40b4-863c-af504152407c",
   "metadata": {},
   "source": [
    "https://school.programmers.co.kr/learn/courses/30/lessons/120895"
   ]
  },
  {
   "cell_type": "markdown",
   "id": "eeedcd54-e25a-4635-8fef-82944c448756",
   "metadata": {},
   "source": [
    "문자열 my_string과 정수 num1, num2가 매개변수로 주어질 때, my_string에서 인덱스 num1과 인덱스 num2에 해당하는 문자를 바꾼 문자열을 return 하도록 solution 함수를 완성해보세요."
   ]
  },
  {
   "cell_type": "code",
   "execution_count": 1,
   "id": "ce72f78b-1b53-4c42-865c-70ed8b46502f",
   "metadata": {},
   "outputs": [],
   "source": [
    "def solution(my_string, num1, num2):\n",
    "    ls = list(my_string)\n",
    "    temp1 = my_string[num1]\n",
    "    temp2 = my_string[num2]\n",
    "    ls[num2] = temp1\n",
    "    ls[num1] = temp2\n",
    "    \n",
    "    return ''.join(ls)"
   ]
  },
  {
   "cell_type": "code",
   "execution_count": null,
   "id": "bc338853-4fad-494c-90ce-fc51962d9c44",
   "metadata": {},
   "outputs": [],
   "source": []
  }
 ],
 "metadata": {
  "kernelspec": {
   "display_name": "Python 3 (ipykernel)",
   "language": "python",
   "name": "python3"
  },
  "language_info": {
   "codemirror_mode": {
    "name": "ipython",
    "version": 3
   },
   "file_extension": ".py",
   "mimetype": "text/x-python",
   "name": "python",
   "nbconvert_exporter": "python",
   "pygments_lexer": "ipython3",
   "version": "3.9.12"
  }
 },
 "nbformat": 4,
 "nbformat_minor": 5
}
