{
 "cells": [
  {
   "cell_type": "markdown",
   "id": "8c23e0dc-8ba5-4e6c-9c08-82565a296f4f",
   "metadata": {},
   "source": [
    "https://school.programmers.co.kr/learn/courses/30/lessons/120924"
   ]
  },
  {
   "cell_type": "markdown",
   "id": "e943c5e9-bf0e-48fb-ae75-8584ebfeb573",
   "metadata": {},
   "source": [
    "등차수열 혹은 등비수열 common이 매개변수로 주어질 때, 마지막 원소 다음으로 올 숫자를 return 하도록 solution 함수를 완성해보세요."
   ]
  },
  {
   "cell_type": "code",
   "execution_count": 2,
   "id": "054ee7c4-13ff-4350-b345-c889c88554fa",
   "metadata": {},
   "outputs": [],
   "source": [
    "def solution(common):\n",
    "    if common[2]-common[1] == common[1]-common[0]:\n",
    "        answer = common[-1]+(common[1]-common[0])\n",
    "    else :\n",
    "        answer = common[-1]*(common[1]/common[0])\n",
    "    \n",
    "    return answer"
   ]
  },
  {
   "cell_type": "code",
   "execution_count": null,
   "id": "f04e5f6c-3a71-4931-af00-5184abb2fbe5",
   "metadata": {},
   "outputs": [],
   "source": []
  }
 ],
 "metadata": {
  "kernelspec": {
   "display_name": "Python 3 (ipykernel)",
   "language": "python",
   "name": "python3"
  },
  "language_info": {
   "codemirror_mode": {
    "name": "ipython",
    "version": 3
   },
   "file_extension": ".py",
   "mimetype": "text/x-python",
   "name": "python",
   "nbconvert_exporter": "python",
   "pygments_lexer": "ipython3",
   "version": "3.9.12"
  }
 },
 "nbformat": 4,
 "nbformat_minor": 5
}
