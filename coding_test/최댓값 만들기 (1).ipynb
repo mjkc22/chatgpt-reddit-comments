{
 "cells": [
  {
   "cell_type": "markdown",
   "id": "6fb768b5-ce2b-4ce2-91c1-d9ed08060291",
   "metadata": {},
   "source": [
    "https://school.programmers.co.kr/learn/courses/30/lessons/120847"
   ]
  },
  {
   "cell_type": "markdown",
   "id": "8e3e9f82-b1b6-46dc-b0fe-6f15a4cf506a",
   "metadata": {},
   "source": [
    "정수 배열 numbers가 매개변수로 주어집니다. numbers의 원소 중 두 개를 곱해 만들 수 있는 최댓값을 return하도록 solution 함수를 완성해주세요.\n"
   ]
  },
  {
   "cell_type": "code",
   "execution_count": null,
   "id": "4a8624f6-f398-4af8-97e7-12a5b7ab06af",
   "metadata": {},
   "outputs": [],
   "source": [
    "def solution(numbers):\n",
    "    new_num = sorted(numbers)\n",
    "    return new_num[-1]*new_num[-2]"
   ]
  }
 ],
 "metadata": {
  "kernelspec": {
   "display_name": "Python 3 (ipykernel)",
   "language": "python",
   "name": "python3"
  },
  "language_info": {
   "codemirror_mode": {
    "name": "ipython",
    "version": 3
   },
   "file_extension": ".py",
   "mimetype": "text/x-python",
   "name": "python",
   "nbconvert_exporter": "python",
   "pygments_lexer": "ipython3",
   "version": "3.9.12"
  }
 },
 "nbformat": 4,
 "nbformat_minor": 5
}
