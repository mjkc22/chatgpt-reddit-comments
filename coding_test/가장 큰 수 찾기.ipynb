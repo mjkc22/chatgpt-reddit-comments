{
 "cells": [
  {
   "cell_type": "markdown",
   "id": "6ffb96ff-6a81-44ef-a030-ab598ae6e836",
   "metadata": {},
   "source": [
    "https://school.programmers.co.kr/learn/courses/30/lessons/120899"
   ]
  },
  {
   "cell_type": "markdown",
   "id": "92f3490a-18e7-4002-bc1e-a65e3a60498d",
   "metadata": {},
   "source": [
    "정수 배열 array가 매개변수로 주어질 때, 가장 큰 수와 그 수의 인덱스를 담은 배열을 return 하도록 solution 함수를 완성해보세요."
   ]
  },
  {
   "cell_type": "code",
   "execution_count": null,
   "id": "f08c227b-400a-4736-8f19-171d48baa519",
   "metadata": {},
   "outputs": [],
   "source": [
    "def solution(array):\n",
    "    answer= []\n",
    "    \n",
    "    max_num= max(array)\n",
    "    \n",
    "    for i in range(len(array)):\n",
    "        if array[i] == max_num:\n",
    "            index =  i\n",
    "            \n",
    "    answer.append(max_num)\n",
    "    answer.append(index)\n",
    "    return answer"
   ]
  }
 ],
 "metadata": {
  "kernelspec": {
   "display_name": "Python 3 (ipykernel)",
   "language": "python",
   "name": "python3"
  },
  "language_info": {
   "codemirror_mode": {
    "name": "ipython",
    "version": 3
   },
   "file_extension": ".py",
   "mimetype": "text/x-python",
   "name": "python",
   "nbconvert_exporter": "python",
   "pygments_lexer": "ipython3",
   "version": "3.9.12"
  }
 },
 "nbformat": 4,
 "nbformat_minor": 5
}
