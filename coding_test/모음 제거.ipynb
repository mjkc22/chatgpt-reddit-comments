{
 "cells": [
  {
   "cell_type": "code",
   "execution_count": null,
   "id": "22bff53d-cc71-46c9-a434-ad66a4632d4b",
   "metadata": {},
   "outputs": [],
   "source": [
    "https://school.programmers.co.kr/learn/courses/30/lessons/120849"
   ]
  },
  {
   "cell_type": "markdown",
   "id": "0e050929-b213-4e06-9fb4-b17a72ba0a5b",
   "metadata": {},
   "source": [
    "영어에선 a, e, i, o, u 다섯 가지 알파벳을 모음으로 분류합니다. 문자열 my_string이 매개변수로 주어질 때 모음을 제거한 문자열을 return하도록 solution 함수를 완성해주세요.\n"
   ]
  },
  {
   "cell_type": "code",
   "execution_count": null,
   "id": "fd59e21c-ea7e-4c58-bbb1-11f4cd645944",
   "metadata": {},
   "outputs": [],
   "source": [
    "def solution(my_string):\n",
    "    for i in ['a','e','i','o','u']:\n",
    "         my_string= my_string.replace(i,'')\n",
    "    return my_string"
   ]
  }
 ],
 "metadata": {
  "kernelspec": {
   "display_name": "Python 3 (ipykernel)",
   "language": "python",
   "name": "python3"
  },
  "language_info": {
   "codemirror_mode": {
    "name": "ipython",
    "version": 3
   },
   "file_extension": ".py",
   "mimetype": "text/x-python",
   "name": "python",
   "nbconvert_exporter": "python",
   "pygments_lexer": "ipython3",
   "version": "3.9.12"
  }
 },
 "nbformat": 4,
 "nbformat_minor": 5
}
