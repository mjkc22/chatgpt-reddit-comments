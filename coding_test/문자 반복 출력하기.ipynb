{
 "cells": [
  {
   "cell_type": "markdown",
   "id": "3a15b5af-6a11-4dd2-87db-508ed5420595",
   "metadata": {},
   "source": [
    "https://school.programmers.co.kr/learn/courses/30/lessons/120825"
   ]
  },
  {
   "cell_type": "markdown",
   "id": "c94beb4f-ca25-454b-8ff5-824b8f7554da",
   "metadata": {},
   "source": [
    "문자열 my_string과 정수 n이 매개변수로 주어질 때, my_string에 들어있는 각 문자를 n만큼 반복한 문자열을 return 하도록 solution 함수를 완성해보세요.\n"
   ]
  },
  {
   "cell_type": "code",
   "execution_count": null,
   "id": "40a3d730-c33a-4365-b2e5-7f62df921d62",
   "metadata": {},
   "outputs": [],
   "source": [
    "def solution(my_string, n):\n",
    "    answer = ''\n",
    "    for i in range(len(my_string)):\n",
    "        answer = answer + my_string[i]*n\n",
    "    return answer"
   ]
  }
 ],
 "metadata": {
  "kernelspec": {
   "display_name": "Python 3 (ipykernel)",
   "language": "python",
   "name": "python3"
  },
  "language_info": {
   "codemirror_mode": {
    "name": "ipython",
    "version": 3
   },
   "file_extension": ".py",
   "mimetype": "text/x-python",
   "name": "python",
   "nbconvert_exporter": "python",
   "pygments_lexer": "ipython3",
   "version": "3.9.12"
  }
 },
 "nbformat": 4,
 "nbformat_minor": 5
}
