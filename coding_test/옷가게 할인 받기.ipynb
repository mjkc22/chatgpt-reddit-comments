{
 "cells": [
  {
   "cell_type": "markdown",
   "id": "79f5a6fe-a10a-4ae2-933d-15e4851ff46b",
   "metadata": {},
   "source": [
    "https://school.programmers.co.kr/learn/courses/30/lessons/120818"
   ]
  },
  {
   "cell_type": "markdown",
   "id": "ccf812d4-92c7-4426-94ab-1c04c0d7764a",
   "metadata": {},
   "source": [
    "머쓱이네 옷가게는 10만 원 이상 사면 5%, 30만 원 이상 사면 10%, 50만 원 이상 사면 20%를 할인해줍니다.\n",
    "\n",
    "구매한 옷의 가격 price가 주어질 때, 지불해야 할 금액을 return 하도록 solution 함수를 완성해보세요."
   ]
  },
  {
   "cell_type": "code",
   "execution_count": null,
   "id": "da14e607-f270-48b4-a596-b9046370d59c",
   "metadata": {},
   "outputs": [],
   "source": [
    "def solution(price):\n",
    "    if price >= 500000:\n",
    "        return int(price * 0.8)\n",
    "    \n",
    "    elif price >= 300000:\n",
    "        return int(price * 0.9)\n",
    "    \n",
    "    elif price >= 100000:\n",
    "        return int(price * 0.95)\n",
    "    \n",
    "    else:\n",
    "        return int(price)"
   ]
  }
 ],
 "metadata": {
  "kernelspec": {
   "display_name": "Python 3 (ipykernel)",
   "language": "python",
   "name": "python3"
  },
  "language_info": {
   "codemirror_mode": {
    "name": "ipython",
    "version": 3
   },
   "file_extension": ".py",
   "mimetype": "text/x-python",
   "name": "python",
   "nbconvert_exporter": "python",
   "pygments_lexer": "ipython3",
   "version": "3.9.12"
  }
 },
 "nbformat": 4,
 "nbformat_minor": 5
}
