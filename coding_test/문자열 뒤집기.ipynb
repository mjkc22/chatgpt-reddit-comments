{
 "cells": [
  {
   "cell_type": "markdown",
   "id": "bee5ffa3-b6e6-4944-b8f3-0dc793ea7fa9",
   "metadata": {},
   "source": [
    "https://school.programmers.co.kr/learn/courses/30/lessons/120822"
   ]
  },
  {
   "cell_type": "markdown",
   "id": "f87c9bcd-cae6-478b-95cb-5566e562d7a9",
   "metadata": {},
   "source": [
    "문자열 my_string이 매개변수로 주어집니다. my_string을 거꾸로 뒤집은 문자열을 return하도록 solution 함수를 완성해주세요."
   ]
  },
  {
   "cell_type": "code",
   "execution_count": null,
   "id": "5d356a5f-7f69-4324-a961-38bdd67b147b",
   "metadata": {},
   "outputs": [],
   "source": [
    "def solution(my_string):\n",
    "\n",
    "    return my_string[::-1]"
   ]
  }
 ],
 "metadata": {
  "kernelspec": {
   "display_name": "Python 3 (ipykernel)",
   "language": "python",
   "name": "python3"
  },
  "language_info": {
   "codemirror_mode": {
    "name": "ipython",
    "version": 3
   },
   "file_extension": ".py",
   "mimetype": "text/x-python",
   "name": "python",
   "nbconvert_exporter": "python",
   "pygments_lexer": "ipython3",
   "version": "3.9.12"
  }
 },
 "nbformat": 4,
 "nbformat_minor": 5
}
