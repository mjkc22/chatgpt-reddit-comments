{
 "cells": [
  {
   "cell_type": "markdown",
   "id": "616db6c6-7725-4e67-830e-2631a39d98ee",
   "metadata": {},
   "source": [
    "https://school.programmers.co.kr/learn/courses/30/lessons/120835"
   ]
  },
  {
   "cell_type": "markdown",
   "id": "61436163-a990-4f22-84fe-fa97d7829b44",
   "metadata": {},
   "source": [
    "외과의사 머쓱이는 응급실에 온 환자의 응급도를 기준으로 진료 순서를 정하려고 합니다. 정수 배열 emergency가 매개변수로 주어질 때 응급도가 높은 순서대로 진료 순서를 정한 배열을 return하도록 solution 함수를 완성해주세요.\n"
   ]
  },
  {
   "cell_type": "code",
   "execution_count": 2,
   "id": "f8d0230a-8f25-46c1-9d4c-2042bcf35ba1",
   "metadata": {},
   "outputs": [],
   "source": [
    "def solution(emergency):\n",
    "    sorted_e = sorted(emergency, reverse=True)\n",
    "    dic = {}\n",
    "    for i, r in enumerate(sorted_e):\n",
    "        dic[r]=i\n",
    "    rank=[]\n",
    "    for i in emergency:\n",
    "        rank.append(dic[i]+1)\n",
    "        \n",
    "    return rank"
   ]
  },
  {
   "cell_type": "code",
   "execution_count": null,
   "id": "3b3cfe1e-391a-4b24-b8bd-cef810c6d049",
   "metadata": {},
   "outputs": [],
   "source": []
  }
 ],
 "metadata": {
  "kernelspec": {
   "display_name": "Python 3 (ipykernel)",
   "language": "python",
   "name": "python3"
  },
  "language_info": {
   "codemirror_mode": {
    "name": "ipython",
    "version": 3
   },
   "file_extension": ".py",
   "mimetype": "text/x-python",
   "name": "python",
   "nbconvert_exporter": "python",
   "pygments_lexer": "ipython3",
   "version": "3.9.12"
  }
 },
 "nbformat": 4,
 "nbformat_minor": 5
}
