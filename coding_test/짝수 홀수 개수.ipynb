{
 "cells": [
  {
   "cell_type": "markdown",
   "id": "9b9f8516-c6ba-4572-b839-9016b35ee831",
   "metadata": {},
   "source": [
    "https://school.programmers.co.kr/learn/courses/30/lessons/120824"
   ]
  },
  {
   "cell_type": "markdown",
   "id": "fc6fcdba-95ff-47ac-a4d6-50bd46a64910",
   "metadata": {},
   "source": [
    "정수가 담긴 리스트 num_list가 주어질 때, num_list의 원소 중 짝수와 홀수의 개수를 담은 배열을 return 하도록 solution 함수를 완성해보세요."
   ]
  },
  {
   "cell_type": "code",
   "execution_count": null,
   "id": "24013d61-48e0-488f-8a8f-fe773e062690",
   "metadata": {},
   "outputs": [],
   "source": [
    "def solution(num_list):\n",
    "    answer = []\n",
    "    even = 0\n",
    "    odd = 0\n",
    "    for i in num_list:\n",
    "        if i%2 == 0:\n",
    "            even += 1\n",
    "        elif i%2 == 1:\n",
    "            odd += 1\n",
    "    answer.append(even)\n",
    "    answer.append(odd)\n",
    "    \n",
    "    return answer"
   ]
  }
 ],
 "metadata": {
  "kernelspec": {
   "display_name": "Python 3 (ipykernel)",
   "language": "python",
   "name": "python3"
  },
  "language_info": {
   "codemirror_mode": {
    "name": "ipython",
    "version": 3
   },
   "file_extension": ".py",
   "mimetype": "text/x-python",
   "name": "python",
   "nbconvert_exporter": "python",
   "pygments_lexer": "ipython3",
   "version": "3.9.12"
  }
 },
 "nbformat": 4,
 "nbformat_minor": 5
}
