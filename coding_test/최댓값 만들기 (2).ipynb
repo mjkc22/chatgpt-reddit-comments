{
 "cells": [
  {
   "cell_type": "markdown",
   "id": "4644d771-e60e-4b8c-94a9-7b49290d71a9",
   "metadata": {},
   "source": [
    "https://school.programmers.co.kr/learn/courses/30/lessons/120862"
   ]
  },
  {
   "cell_type": "markdown",
   "id": "b7257468-e63b-405a-b5c8-fd53ff4ae08c",
   "metadata": {},
   "source": [
    "정수 배열 numbers가 매개변수로 주어집니다. numbers의 원소 중 두 개를 곱해 만들 수 있는 최댓값을 return하도록 solution 함수를 완성해주세요.\n"
   ]
  },
  {
   "cell_type": "code",
   "execution_count": 1,
   "id": "6318e945-60a1-456f-a541-2bfd3ec6e250",
   "metadata": {},
   "outputs": [],
   "source": [
    "def solution(n):\n",
    "    n.sort()\n",
    "    if n[0]*n[1] > n[-1]*n[-2]:\n",
    "        return n[0]*n[1] \n",
    "    else: \n",
    "        return n[-1]*n[-2]"
   ]
  },
  {
   "cell_type": "code",
   "execution_count": null,
   "id": "532d07d5-3e1a-4325-a1a8-cced2967f324",
   "metadata": {},
   "outputs": [],
   "source": []
  }
 ],
 "metadata": {
  "kernelspec": {
   "display_name": "Python 3 (ipykernel)",
   "language": "python",
   "name": "python3"
  },
  "language_info": {
   "codemirror_mode": {
    "name": "ipython",
    "version": 3
   },
   "file_extension": ".py",
   "mimetype": "text/x-python",
   "name": "python",
   "nbconvert_exporter": "python",
   "pygments_lexer": "ipython3",
   "version": "3.9.12"
  }
 },
 "nbformat": 4,
 "nbformat_minor": 5
}
