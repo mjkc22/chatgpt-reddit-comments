{
 "cells": [
  {
   "cell_type": "markdown",
   "id": "8a3826d2-6c42-4971-98f8-c4072ba7f797",
   "metadata": {},
   "source": [
    "https://school.programmers.co.kr/learn/courses/30/lessons/120830"
   ]
  },
  {
   "cell_type": "markdown",
   "id": "f949e7cc-4011-49fa-8b54-c3c524f529f4",
   "metadata": {},
   "source": [
    "머쓱이네 양꼬치 가게는 10인분을 먹으면 음료수 하나를 서비스로 줍니다. 양꼬치는 1인분에 12,000원, 음료수는 2,000원입니다. 정수 n과 k가 매개변수로 주어졌을 때, 양꼬치 n인분과 음료수 k개를 먹었다면 총얼마를 지불해야 하는지 return 하도록 solution 함수를 완성해보세요.\n"
   ]
  },
  {
   "cell_type": "code",
   "execution_count": null,
   "id": "8755175a-6229-4fd8-a0a1-347d6b1ead1f",
   "metadata": {},
   "outputs": [],
   "source": [
    "def solution(n, k):\n",
    "    \n",
    "    if n>=10 :\n",
    "        n_ = n//10\n",
    "        양꼬치 = 12000 * n\n",
    "        음료수 = (2000 * k) - (2000 * n_)\n",
    "        answer = 양꼬치 + 음료수\n",
    "    else:\n",
    "        양꼬치 = 12000 * n\n",
    "        음료수 = 2000 * k\n",
    "        answer = 양꼬치 + 음료수\n",
    "    return answer"
   ]
  }
 ],
 "metadata": {
  "kernelspec": {
   "display_name": "Python 3 (ipykernel)",
   "language": "python",
   "name": "python3"
  },
  "language_info": {
   "codemirror_mode": {
    "name": "ipython",
    "version": 3
   },
   "file_extension": ".py",
   "mimetype": "text/x-python",
   "name": "python",
   "nbconvert_exporter": "python",
   "pygments_lexer": "ipython3",
   "version": "3.9.12"
  }
 },
 "nbformat": 4,
 "nbformat_minor": 5
}
