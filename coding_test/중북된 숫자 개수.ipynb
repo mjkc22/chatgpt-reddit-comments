{
 "cells": [
  {
   "cell_type": "markdown",
   "id": "c8507112-c3a1-449f-9c51-258e1c2f8723",
   "metadata": {},
   "source": [
    "https://school.programmers.co.kr/learn/courses/30/lessons/120583"
   ]
  },
  {
   "cell_type": "markdown",
   "id": "59469fb7-5ef9-434c-a642-c32bb7f1aa13",
   "metadata": {},
   "source": [
    "정수가 담긴 배열 array와 정수 n이 매개변수로 주어질 때, array에 n이 몇 개 있는 지를 return 하도록 solution 함수를 완성해보세요."
   ]
  },
  {
   "cell_type": "code",
   "execution_count": null,
   "id": "85da8a78-6705-4ee1-a621-24a81fda72d0",
   "metadata": {},
   "outputs": [],
   "source": [
    "def solution(array, n):\n",
    "    cnt = 0\n",
    "    for i in array:\n",
    "        if n == i:\n",
    "            cnt += 1\n",
    "    return cnt"
   ]
  }
 ],
 "metadata": {
  "kernelspec": {
   "display_name": "Python 3 (ipykernel)",
   "language": "python",
   "name": "python3"
  },
  "language_info": {
   "codemirror_mode": {
    "name": "ipython",
    "version": 3
   },
   "file_extension": ".py",
   "mimetype": "text/x-python",
   "name": "python",
   "nbconvert_exporter": "python",
   "pygments_lexer": "ipython3",
   "version": "3.9.12"
  }
 },
 "nbformat": 4,
 "nbformat_minor": 5
}
