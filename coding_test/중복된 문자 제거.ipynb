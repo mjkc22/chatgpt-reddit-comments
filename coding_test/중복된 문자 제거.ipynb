{
 "cells": [
  {
   "cell_type": "markdown",
   "id": "f53f6448-b3da-400b-81fe-61e96c9fb093",
   "metadata": {},
   "source": [
    "https://school.programmers.co.kr/learn/courses/30/lessons/120888"
   ]
  },
  {
   "cell_type": "markdown",
   "id": "e6968e10-1317-4202-9ba7-52db47d6947d",
   "metadata": {},
   "source": [
    "문자열 my_string이 매개변수로 주어집니다. my_string에서 중복된 문자를 제거하고 하나의 문자만 남긴 문자열을 return하도록 solution 함수를 완성해주세요."
   ]
  },
  {
   "cell_type": "code",
   "execution_count": 3,
   "id": "b52f9ef6-6f65-49cf-ad5c-e1355fb37242",
   "metadata": {},
   "outputs": [],
   "source": [
    "def solution(my_string):\n",
    "    word= []\n",
    "    for i in my_string:\n",
    "        if i not in word:\n",
    "            word.append(i)\n",
    "    answer = ''.join(word)\n",
    "    return answer"
   ]
  },
  {
   "cell_type": "code",
   "execution_count": null,
   "id": "79e8d41d-7732-48d2-9c97-869851d6e18f",
   "metadata": {},
   "outputs": [],
   "source": []
  }
 ],
 "metadata": {
  "kernelspec": {
   "display_name": "Python 3 (ipykernel)",
   "language": "python",
   "name": "python3"
  },
  "language_info": {
   "codemirror_mode": {
    "name": "ipython",
    "version": 3
   },
   "file_extension": ".py",
   "mimetype": "text/x-python",
   "name": "python",
   "nbconvert_exporter": "python",
   "pygments_lexer": "ipython3",
   "version": "3.9.12"
  }
 },
 "nbformat": 4,
 "nbformat_minor": 5
}
