{
 "cells": [
  {
   "cell_type": "markdown",
   "id": "efadb436-90eb-41ee-b463-787fa7d1a9c4",
   "metadata": {},
   "source": [
    "https://school.programmers.co.kr/learn/courses/30/lessons/120896"
   ]
  },
  {
   "cell_type": "markdown",
   "id": "aa0e06ca-44c4-43ed-bd36-8bc8c64fcd89",
   "metadata": {},
   "source": [
    "문자열 s가 매개변수로 주어집니다. s에서 한 번만 등장하는 문자를 사전 순으로 정렬한 문자열을 return 하도록 solution 함수를 완성해보세요. 한 번만 등장하는 문자가 없을 경우 빈 문자열을 return 합니다.\n"
   ]
  },
  {
   "cell_type": "code",
   "execution_count": 2,
   "id": "2c1cacab-434d-4eff-8ff2-55c3f3ba9849",
   "metadata": {},
   "outputs": [],
   "source": [
    "def solution(s):\n",
    "    answer = []\n",
    "    l =list(s)\n",
    "    l = sorted(l)\n",
    "    for i in l:\n",
    "        if l.count(i) == 1 :\n",
    "            answer.append(i)\n",
    "            a=''.join(answer)\n",
    "    return a"
   ]
  },
  {
   "cell_type": "code",
   "execution_count": null,
   "id": "eb85ad0e-3fe9-4a66-83e6-e3dfef06e9dd",
   "metadata": {},
   "outputs": [],
   "source": []
  }
 ],
 "metadata": {
  "kernelspec": {
   "display_name": "Python 3 (ipykernel)",
   "language": "python",
   "name": "python3"
  },
  "language_info": {
   "codemirror_mode": {
    "name": "ipython",
    "version": 3
   },
   "file_extension": ".py",
   "mimetype": "text/x-python",
   "name": "python",
   "nbconvert_exporter": "python",
   "pygments_lexer": "ipython3",
   "version": "3.9.12"
  }
 },
 "nbformat": 4,
 "nbformat_minor": 5
}
