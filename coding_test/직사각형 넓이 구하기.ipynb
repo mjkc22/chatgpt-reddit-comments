{
 "cells": [
  {
   "cell_type": "markdown",
   "id": "ac19482e-9dae-43f4-8d4c-1e72c97aa912",
   "metadata": {},
   "source": [
    "https://school.programmers.co.kr/learn/courses/30/lessons/120860"
   ]
  },
  {
   "cell_type": "markdown",
   "id": "a314b25b-ab9c-451a-9c5f-8ac5e4e9902e",
   "metadata": {},
   "source": [
    "2차원 좌표 평면에 변이 축과 평행한 직사각형이 있습니다. 직사각형 네 꼭짓점의 좌표 [[x1, y1], [x2, y2], [x3, y3], [x4, y4]]가 담겨있는 배열 dots가 매개변수로 주어질 때, 직사각형의 넓이를 return 하도록 solution 함수를 완성해보세요."
   ]
  },
  {
   "cell_type": "code",
   "execution_count": 1,
   "id": "bd793db6-ad68-45cb-9f9a-378c120ad222",
   "metadata": {},
   "outputs": [],
   "source": [
    "def solution(dots):\n",
    "    x = [dot[0] for dot in dots]\n",
    "    y = [dot[1] for dot in dots]\n",
    "    h = max(x) - min(x)\n",
    "    v = max(y) - min(y)\n",
    "    return h*v"
   ]
  },
  {
   "cell_type": "code",
   "execution_count": null,
   "id": "a9f8df37-1b3a-4c28-8adf-2c06bbb8bffa",
   "metadata": {},
   "outputs": [],
   "source": []
  }
 ],
 "metadata": {
  "kernelspec": {
   "display_name": "Python 3 (ipykernel)",
   "language": "python",
   "name": "python3"
  },
  "language_info": {
   "codemirror_mode": {
    "name": "ipython",
    "version": 3
   },
   "file_extension": ".py",
   "mimetype": "text/x-python",
   "name": "python",
   "nbconvert_exporter": "python",
   "pygments_lexer": "ipython3",
   "version": "3.9.12"
  }
 },
 "nbformat": 4,
 "nbformat_minor": 5
}
