{
 "cells": [
  {
   "cell_type": "markdown",
   "id": "7b8dae86-d5e4-4fd0-bce5-9f99bec28e65",
   "metadata": {},
   "source": [
    "https://school.programmers.co.kr/learn/courses/30/lessons/120912"
   ]
  },
  {
   "cell_type": "markdown",
   "id": "ad7f686d-9ccf-4d53-9339-5c2743ca3a27",
   "metadata": {},
   "source": [
    "머쓱이는 행운의 숫자 7을 가장 좋아합니다. 정수 배열 array가 매개변수로 주어질 때, 7이 총 몇 개 있는지 return 하도록 solution 함수를 완성해보세요."
   ]
  },
  {
   "cell_type": "code",
   "execution_count": 1,
   "id": "ea305cbe-f9d7-46c2-99cd-422ad3c8ddfe",
   "metadata": {},
   "outputs": [],
   "source": [
    "def solution(array):\n",
    "    answer = 0\n",
    "    for i in array:\n",
    "        answer += str(i).count('7')\n",
    "    return answer"
   ]
  }
 ],
 "metadata": {
  "kernelspec": {
   "display_name": "Python 3 (ipykernel)",
   "language": "python",
   "name": "python3"
  },
  "language_info": {
   "codemirror_mode": {
    "name": "ipython",
    "version": 3
   },
   "file_extension": ".py",
   "mimetype": "text/x-python",
   "name": "python",
   "nbconvert_exporter": "python",
   "pygments_lexer": "ipython3",
   "version": "3.9.12"
  }
 },
 "nbformat": 4,
 "nbformat_minor": 5
}
