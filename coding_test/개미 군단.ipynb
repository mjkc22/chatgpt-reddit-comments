{
 "cells": [
  {
   "cell_type": "markdown",
   "id": "748100f6-b6ad-4ec3-84c7-833668a76e8a",
   "metadata": {},
   "source": [
    "https://school.programmers.co.kr/learn/courses/30/lessons/120837"
   ]
  },
  {
   "cell_type": "markdown",
   "id": "0dfbfd2e-7407-4ad1-8c4b-b5f358f9d312",
   "metadata": {},
   "source": [
    "개미 군단이 사냥을 나가려고 합니다. 개미군단은 사냥감의 체력에 딱 맞는 병력을 데리고 나가려고 합니다. 장군개미는 5의 공격력을, 병정개미는 3의 공격력을 일개미는 1의 공격력을 가지고 있습니다. 예를 들어 체력 23의 여치를 사냥하려고 할 때, 일개미 23마리를 데리고 가도 되지만, 장군개미 네 마리와 병정개미 한 마리를 데리고 간다면 더 적은 병력으로 사냥할 수 있습니다. 사냥감의 체력 hp가 매개변수로 주어질 때, 사냥감의 체력에 딱 맞게 최소한의 병력을 구성하려면 몇 마리의 개미가 필요한지를 return하도록 solution 함수를 완성해주세요."
   ]
  },
  {
   "cell_type": "code",
   "execution_count": null,
   "id": "1b0071b3-fc23-4a00-88ba-121e7f06f041",
   "metadata": {},
   "outputs": [],
   "source": [
    "def solution(hp):\n",
    "    g= hp//5 \n",
    "    g_= hp%5 \n",
    "    s = g_//3\n",
    "    s_ = g_%3 \n",
    "    \n",
    "    return  g+s+s_"
   ]
  }
 ],
 "metadata": {
  "kernelspec": {
   "display_name": "Python 3 (ipykernel)",
   "language": "python",
   "name": "python3"
  },
  "language_info": {
   "codemirror_mode": {
    "name": "ipython",
    "version": 3
   },
   "file_extension": ".py",
   "mimetype": "text/x-python",
   "name": "python",
   "nbconvert_exporter": "python",
   "pygments_lexer": "ipython3",
   "version": "3.9.12"
  }
 },
 "nbformat": 4,
 "nbformat_minor": 5
}
