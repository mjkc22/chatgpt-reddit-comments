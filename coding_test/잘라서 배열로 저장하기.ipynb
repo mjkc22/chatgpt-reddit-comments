{
 "cells": [
  {
   "cell_type": "markdown",
   "id": "1c0f48c9-10f8-4f00-b8a5-fa7fa6cd5ddd",
   "metadata": {},
   "source": [
    "https://school.programmers.co.kr/learn/courses/30/lessons/120913"
   ]
  },
  {
   "cell_type": "markdown",
   "id": "ab341540-e500-4811-9589-d7bbccb2598e",
   "metadata": {},
   "source": [
    "문자열 my_str과 n이 매개변수로 주어질 때, my_str을 길이 n씩 잘라서 저장한 배열을 return하도록 solution 함수를 완성해주세요."
   ]
  },
  {
   "cell_type": "code",
   "execution_count": 1,
   "id": "ffc70340-7389-46a2-ac0f-a3d816f140c2",
   "metadata": {},
   "outputs": [],
   "source": [
    "def solution(my_str, n):\n",
    "    ls = []\n",
    "    for i in [_ for _ in range(0, len(my_str), n)]:\n",
    "        ls.append(my_str[i:i+n])\n",
    "    return ls"
   ]
  },
  {
   "cell_type": "code",
   "execution_count": null,
   "id": "43cc2469-b743-4cc9-8559-fa1ef82caf0f",
   "metadata": {},
   "outputs": [],
   "source": []
  }
 ],
 "metadata": {
  "kernelspec": {
   "display_name": "Python 3 (ipykernel)",
   "language": "python",
   "name": "python3"
  },
  "language_info": {
   "codemirror_mode": {
    "name": "ipython",
    "version": 3
   },
   "file_extension": ".py",
   "mimetype": "text/x-python",
   "name": "python",
   "nbconvert_exporter": "python",
   "pygments_lexer": "ipython3",
   "version": "3.9.12"
  }
 },
 "nbformat": 4,
 "nbformat_minor": 5
}
