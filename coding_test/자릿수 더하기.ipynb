{
 "cells": [
  {
   "cell_type": "markdown",
   "id": "e1381fd7-a2b8-4eea-9525-3d20c32efd13",
   "metadata": {},
   "source": [
    "https://school.programmers.co.kr/learn/courses/30/lessons/120906"
   ]
  },
  {
   "cell_type": "markdown",
   "id": "c8f43e98-95c6-472e-8e07-aef6f99e9242",
   "metadata": {},
   "source": [
    "정수 n이 매개변수로 주어질 때 n의 각 자리 숫자의 합을 return하도록 solution 함수를 완성해주세요"
   ]
  },
  {
   "cell_type": "code",
   "execution_count": null,
   "id": "a4f74216-b42c-4b1b-9ff1-e41e002fa9f9",
   "metadata": {},
   "outputs": [],
   "source": [
    "def solution(n):\n",
    "    nn = list(str(n))\n",
    "    sum = 0\n",
    "    for i in range(len(nn)):\n",
    "        sum += int(nn[i])\n",
    "    return sum"
   ]
  }
 ],
 "metadata": {
  "kernelspec": {
   "display_name": "Python 3 (ipykernel)",
   "language": "python",
   "name": "python3"
  },
  "language_info": {
   "codemirror_mode": {
    "name": "ipython",
    "version": 3
   },
   "file_extension": ".py",
   "mimetype": "text/x-python",
   "name": "python",
   "nbconvert_exporter": "python",
   "pygments_lexer": "ipython3",
   "version": "3.9.12"
  }
 },
 "nbformat": 4,
 "nbformat_minor": 5
}
