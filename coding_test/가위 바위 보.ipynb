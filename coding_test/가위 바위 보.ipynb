{
 "cells": [
  {
   "cell_type": "markdown",
   "id": "5d63e8b1-a288-49e5-a078-2707da8226fa",
   "metadata": {},
   "source": [
    "https://school.programmers.co.kr/learn/courses/30/lessons/120839"
   ]
  },
  {
   "cell_type": "markdown",
   "id": "0f173b86-6a88-4dbd-aa0e-833210a9286f",
   "metadata": {},
   "source": [
    "가위는 2 바위는 0 보는 5로 표현합니다. 가위 바위 보를 내는 순서대로 나타낸 문자열 rsp가 매개변수로 주어질 때, rsp에 저장된 가위 바위 보를 모두 이기는 경우를 순서대로 나타낸 문자열을 return하도록 solution 함수를 완성해보세요.\n"
   ]
  },
  {
   "cell_type": "code",
   "execution_count": null,
   "id": "c8798365-bd0e-4557-a09b-c0f63340e6e7",
   "metadata": {},
   "outputs": [],
   "source": [
    "def solution(rsp):\n",
    "    answer = ''\n",
    "    for i in rsp:\n",
    "        if i == '2':\n",
    "            answer += '0'\n",
    "        elif i == '0':\n",
    "            answer += '5'\n",
    "        elif i == '5':\n",
    "            answer += '2'\n",
    "            \n",
    "    return answer"
   ]
  }
 ],
 "metadata": {
  "kernelspec": {
   "display_name": "Python 3 (ipykernel)",
   "language": "python",
   "name": "python3"
  },
  "language_info": {
   "codemirror_mode": {
    "name": "ipython",
    "version": 3
   },
   "file_extension": ".py",
   "mimetype": "text/x-python",
   "name": "python",
   "nbconvert_exporter": "python",
   "pygments_lexer": "ipython3",
   "version": "3.9.12"
  }
 },
 "nbformat": 4,
 "nbformat_minor": 5
}
