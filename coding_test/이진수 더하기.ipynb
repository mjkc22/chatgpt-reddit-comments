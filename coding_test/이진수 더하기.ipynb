{
 "cells": [
  {
   "cell_type": "markdown",
   "id": "ba9601d4-ed06-463e-a426-b704aacccdec",
   "metadata": {},
   "source": [
    "https://school.programmers.co.kr/learn/courses/30/lessons/120885"
   ]
  },
  {
   "cell_type": "markdown",
   "id": "e6673190-c992-441f-9167-f43fe5f4b816",
   "metadata": {},
   "source": [
    "이진수를 의미하는 두 개의 문자열 bin1과 bin2가 매개변수로 주어질 때, 두 이진수의 합을 return하도록 solution 함수를 완성해주세요."
   ]
  },
  {
   "cell_type": "code",
   "execution_count": 3,
   "id": "c5eec529-43db-4403-8280-1769fbcfa5dd",
   "metadata": {},
   "outputs": [],
   "source": [
    "def solution(bin1, bin2):\n",
    "    num1= int(bin1, 2)\n",
    "    num2= int(bin2, 2)\n",
    "    answer = bin(num1 + num2)[2:]\n",
    "    return answer"
   ]
  },
  {
   "cell_type": "code",
   "execution_count": null,
   "id": "98045206-bd0e-4489-88bb-19ca2e6fc1f3",
   "metadata": {},
   "outputs": [],
   "source": []
  }
 ],
 "metadata": {
  "kernelspec": {
   "display_name": "Python 3 (ipykernel)",
   "language": "python",
   "name": "python3"
  },
  "language_info": {
   "codemirror_mode": {
    "name": "ipython",
    "version": 3
   },
   "file_extension": ".py",
   "mimetype": "text/x-python",
   "name": "python",
   "nbconvert_exporter": "python",
   "pygments_lexer": "ipython3",
   "version": "3.9.12"
  }
 },
 "nbformat": 4,
 "nbformat_minor": 5
}
