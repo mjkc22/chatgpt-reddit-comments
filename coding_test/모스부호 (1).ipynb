{
 "cells": [
  {
   "cell_type": "markdown",
   "id": "d20d11a5-7a60-40e7-910d-ea75d95a3443",
   "metadata": {},
   "source": [
    "https://school.programmers.co.kr/learn/courses/30/lessons/120838"
   ]
  },
  {
   "cell_type": "markdown",
   "id": "f9b55cf3-231a-4493-bb4b-2623055fcf63",
   "metadata": {},
   "source": [
    "머쓱이는 친구에게 모스부호를 이용한 편지를 받았습니다. 그냥은 읽을 수 없어 이를 해독하는 프로그램을 만들려고 합니다. 문자열 letter가 매개변수로 주어질 때, letter를 영어 소문자로 바꾼 문자열을 return 하도록 solution 함수를 완성해보세요.\n",
    "모스부호는 다음과 같습니다."
   ]
  },
  {
   "cell_type": "code",
   "execution_count": 1,
   "id": "56f911ce-c14c-4309-9e9b-6dac37729469",
   "metadata": {},
   "outputs": [],
   "source": [
    "def solution(letter):\n",
    "    m =[\".-\",\"-...\",\"-.-.\",\"-..\",\".\",\"..-.\",\"--.\",\"....\",\"..\",\".---\",\"-.-\",\".-..\",\"--\",\"-.\",\"---\",\".--.\",\"--.-\",\".-.\",\"...\",\"-\",\"..-\",\"...-\",\".--\",\"-..-\",\"-.--\",\"--..\"]\n",
    "    a = 'abcdefghijklmnopqrstuvwxyz'\n",
    "    l2 =letter.split(' ')\n",
    "    d = dict(zip(m, list(a)))\n",
    "    answer = ''\n",
    "    for i in l2:\n",
    "        answer += d[i]\n",
    "    return answer"
   ]
  },
  {
   "cell_type": "code",
   "execution_count": null,
   "id": "52bfe478-f2e0-40a7-97c8-8920e1355a4f",
   "metadata": {},
   "outputs": [],
   "source": []
  }
 ],
 "metadata": {
  "kernelspec": {
   "display_name": "Python 3 (ipykernel)",
   "language": "python",
   "name": "python3"
  },
  "language_info": {
   "codemirror_mode": {
    "name": "ipython",
    "version": 3
   },
   "file_extension": ".py",
   "mimetype": "text/x-python",
   "name": "python",
   "nbconvert_exporter": "python",
   "pygments_lexer": "ipython3",
   "version": "3.9.12"
  }
 },
 "nbformat": 4,
 "nbformat_minor": 5
}
