{
 "cells": [
  {
   "cell_type": "markdown",
   "id": "da9b8cac-79d6-4d12-ba1f-8e191d59710a",
   "metadata": {},
   "source": [
    "https://school.programmers.co.kr/learn/courses/30/lessons/120851"
   ]
  },
  {
   "cell_type": "markdown",
   "id": "173137e5-8131-497c-ad8d-f4cab7598941",
   "metadata": {},
   "source": [
    "문자열 my_string이 매개변수로 주어집니다. my_string안의 모든 자연수들의 합을 return하도록 solution 함수를 완성해주세요.\n"
   ]
  },
  {
   "cell_type": "code",
   "execution_count": 1,
   "id": "482ff0fd-fbe7-4bda-a3c6-a423d1a993bf",
   "metadata": {},
   "outputs": [],
   "source": [
    "def solution(my_string):\n",
    "    a=range(10)\n",
    "    return sum([int(i) for i in list(my_string) if (i in a)])"
   ]
  },
  {
   "cell_type": "code",
   "execution_count": null,
   "id": "21a3860d-ef6b-44cc-b3d4-5f63fe4413cf",
   "metadata": {},
   "outputs": [],
   "source": []
  }
 ],
 "metadata": {
  "kernelspec": {
   "display_name": "Python 3 (ipykernel)",
   "language": "python",
   "name": "python3"
  },
  "language_info": {
   "codemirror_mode": {
    "name": "ipython",
    "version": 3
   },
   "file_extension": ".py",
   "mimetype": "text/x-python",
   "name": "python",
   "nbconvert_exporter": "python",
   "pygments_lexer": "ipython3",
   "version": "3.9.12"
  }
 },
 "nbformat": 4,
 "nbformat_minor": 5
}
