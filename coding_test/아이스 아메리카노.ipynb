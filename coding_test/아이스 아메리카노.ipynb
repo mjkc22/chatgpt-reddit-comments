{
 "cells": [
  {
   "cell_type": "markdown",
   "id": "2d8d1d57-92ec-4c54-a18b-6ad19bebe37f",
   "metadata": {},
   "source": [
    "https://school.programmers.co.kr/learn/courses/30/lessons/120819"
   ]
  },
  {
   "cell_type": "markdown",
   "id": "62b77079-a2df-4c5e-a17c-a1c3457be4ff",
   "metadata": {},
   "source": [
    "머쓱이는 추운 날에도 아이스 아메리카노만 마십니다. 아이스 아메리카노는 한잔에 5,500원입니다. 머쓱이가 가지고 있는 돈 money가 매개변수로 주어질 때, 머쓱이가 최대로 마실 수 있는 아메리카노의 잔 수와 남는 돈을 순서대로 담은 배열을 return 하도록 solution 함수를 완성해보세요.\n"
   ]
  },
  {
   "cell_type": "code",
   "execution_count": null,
   "id": "7c8b8fab-540c-4809-8d6e-65d0bb99c0cb",
   "metadata": {},
   "outputs": [],
   "source": [
    "def solution(money):\n",
    "    ice_americano = 5500\n",
    "    max_americano = money // ice_americano\n",
    "    money_left = int(money%ice_americano)\n",
    "    return [max_americano, money_left]"
   ]
  }
 ],
 "metadata": {
  "kernelspec": {
   "display_name": "Python 3 (ipykernel)",
   "language": "python",
   "name": "python3"
  },
  "language_info": {
   "codemirror_mode": {
    "name": "ipython",
    "version": 3
   },
   "file_extension": ".py",
   "mimetype": "text/x-python",
   "name": "python",
   "nbconvert_exporter": "python",
   "pygments_lexer": "ipython3",
   "version": "3.9.12"
  }
 },
 "nbformat": 4,
 "nbformat_minor": 5
}
