{
 "cells": [
  {
   "cell_type": "markdown",
   "id": "293db980-407c-4459-aea7-51e4a67df56b",
   "metadata": {},
   "source": [
    "https://school.programmers.co.kr/learn/courses/30/lessons/120869"
   ]
  },
  {
   "cell_type": "markdown",
   "id": "1049c5b7-da0d-4123-bb26-6dc0d6215102",
   "metadata": {},
   "source": [
    "PROGRAMMERS-962 행성에 불시착한 우주비행사 머쓱이는 외계행성의 언어를 공부하려고 합니다. 알파벳이 담긴 배열 spell과 외계어 사전 dic이 매개변수로 주어집니다. spell에 담긴 알파벳을 한번씩만 모두 사용한 단어가 dic에 존재한다면 1, 존재하지 않는다면 2를 return하도록 solution 함수를 완성해주세요."
   ]
  },
  {
   "cell_type": "code",
   "execution_count": 1,
   "id": "e1b054e9-6a59-473c-baae-685bb248c57a",
   "metadata": {},
   "outputs": [],
   "source": [
    "def solution(spell, dic):\n",
    "    answer = []\n",
    "    for i in dic:\n",
    "        if set(i) == set(spell):\n",
    "            answer.append(1)\n",
    "        else:\n",
    "            answer.append(2)\n",
    "        \n",
    "    if 1 in answer:\n",
    "        return 1\n",
    "    else:\n",
    "        return 2"
   ]
  },
  {
   "cell_type": "code",
   "execution_count": null,
   "id": "44e6ea79-dafb-4ff4-a89c-496d429168da",
   "metadata": {},
   "outputs": [],
   "source": []
  }
 ],
 "metadata": {
  "kernelspec": {
   "display_name": "Python 3 (ipykernel)",
   "language": "python",
   "name": "python3"
  },
  "language_info": {
   "codemirror_mode": {
    "name": "ipython",
    "version": 3
   },
   "file_extension": ".py",
   "mimetype": "text/x-python",
   "name": "python",
   "nbconvert_exporter": "python",
   "pygments_lexer": "ipython3",
   "version": "3.9.12"
  }
 },
 "nbformat": 4,
 "nbformat_minor": 5
}
