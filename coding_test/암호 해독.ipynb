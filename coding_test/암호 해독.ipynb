{
 "cells": [
  {
   "cell_type": "markdown",
   "id": "128b2544-96da-4e6a-8393-8726af0d6a0b",
   "metadata": {},
   "source": [
    "https://school.programmers.co.kr/learn/courses/30/lessons/120892"
   ]
  },
  {
   "cell_type": "markdown",
   "id": "bc33fa47-3328-4d3b-b485-644cebb08edf",
   "metadata": {},
   "source": [
    "군 전략가 머쓱이는 전쟁 중 적군이 다음과 같은 암호 체계를 사용한다는 것을 알아냈습니다.\n",
    "\n",
    "암호화된 문자열 cipher를 주고받습니다.\n",
    "\n",
    "그 문자열에서 code의 배수 번째 글자만 진짜 암호입니다.\n",
    "\n",
    "문자열 cipher와 정수 code가 매개변수로 주어질 때 해독된 암호 문자열을 return하도록 solution 함수를 완성해주세요."
   ]
  },
  {
   "cell_type": "code",
   "execution_count": null,
   "id": "aaa59c6f-959f-4edd-9633-e34224c30925",
   "metadata": {},
   "outputs": [],
   "source": [
    "def solution(cipher, code):\n",
    "    answer = ''\n",
    "    for i in cipher[code-1::code]:\n",
    "        answer += i\n",
    "    return answer"
   ]
  }
 ],
 "metadata": {
  "kernelspec": {
   "display_name": "Python 3 (ipykernel)",
   "language": "python",
   "name": "python3"
  },
  "language_info": {
   "codemirror_mode": {
    "name": "ipython",
    "version": 3
   },
   "file_extension": ".py",
   "mimetype": "text/x-python",
   "name": "python",
   "nbconvert_exporter": "python",
   "pygments_lexer": "ipython3",
   "version": "3.9.12"
  }
 },
 "nbformat": 4,
 "nbformat_minor": 5
}
