{
 "cells": [
  {
   "cell_type": "markdown",
   "id": "4543edad-a9dd-467e-a06e-640a21a1960e",
   "metadata": {},
   "source": [
    "https://school.programmers.co.kr/learn/courses/30/lessons/120903"
   ]
  },
  {
   "cell_type": "markdown",
   "id": "c2da9e02-d99d-4dfa-8400-a83e07fec7a4",
   "metadata": {},
   "source": [
    "두 배열이 얼마나 유사한지 확인해보려고 합니다. 문자열 배열 s1과 s2가 주어질 때 같은 원소의 개수를 return하도록 solution 함수를 완성해주세요."
   ]
  },
  {
   "cell_type": "code",
   "execution_count": 1,
   "id": "13ecb320-2ce4-4637-99c0-e02977522afe",
   "metadata": {},
   "outputs": [],
   "source": [
    "def solution(s1, s2):\n",
    "    cnt = 0\n",
    "    for i in s1:\n",
    "        if i in s2:\n",
    "            cnt += 1 \n",
    "    return cnt"
   ]
  },
  {
   "cell_type": "code",
   "execution_count": null,
   "id": "2f8f0f50-1455-4662-be05-de1861825707",
   "metadata": {},
   "outputs": [],
   "source": []
  }
 ],
 "metadata": {
  "kernelspec": {
   "display_name": "Python 3 (ipykernel)",
   "language": "python",
   "name": "python3"
  },
  "language_info": {
   "codemirror_mode": {
    "name": "ipython",
    "version": 3
   },
   "file_extension": ".py",
   "mimetype": "text/x-python",
   "name": "python",
   "nbconvert_exporter": "python",
   "pygments_lexer": "ipython3",
   "version": "3.9.12"
  }
 },
 "nbformat": 4,
 "nbformat_minor": 5
}
