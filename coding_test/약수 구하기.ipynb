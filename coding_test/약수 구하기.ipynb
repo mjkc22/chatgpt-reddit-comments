{
 "cells": [
  {
   "cell_type": "markdown",
   "id": "b3ca05af-b3b3-4a8c-a26b-06b1ea0c3dd5",
   "metadata": {},
   "source": [
    "https://school.programmers.co.kr/learn/courses/30/lessons/120897"
   ]
  },
  {
   "cell_type": "markdown",
   "id": "c6459d07-e4eb-401f-aef6-ee5cd0a23f23",
   "metadata": {},
   "source": [
    "정수 n이 매개변수로 주어질 때, n의 약수를 오름차순으로 담은 배열을 return하도록 solution 함수를 완성해주세요."
   ]
  },
  {
   "cell_type": "code",
   "execution_count": 2,
   "id": "079aa6e0-e73c-4b52-9a24-fa55cc826e6e",
   "metadata": {},
   "outputs": [],
   "source": [
    "def solution(n):\n",
    "    answer =[]\n",
    "    ls = range(1, n+1)\n",
    "    for i in ls:\n",
    "        if n%i==0:\n",
    "            answer.append(i)\n",
    "    return answer"
   ]
  },
  {
   "cell_type": "code",
   "execution_count": null,
   "id": "6c036859-d2ce-4163-8668-d67b94642406",
   "metadata": {},
   "outputs": [],
   "source": []
  }
 ],
 "metadata": {
  "kernelspec": {
   "display_name": "Python 3 (ipykernel)",
   "language": "python",
   "name": "python3"
  },
  "language_info": {
   "codemirror_mode": {
    "name": "ipython",
    "version": 3
   },
   "file_extension": ".py",
   "mimetype": "text/x-python",
   "name": "python",
   "nbconvert_exporter": "python",
   "pygments_lexer": "ipython3",
   "version": "3.9.12"
  }
 },
 "nbformat": 4,
 "nbformat_minor": 5
}
