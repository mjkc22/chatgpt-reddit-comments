{
 "cells": [
  {
   "cell_type": "markdown",
   "id": "531fa75f-de49-4a7c-903c-7d542371bb65",
   "metadata": {},
   "source": [
    "https://school.programmers.co.kr/learn/courses/30/lessons/120831"
   ]
  },
  {
   "cell_type": "markdown",
   "id": "53f6b09f-3667-4e1b-b0bd-5b1403c8d3fc",
   "metadata": {},
   "source": [
    "정수 n이 주어질 때, n이하의 짝수를 모두 더한 값을 return 하도록 solution 함수를 작성해주세요."
   ]
  },
  {
   "cell_type": "code",
   "execution_count": null,
   "id": "0dfbd4f7-5a22-4a58-a4f4-b7afdc6cba95",
   "metadata": {},
   "outputs": [],
   "source": [
    "def solution(n):\n",
    "    \n",
    "    sum = 0 \n",
    "    \n",
    "    for i in range(2, n+1, 2):\n",
    "        sum += i\n",
    "    return sum"
   ]
  }
 ],
 "metadata": {
  "kernelspec": {
   "display_name": "Python 3 (ipykernel)",
   "language": "python",
   "name": "python3"
  },
  "language_info": {
   "codemirror_mode": {
    "name": "ipython",
    "version": 3
   },
   "file_extension": ".py",
   "mimetype": "text/x-python",
   "name": "python",
   "nbconvert_exporter": "python",
   "pygments_lexer": "ipython3",
   "version": "3.9.12"
  }
 },
 "nbformat": 4,
 "nbformat_minor": 5
}
