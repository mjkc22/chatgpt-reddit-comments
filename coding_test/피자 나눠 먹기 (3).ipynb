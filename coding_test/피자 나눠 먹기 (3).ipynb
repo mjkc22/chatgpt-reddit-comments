{
 "cells": [
  {
   "cell_type": "markdown",
   "id": "4376f6ff-c4cb-4edb-81ee-fecac490ad11",
   "metadata": {},
   "source": [
    "https://school.programmers.co.kr/learn/courses/30/lessons/120816"
   ]
  },
  {
   "cell_type": "markdown",
   "id": "4db7a4f8-f4bc-4519-a10f-ed5b83e9b1fc",
   "metadata": {},
   "source": [
    "머쓱이네 피자가게는 피자를 두 조각에서 열 조각까지 원하는 조각 수로 잘라줍니다. 피자 조각 수 slice와 피자를 먹는 사람의 수 n이 매개변수로 주어질 때, n명의 사람이 최소 한 조각 이상 피자를 먹으려면 최소 몇 판의 피자를 시켜야 하는지를 return 하도록 solution 함수를 완성해보세요."
   ]
  },
  {
   "cell_type": "code",
   "execution_count": null,
   "id": "2d754332-95ab-473a-a8a0-e59117d2bdb4",
   "metadata": {},
   "outputs": [],
   "source": [
    "def solution(slice, n):\n",
    "    if n%slice == 0 :\n",
    "        answer = n//slice\n",
    "    else:    \n",
    "        answer = n//slice + 1\n",
    "    return answer"
   ]
  }
 ],
 "metadata": {
  "kernelspec": {
   "display_name": "Python 3 (ipykernel)",
   "language": "python",
   "name": "python3"
  },
  "language_info": {
   "codemirror_mode": {
    "name": "ipython",
    "version": 3
   },
   "file_extension": ".py",
   "mimetype": "text/x-python",
   "name": "python",
   "nbconvert_exporter": "python",
   "pygments_lexer": "ipython3",
   "version": "3.9.12"
  }
 },
 "nbformat": 4,
 "nbformat_minor": 5
}
